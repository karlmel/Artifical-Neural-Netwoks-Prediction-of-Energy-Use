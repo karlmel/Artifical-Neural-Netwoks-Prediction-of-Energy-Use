{
  "nbformat": 4,
  "nbformat_minor": 0,
  "metadata": {
    "colab": {
      "provenance": [],
      "authorship_tag": "ABX9TyPpJAY2BWiKH23nHgcPEJS1",
      "include_colab_link": true
    },
    "kernelspec": {
      "name": "python3",
      "display_name": "Python 3"
    },
    "language_info": {
      "name": "python"
    }
  },
  "cells": [
    {
      "cell_type": "markdown",
      "metadata": {
        "id": "view-in-github",
        "colab_type": "text"
      },
      "source": [
        "<a href=\"https://colab.research.google.com/github/karlmel/Artifical-Neural-Netwoks-Prediction-of-Energy-Use/blob/main/ENERJI_TAHMINI_ARTICLE_End.ipynb\" target=\"_parent\"><img src=\"https://colab.research.google.com/assets/colab-badge.svg\" alt=\"Open In Colab\"/></a>"
      ]
    },
    {
      "cell_type": "code",
      "execution_count": null,
      "metadata": {
        "id": "Km1sbdtrQ6b7"
      },
      "outputs": [],
      "source": [
        "from sklearn.metrics import mean_absolute_error, mean_squared_error\n",
        "from tensorflow.keras.models import load_model\n",
        "from tensorflow.keras.layers import Dense, Activation\n",
        "from tensorflow.keras.models import Sequential\n",
        "import tensorflow as tf\n",
        "from sklearn.preprocessing import MinMaxScaler\n",
        "from sklearn.model_selection import train_test_split\n",
        "import matplotlib.pyplot as plt\n",
        "import seaborn as sns\n",
        "import pandas as pd\n",
        "import numpy as np"
      ]
    },
    {
      "cell_type": "code",
      "source": [
        "df=pd.read_excel('TUM_BEBTR_YAPIMSISTMLI.xlsx', index_col='BINAKODU')\n",
        "df"
      ],
      "metadata": {
        "colab": {
          "base_uri": "https://localhost:8080/",
          "height": 475
        },
        "id": "TzAmkEYKRHzK",
        "outputId": "712f6f2e-d9cd-4a5b-de94-3a20e30570f1"
      },
      "execution_count": null,
      "outputs": [
        {
          "output_type": "execute_result",
          "data": {
            "text/plain": [
              "            TOPLAM_INS  KOMPAKTLIK    EN_BOY  TABANALANI  bitisik  Brlsk_Oran  \\\n",
              "BINAKODU                                                                        \n",
              "100014885   285.266497    0.866872  0.819327    142.6330      0.0           0   \n",
              "100018845   386.058753    1.019046  0.617805     77.2118      0.0           0   \n",
              "100041011   998.000227    0.716408  0.659070    166.3330      0.0           0   \n",
              "100072172   768.267803    0.818591  0.562516    128.0450      0.0           0   \n",
              "100079979   568.070136    0.860113  0.561321    113.6140      0.0           0   \n",
              "...                ...         ...       ...         ...      ...         ...   \n",
              "779535822   941.629643    0.674348  0.713099    188.3260      0.0           0   \n",
              "779546993   567.472905    0.863998  0.563616    113.4950      0.0           0   \n",
              "779870674   650.659028    0.791030  0.750360    130.1320      0.0           0   \n",
              "779961630   319.581881    1.182674  0.853421     53.2636      0.0           0   \n",
              "779986439  1248.272570    0.717441  0.456150    178.3250      0.0           0   \n",
              "\n",
              "           BITISIKENR  ZEMINUSTUK  TUM_KAT  YAPI_SISTE  YIL     Enerji_Ala  \\\n",
              "BINAKODU                                                                     \n",
              "100014885         0.0           2        2           4    3     153.454007   \n",
              "100018845         0.0           4        5           4    4     112.109192   \n",
              "100041011         0.0           4        6           4    2     144.903769   \n",
              "100072172         0.0           4        6           4    3     164.651479   \n",
              "100079979         0.0           4        5           4    4     150.490824   \n",
              "...               ...         ...      ...         ...  ...            ...   \n",
              "779535822         0.0           4        5           4    4     130.253538   \n",
              "779546993         0.0           4        5           4    4     127.282483   \n",
              "779870674         0.0           4        5           4    4     131.115430   \n",
              "779961630         0.0           4        6           3    4     161.143524   \n",
              "779986439         0.0           5        7           4    4  104697.301600   \n",
              "\n",
              "                 ENERJI  \n",
              "BINAKODU                 \n",
              "100014885  3.257984e+04  \n",
              "100018845  6.715705e+04  \n",
              "100041011  1.007877e+05  \n",
              "100072172  1.361750e+05  \n",
              "100079979  3.510917e+04  \n",
              "...                 ...  \n",
              "779535822  7.324858e+04  \n",
              "779546993  5.316563e+04  \n",
              "779870674  7.125337e+04  \n",
              "779961630  5.031462e+04  \n",
              "779986439  8.065432e+07  \n",
              "\n",
              "[41006 rows x 13 columns]"
            ],
            "text/html": [
              "\n",
              "  <div id=\"df-286cbc74-9e9d-4ea7-b097-9bdc9178bc3c\" class=\"colab-df-container\">\n",
              "    <div>\n",
              "<style scoped>\n",
              "    .dataframe tbody tr th:only-of-type {\n",
              "        vertical-align: middle;\n",
              "    }\n",
              "\n",
              "    .dataframe tbody tr th {\n",
              "        vertical-align: top;\n",
              "    }\n",
              "\n",
              "    .dataframe thead th {\n",
              "        text-align: right;\n",
              "    }\n",
              "</style>\n",
              "<table border=\"1\" class=\"dataframe\">\n",
              "  <thead>\n",
              "    <tr style=\"text-align: right;\">\n",
              "      <th></th>\n",
              "      <th>TOPLAM_INS</th>\n",
              "      <th>KOMPAKTLIK</th>\n",
              "      <th>EN_BOY</th>\n",
              "      <th>TABANALANI</th>\n",
              "      <th>bitisik</th>\n",
              "      <th>Brlsk_Oran</th>\n",
              "      <th>BITISIKENR</th>\n",
              "      <th>ZEMINUSTUK</th>\n",
              "      <th>TUM_KAT</th>\n",
              "      <th>YAPI_SISTE</th>\n",
              "      <th>YIL</th>\n",
              "      <th>Enerji_Ala</th>\n",
              "      <th>ENERJI</th>\n",
              "    </tr>\n",
              "    <tr>\n",
              "      <th>BINAKODU</th>\n",
              "      <th></th>\n",
              "      <th></th>\n",
              "      <th></th>\n",
              "      <th></th>\n",
              "      <th></th>\n",
              "      <th></th>\n",
              "      <th></th>\n",
              "      <th></th>\n",
              "      <th></th>\n",
              "      <th></th>\n",
              "      <th></th>\n",
              "      <th></th>\n",
              "      <th></th>\n",
              "    </tr>\n",
              "  </thead>\n",
              "  <tbody>\n",
              "    <tr>\n",
              "      <th>100014885</th>\n",
              "      <td>285.266497</td>\n",
              "      <td>0.866872</td>\n",
              "      <td>0.819327</td>\n",
              "      <td>142.6330</td>\n",
              "      <td>0.0</td>\n",
              "      <td>0</td>\n",
              "      <td>0.0</td>\n",
              "      <td>2</td>\n",
              "      <td>2</td>\n",
              "      <td>4</td>\n",
              "      <td>3</td>\n",
              "      <td>153.454007</td>\n",
              "      <td>3.257984e+04</td>\n",
              "    </tr>\n",
              "    <tr>\n",
              "      <th>100018845</th>\n",
              "      <td>386.058753</td>\n",
              "      <td>1.019046</td>\n",
              "      <td>0.617805</td>\n",
              "      <td>77.2118</td>\n",
              "      <td>0.0</td>\n",
              "      <td>0</td>\n",
              "      <td>0.0</td>\n",
              "      <td>4</td>\n",
              "      <td>5</td>\n",
              "      <td>4</td>\n",
              "      <td>4</td>\n",
              "      <td>112.109192</td>\n",
              "      <td>6.715705e+04</td>\n",
              "    </tr>\n",
              "    <tr>\n",
              "      <th>100041011</th>\n",
              "      <td>998.000227</td>\n",
              "      <td>0.716408</td>\n",
              "      <td>0.659070</td>\n",
              "      <td>166.3330</td>\n",
              "      <td>0.0</td>\n",
              "      <td>0</td>\n",
              "      <td>0.0</td>\n",
              "      <td>4</td>\n",
              "      <td>6</td>\n",
              "      <td>4</td>\n",
              "      <td>2</td>\n",
              "      <td>144.903769</td>\n",
              "      <td>1.007877e+05</td>\n",
              "    </tr>\n",
              "    <tr>\n",
              "      <th>100072172</th>\n",
              "      <td>768.267803</td>\n",
              "      <td>0.818591</td>\n",
              "      <td>0.562516</td>\n",
              "      <td>128.0450</td>\n",
              "      <td>0.0</td>\n",
              "      <td>0</td>\n",
              "      <td>0.0</td>\n",
              "      <td>4</td>\n",
              "      <td>6</td>\n",
              "      <td>4</td>\n",
              "      <td>3</td>\n",
              "      <td>164.651479</td>\n",
              "      <td>1.361750e+05</td>\n",
              "    </tr>\n",
              "    <tr>\n",
              "      <th>100079979</th>\n",
              "      <td>568.070136</td>\n",
              "      <td>0.860113</td>\n",
              "      <td>0.561321</td>\n",
              "      <td>113.6140</td>\n",
              "      <td>0.0</td>\n",
              "      <td>0</td>\n",
              "      <td>0.0</td>\n",
              "      <td>4</td>\n",
              "      <td>5</td>\n",
              "      <td>4</td>\n",
              "      <td>4</td>\n",
              "      <td>150.490824</td>\n",
              "      <td>3.510917e+04</td>\n",
              "    </tr>\n",
              "    <tr>\n",
              "      <th>...</th>\n",
              "      <td>...</td>\n",
              "      <td>...</td>\n",
              "      <td>...</td>\n",
              "      <td>...</td>\n",
              "      <td>...</td>\n",
              "      <td>...</td>\n",
              "      <td>...</td>\n",
              "      <td>...</td>\n",
              "      <td>...</td>\n",
              "      <td>...</td>\n",
              "      <td>...</td>\n",
              "      <td>...</td>\n",
              "      <td>...</td>\n",
              "    </tr>\n",
              "    <tr>\n",
              "      <th>779535822</th>\n",
              "      <td>941.629643</td>\n",
              "      <td>0.674348</td>\n",
              "      <td>0.713099</td>\n",
              "      <td>188.3260</td>\n",
              "      <td>0.0</td>\n",
              "      <td>0</td>\n",
              "      <td>0.0</td>\n",
              "      <td>4</td>\n",
              "      <td>5</td>\n",
              "      <td>4</td>\n",
              "      <td>4</td>\n",
              "      <td>130.253538</td>\n",
              "      <td>7.324858e+04</td>\n",
              "    </tr>\n",
              "    <tr>\n",
              "      <th>779546993</th>\n",
              "      <td>567.472905</td>\n",
              "      <td>0.863998</td>\n",
              "      <td>0.563616</td>\n",
              "      <td>113.4950</td>\n",
              "      <td>0.0</td>\n",
              "      <td>0</td>\n",
              "      <td>0.0</td>\n",
              "      <td>4</td>\n",
              "      <td>5</td>\n",
              "      <td>4</td>\n",
              "      <td>4</td>\n",
              "      <td>127.282483</td>\n",
              "      <td>5.316563e+04</td>\n",
              "    </tr>\n",
              "    <tr>\n",
              "      <th>779870674</th>\n",
              "      <td>650.659028</td>\n",
              "      <td>0.791030</td>\n",
              "      <td>0.750360</td>\n",
              "      <td>130.1320</td>\n",
              "      <td>0.0</td>\n",
              "      <td>0</td>\n",
              "      <td>0.0</td>\n",
              "      <td>4</td>\n",
              "      <td>5</td>\n",
              "      <td>4</td>\n",
              "      <td>4</td>\n",
              "      <td>131.115430</td>\n",
              "      <td>7.125337e+04</td>\n",
              "    </tr>\n",
              "    <tr>\n",
              "      <th>779961630</th>\n",
              "      <td>319.581881</td>\n",
              "      <td>1.182674</td>\n",
              "      <td>0.853421</td>\n",
              "      <td>53.2636</td>\n",
              "      <td>0.0</td>\n",
              "      <td>0</td>\n",
              "      <td>0.0</td>\n",
              "      <td>4</td>\n",
              "      <td>6</td>\n",
              "      <td>3</td>\n",
              "      <td>4</td>\n",
              "      <td>161.143524</td>\n",
              "      <td>5.031462e+04</td>\n",
              "    </tr>\n",
              "    <tr>\n",
              "      <th>779986439</th>\n",
              "      <td>1248.272570</td>\n",
              "      <td>0.717441</td>\n",
              "      <td>0.456150</td>\n",
              "      <td>178.3250</td>\n",
              "      <td>0.0</td>\n",
              "      <td>0</td>\n",
              "      <td>0.0</td>\n",
              "      <td>5</td>\n",
              "      <td>7</td>\n",
              "      <td>4</td>\n",
              "      <td>4</td>\n",
              "      <td>104697.301600</td>\n",
              "      <td>8.065432e+07</td>\n",
              "    </tr>\n",
              "  </tbody>\n",
              "</table>\n",
              "<p>41006 rows × 13 columns</p>\n",
              "</div>\n",
              "    <div class=\"colab-df-buttons\">\n",
              "\n",
              "  <div class=\"colab-df-container\">\n",
              "    <button class=\"colab-df-convert\" onclick=\"convertToInteractive('df-286cbc74-9e9d-4ea7-b097-9bdc9178bc3c')\"\n",
              "            title=\"Convert this dataframe to an interactive table.\"\n",
              "            style=\"display:none;\">\n",
              "\n",
              "  <svg xmlns=\"http://www.w3.org/2000/svg\" height=\"24px\" viewBox=\"0 -960 960 960\">\n",
              "    <path d=\"M120-120v-720h720v720H120Zm60-500h600v-160H180v160Zm220 220h160v-160H400v160Zm0 220h160v-160H400v160ZM180-400h160v-160H180v160Zm440 0h160v-160H620v160ZM180-180h160v-160H180v160Zm440 0h160v-160H620v160Z\"/>\n",
              "  </svg>\n",
              "    </button>\n",
              "\n",
              "  <style>\n",
              "    .colab-df-container {\n",
              "      display:flex;\n",
              "      gap: 12px;\n",
              "    }\n",
              "\n",
              "    .colab-df-convert {\n",
              "      background-color: #E8F0FE;\n",
              "      border: none;\n",
              "      border-radius: 50%;\n",
              "      cursor: pointer;\n",
              "      display: none;\n",
              "      fill: #1967D2;\n",
              "      height: 32px;\n",
              "      padding: 0 0 0 0;\n",
              "      width: 32px;\n",
              "    }\n",
              "\n",
              "    .colab-df-convert:hover {\n",
              "      background-color: #E2EBFA;\n",
              "      box-shadow: 0px 1px 2px rgba(60, 64, 67, 0.3), 0px 1px 3px 1px rgba(60, 64, 67, 0.15);\n",
              "      fill: #174EA6;\n",
              "    }\n",
              "\n",
              "    .colab-df-buttons div {\n",
              "      margin-bottom: 4px;\n",
              "    }\n",
              "\n",
              "    [theme=dark] .colab-df-convert {\n",
              "      background-color: #3B4455;\n",
              "      fill: #D2E3FC;\n",
              "    }\n",
              "\n",
              "    [theme=dark] .colab-df-convert:hover {\n",
              "      background-color: #434B5C;\n",
              "      box-shadow: 0px 1px 3px 1px rgba(0, 0, 0, 0.15);\n",
              "      filter: drop-shadow(0px 1px 2px rgba(0, 0, 0, 0.3));\n",
              "      fill: #FFFFFF;\n",
              "    }\n",
              "  </style>\n",
              "\n",
              "    <script>\n",
              "      const buttonEl =\n",
              "        document.querySelector('#df-286cbc74-9e9d-4ea7-b097-9bdc9178bc3c button.colab-df-convert');\n",
              "      buttonEl.style.display =\n",
              "        google.colab.kernel.accessAllowed ? 'block' : 'none';\n",
              "\n",
              "      async function convertToInteractive(key) {\n",
              "        const element = document.querySelector('#df-286cbc74-9e9d-4ea7-b097-9bdc9178bc3c');\n",
              "        const dataTable =\n",
              "          await google.colab.kernel.invokeFunction('convertToInteractive',\n",
              "                                                    [key], {});\n",
              "        if (!dataTable) return;\n",
              "\n",
              "        const docLinkHtml = 'Like what you see? Visit the ' +\n",
              "          '<a target=\"_blank\" href=https://colab.research.google.com/notebooks/data_table.ipynb>data table notebook</a>'\n",
              "          + ' to learn more about interactive tables.';\n",
              "        element.innerHTML = '';\n",
              "        dataTable['output_type'] = 'display_data';\n",
              "        await google.colab.output.renderOutput(dataTable, element);\n",
              "        const docLink = document.createElement('div');\n",
              "        docLink.innerHTML = docLinkHtml;\n",
              "        element.appendChild(docLink);\n",
              "      }\n",
              "    </script>\n",
              "  </div>\n",
              "\n",
              "\n",
              "<div id=\"df-7554d577-6d42-4576-8c83-3d2300b2ef4d\">\n",
              "  <button class=\"colab-df-quickchart\" onclick=\"quickchart('df-7554d577-6d42-4576-8c83-3d2300b2ef4d')\"\n",
              "            title=\"Suggest charts\"\n",
              "            style=\"display:none;\">\n",
              "\n",
              "<svg xmlns=\"http://www.w3.org/2000/svg\" height=\"24px\"viewBox=\"0 0 24 24\"\n",
              "     width=\"24px\">\n",
              "    <g>\n",
              "        <path d=\"M19 3H5c-1.1 0-2 .9-2 2v14c0 1.1.9 2 2 2h14c1.1 0 2-.9 2-2V5c0-1.1-.9-2-2-2zM9 17H7v-7h2v7zm4 0h-2V7h2v10zm4 0h-2v-4h2v4z\"/>\n",
              "    </g>\n",
              "</svg>\n",
              "  </button>\n",
              "\n",
              "<style>\n",
              "  .colab-df-quickchart {\n",
              "      --bg-color: #E8F0FE;\n",
              "      --fill-color: #1967D2;\n",
              "      --hover-bg-color: #E2EBFA;\n",
              "      --hover-fill-color: #174EA6;\n",
              "      --disabled-fill-color: #AAA;\n",
              "      --disabled-bg-color: #DDD;\n",
              "  }\n",
              "\n",
              "  [theme=dark] .colab-df-quickchart {\n",
              "      --bg-color: #3B4455;\n",
              "      --fill-color: #D2E3FC;\n",
              "      --hover-bg-color: #434B5C;\n",
              "      --hover-fill-color: #FFFFFF;\n",
              "      --disabled-bg-color: #3B4455;\n",
              "      --disabled-fill-color: #666;\n",
              "  }\n",
              "\n",
              "  .colab-df-quickchart {\n",
              "    background-color: var(--bg-color);\n",
              "    border: none;\n",
              "    border-radius: 50%;\n",
              "    cursor: pointer;\n",
              "    display: none;\n",
              "    fill: var(--fill-color);\n",
              "    height: 32px;\n",
              "    padding: 0;\n",
              "    width: 32px;\n",
              "  }\n",
              "\n",
              "  .colab-df-quickchart:hover {\n",
              "    background-color: var(--hover-bg-color);\n",
              "    box-shadow: 0 1px 2px rgba(60, 64, 67, 0.3), 0 1px 3px 1px rgba(60, 64, 67, 0.15);\n",
              "    fill: var(--button-hover-fill-color);\n",
              "  }\n",
              "\n",
              "  .colab-df-quickchart-complete:disabled,\n",
              "  .colab-df-quickchart-complete:disabled:hover {\n",
              "    background-color: var(--disabled-bg-color);\n",
              "    fill: var(--disabled-fill-color);\n",
              "    box-shadow: none;\n",
              "  }\n",
              "\n",
              "  .colab-df-spinner {\n",
              "    border: 2px solid var(--fill-color);\n",
              "    border-color: transparent;\n",
              "    border-bottom-color: var(--fill-color);\n",
              "    animation:\n",
              "      spin 1s steps(1) infinite;\n",
              "  }\n",
              "\n",
              "  @keyframes spin {\n",
              "    0% {\n",
              "      border-color: transparent;\n",
              "      border-bottom-color: var(--fill-color);\n",
              "      border-left-color: var(--fill-color);\n",
              "    }\n",
              "    20% {\n",
              "      border-color: transparent;\n",
              "      border-left-color: var(--fill-color);\n",
              "      border-top-color: var(--fill-color);\n",
              "    }\n",
              "    30% {\n",
              "      border-color: transparent;\n",
              "      border-left-color: var(--fill-color);\n",
              "      border-top-color: var(--fill-color);\n",
              "      border-right-color: var(--fill-color);\n",
              "    }\n",
              "    40% {\n",
              "      border-color: transparent;\n",
              "      border-right-color: var(--fill-color);\n",
              "      border-top-color: var(--fill-color);\n",
              "    }\n",
              "    60% {\n",
              "      border-color: transparent;\n",
              "      border-right-color: var(--fill-color);\n",
              "    }\n",
              "    80% {\n",
              "      border-color: transparent;\n",
              "      border-right-color: var(--fill-color);\n",
              "      border-bottom-color: var(--fill-color);\n",
              "    }\n",
              "    90% {\n",
              "      border-color: transparent;\n",
              "      border-bottom-color: var(--fill-color);\n",
              "    }\n",
              "  }\n",
              "</style>\n",
              "\n",
              "  <script>\n",
              "    async function quickchart(key) {\n",
              "      const quickchartButtonEl =\n",
              "        document.querySelector('#' + key + ' button');\n",
              "      quickchartButtonEl.disabled = true;  // To prevent multiple clicks.\n",
              "      quickchartButtonEl.classList.add('colab-df-spinner');\n",
              "      try {\n",
              "        const charts = await google.colab.kernel.invokeFunction(\n",
              "            'suggestCharts', [key], {});\n",
              "      } catch (error) {\n",
              "        console.error('Error during call to suggestCharts:', error);\n",
              "      }\n",
              "      quickchartButtonEl.classList.remove('colab-df-spinner');\n",
              "      quickchartButtonEl.classList.add('colab-df-quickchart-complete');\n",
              "    }\n",
              "    (() => {\n",
              "      let quickchartButtonEl =\n",
              "        document.querySelector('#df-7554d577-6d42-4576-8c83-3d2300b2ef4d button');\n",
              "      quickchartButtonEl.style.display =\n",
              "        google.colab.kernel.accessAllowed ? 'block' : 'none';\n",
              "    })();\n",
              "  </script>\n",
              "</div>\n",
              "\n",
              "  <div id=\"id_09915eee-3df8-46b4-84d3-eaf1a84e408b\">\n",
              "    <style>\n",
              "      .colab-df-generate {\n",
              "        background-color: #E8F0FE;\n",
              "        border: none;\n",
              "        border-radius: 50%;\n",
              "        cursor: pointer;\n",
              "        display: none;\n",
              "        fill: #1967D2;\n",
              "        height: 32px;\n",
              "        padding: 0 0 0 0;\n",
              "        width: 32px;\n",
              "      }\n",
              "\n",
              "      .colab-df-generate:hover {\n",
              "        background-color: #E2EBFA;\n",
              "        box-shadow: 0px 1px 2px rgba(60, 64, 67, 0.3), 0px 1px 3px 1px rgba(60, 64, 67, 0.15);\n",
              "        fill: #174EA6;\n",
              "      }\n",
              "\n",
              "      [theme=dark] .colab-df-generate {\n",
              "        background-color: #3B4455;\n",
              "        fill: #D2E3FC;\n",
              "      }\n",
              "\n",
              "      [theme=dark] .colab-df-generate:hover {\n",
              "        background-color: #434B5C;\n",
              "        box-shadow: 0px 1px 3px 1px rgba(0, 0, 0, 0.15);\n",
              "        filter: drop-shadow(0px 1px 2px rgba(0, 0, 0, 0.3));\n",
              "        fill: #FFFFFF;\n",
              "      }\n",
              "    </style>\n",
              "    <button class=\"colab-df-generate\" onclick=\"generateWithVariable('df')\"\n",
              "            title=\"Generate code using this dataframe.\"\n",
              "            style=\"display:none;\">\n",
              "\n",
              "  <svg xmlns=\"http://www.w3.org/2000/svg\" height=\"24px\"viewBox=\"0 0 24 24\"\n",
              "       width=\"24px\">\n",
              "    <path d=\"M7,19H8.4L18.45,9,17,7.55,7,17.6ZM5,21V16.75L18.45,3.32a2,2,0,0,1,2.83,0l1.4,1.43a1.91,1.91,0,0,1,.58,1.4,1.91,1.91,0,0,1-.58,1.4L9.25,21ZM18.45,9,17,7.55Zm-12,3A5.31,5.31,0,0,0,4.9,8.1,5.31,5.31,0,0,0,1,6.5,5.31,5.31,0,0,0,4.9,4.9,5.31,5.31,0,0,0,6.5,1,5.31,5.31,0,0,0,8.1,4.9,5.31,5.31,0,0,0,12,6.5,5.46,5.46,0,0,0,6.5,12Z\"/>\n",
              "  </svg>\n",
              "    </button>\n",
              "    <script>\n",
              "      (() => {\n",
              "      const buttonEl =\n",
              "        document.querySelector('#id_09915eee-3df8-46b4-84d3-eaf1a84e408b button.colab-df-generate');\n",
              "      buttonEl.style.display =\n",
              "        google.colab.kernel.accessAllowed ? 'block' : 'none';\n",
              "\n",
              "      buttonEl.onclick = () => {\n",
              "        google.colab.notebook.generateWithVariable('df');\n",
              "      }\n",
              "      })();\n",
              "    </script>\n",
              "  </div>\n",
              "\n",
              "    </div>\n",
              "  </div>\n"
            ],
            "application/vnd.google.colaboratory.intrinsic+json": {
              "type": "dataframe",
              "variable_name": "df",
              "summary": "{\n  \"name\": \"df\",\n  \"rows\": 41006,\n  \"fields\": [\n    {\n      \"column\": \"BINAKODU\",\n      \"properties\": {\n        \"dtype\": \"number\",\n        \"std\": 161675150,\n        \"min\": 100014885,\n        \"max\": 779986439,\n        \"num_unique_values\": 41006,\n        \"samples\": [\n          285787842,\n          278806294,\n          350274064\n        ],\n        \"semantic_type\": \"\",\n        \"description\": \"\"\n      }\n    },\n    {\n      \"column\": \"TOPLAM_INS\",\n      \"properties\": {\n        \"dtype\": \"number\",\n        \"std\": 5275.32736311937,\n        \"min\": 18.4500500051,\n        \"max\": 428256.0068,\n        \"num_unique_values\": 40999,\n        \"samples\": [\n          513.43735499,\n          1925.6004249,\n          801.251082721\n        ],\n        \"semantic_type\": \"\",\n        \"description\": \"\"\n      }\n    },\n    {\n      \"column\": \"KOMPAKTLIK\",\n      \"properties\": {\n        \"dtype\": \"number\",\n        \"std\": 0.2157837175553322,\n        \"min\": 0.0973200688752,\n        \"max\": 2.45358499907,\n        \"num_unique_values\": 41003,\n        \"samples\": [\n          0.581903730131,\n          0.877786025201,\n          0.633448968217\n        ],\n        \"semantic_type\": \"\",\n        \"description\": \"\"\n      }\n    },\n    {\n      \"column\": \"EN_BOY\",\n      \"properties\": {\n        \"dtype\": \"number\",\n        \"std\": 0.16732413022614576,\n        \"min\": 0.0773201299275,\n        \"max\": 0.999999930626,\n        \"num_unique_values\": 41006,\n        \"samples\": [\n          0.969539964595,\n          0.887453396103,\n          0.561341937345\n        ],\n        \"semantic_type\": \"\",\n        \"description\": \"\"\n      }\n    },\n    {\n      \"column\": \"TABANALANI\",\n      \"properties\": {\n        \"dtype\": \"number\",\n        \"std\": 416.12672437482655,\n        \"min\": 15.4721,\n        \"max\": 40785.2,\n        \"num_unique_values\": 38380,\n        \"samples\": [\n          251.169,\n          164.946,\n          169.497\n        ],\n        \"semantic_type\": \"\",\n        \"description\": \"\"\n      }\n    },\n    {\n      \"column\": \"bitisik\",\n      \"properties\": {\n        \"dtype\": \"number\",\n        \"std\": 4.762969524884657,\n        \"min\": 0.0,\n        \"max\": 84.0738520797,\n        \"num_unique_values\": 3250,\n        \"samples\": [\n          13.0660736601,\n          8.11172899285,\n          10.3884482502\n        ],\n        \"semantic_type\": \"\",\n        \"description\": \"\"\n      }\n    },\n    {\n      \"column\": \"Brlsk_Oran\",\n      \"properties\": {\n        \"dtype\": \"number\",\n        \"std\": 8,\n        \"min\": 0,\n        \"max\": 83,\n        \"num_unique_values\": 76,\n        \"samples\": [\n          20,\n          55,\n          18\n        ],\n        \"semantic_type\": \"\",\n        \"description\": \"\"\n      }\n    },\n    {\n      \"column\": \"BITISIKENR\",\n      \"properties\": {\n        \"dtype\": \"number\",\n        \"std\": 0.0853405226054517,\n        \"min\": 0.0,\n        \"max\": 0.8335345371855871,\n        \"num_unique_values\": 4760,\n        \"samples\": [\n          0.282504330512345,\n          0.2794322435734596,\n          0.1493231286389873\n        ],\n        \"semantic_type\": \"\",\n        \"description\": \"\"\n      }\n    },\n    {\n      \"column\": \"ZEMINUSTUK\",\n      \"properties\": {\n        \"dtype\": \"number\",\n        \"std\": 3,\n        \"min\": 0,\n        \"max\": 40,\n        \"num_unique_values\": 36,\n        \"samples\": [\n          37,\n          9,\n          24\n        ],\n        \"semantic_type\": \"\",\n        \"description\": \"\"\n      }\n    },\n    {\n      \"column\": \"TUM_KAT\",\n      \"properties\": {\n        \"dtype\": \"number\",\n        \"std\": 3,\n        \"min\": 0,\n        \"max\": 41,\n        \"num_unique_values\": 38,\n        \"samples\": [\n          39,\n          37,\n          14\n        ],\n        \"semantic_type\": \"\",\n        \"description\": \"\"\n      }\n    },\n    {\n      \"column\": \"YAPI_SISTE\",\n      \"properties\": {\n        \"dtype\": \"number\",\n        \"std\": 0,\n        \"min\": 1,\n        \"max\": 4,\n        \"num_unique_values\": 4,\n        \"samples\": [\n          3,\n          2,\n          4\n        ],\n        \"semantic_type\": \"\",\n        \"description\": \"\"\n      }\n    },\n    {\n      \"column\": \"YIL\",\n      \"properties\": {\n        \"dtype\": \"number\",\n        \"std\": 0,\n        \"min\": 1,\n        \"max\": 4,\n        \"num_unique_values\": 4,\n        \"samples\": [\n          4,\n          1,\n          3\n        ],\n        \"semantic_type\": \"\",\n        \"description\": \"\"\n      }\n    },\n    {\n      \"column\": \"Enerji_Ala\",\n      \"properties\": {\n        \"dtype\": \"number\",\n        \"std\": 555.3848137136326,\n        \"min\": 0.676008271,\n        \"max\": 104697.3016,\n        \"num_unique_values\": 30601,\n        \"samples\": [\n          98.81618106,\n          120.6926529,\n          140.916179\n        ],\n        \"semantic_type\": \"\",\n        \"description\": \"\"\n      }\n    },\n    {\n      \"column\": \"ENERJI\",\n      \"properties\": {\n        \"dtype\": \"number\",\n        \"std\": 16400432.88189924,\n        \"min\": 383.6346938,\n        \"max\": 2254945074.0,\n        \"num_unique_values\": 30601,\n        \"samples\": [\n          315508.209,\n          112417.3473,\n          44548.53638\n        ],\n        \"semantic_type\": \"\",\n        \"description\": \"\"\n      }\n    }\n  ]\n}"
            }
          },
          "metadata": {},
          "execution_count": 2
        }
      ]
    },
    {
      "cell_type": "code",
      "source": [
        "#YAPI_SISTEM değişkenini dışarıda tutalım\n",
        "df = df.drop([\"Enerji_Ala\",\"YIL\", \"YAPI_SISTE\", \"bitisik\", \"BITISIKENR\", \"ZEMINUSTUK\", \"TUM_KAT\"], axis = 1).astype(\"float64\")\n",
        "df"
      ],
      "metadata": {
        "colab": {
          "base_uri": "https://localhost:8080/",
          "height": 455
        },
        "id": "fzM1XO7URKFe",
        "outputId": "9ba54927-e1af-4462-d1c9-0b3879c0da04"
      },
      "execution_count": null,
      "outputs": [
        {
          "output_type": "execute_result",
          "data": {
            "text/plain": [
              "            TOPLAM_INS  KOMPAKTLIK    EN_BOY  TABANALANI  Brlsk_Oran  \\\n",
              "BINAKODU                                                               \n",
              "100014885   285.266497    0.866872  0.819327    142.6330         0.0   \n",
              "100018845   386.058753    1.019046  0.617805     77.2118         0.0   \n",
              "100041011   998.000227    0.716408  0.659070    166.3330         0.0   \n",
              "100072172   768.267803    0.818591  0.562516    128.0450         0.0   \n",
              "100079979   568.070136    0.860113  0.561321    113.6140         0.0   \n",
              "...                ...         ...       ...         ...         ...   \n",
              "779535822   941.629643    0.674348  0.713099    188.3260         0.0   \n",
              "779546993   567.472905    0.863998  0.563616    113.4950         0.0   \n",
              "779870674   650.659028    0.791030  0.750360    130.1320         0.0   \n",
              "779961630   319.581881    1.182674  0.853421     53.2636         0.0   \n",
              "779986439  1248.272570    0.717441  0.456150    178.3250         0.0   \n",
              "\n",
              "                 ENERJI  \n",
              "BINAKODU                 \n",
              "100014885  3.257984e+04  \n",
              "100018845  6.715705e+04  \n",
              "100041011  1.007877e+05  \n",
              "100072172  1.361750e+05  \n",
              "100079979  3.510917e+04  \n",
              "...                 ...  \n",
              "779535822  7.324858e+04  \n",
              "779546993  5.316563e+04  \n",
              "779870674  7.125337e+04  \n",
              "779961630  5.031462e+04  \n",
              "779986439  8.065432e+07  \n",
              "\n",
              "[41006 rows x 6 columns]"
            ],
            "text/html": [
              "\n",
              "  <div id=\"df-9812ae25-4102-411c-9fb4-ebd1aaa849e2\" class=\"colab-df-container\">\n",
              "    <div>\n",
              "<style scoped>\n",
              "    .dataframe tbody tr th:only-of-type {\n",
              "        vertical-align: middle;\n",
              "    }\n",
              "\n",
              "    .dataframe tbody tr th {\n",
              "        vertical-align: top;\n",
              "    }\n",
              "\n",
              "    .dataframe thead th {\n",
              "        text-align: right;\n",
              "    }\n",
              "</style>\n",
              "<table border=\"1\" class=\"dataframe\">\n",
              "  <thead>\n",
              "    <tr style=\"text-align: right;\">\n",
              "      <th></th>\n",
              "      <th>TOPLAM_INS</th>\n",
              "      <th>KOMPAKTLIK</th>\n",
              "      <th>EN_BOY</th>\n",
              "      <th>TABANALANI</th>\n",
              "      <th>Brlsk_Oran</th>\n",
              "      <th>ENERJI</th>\n",
              "    </tr>\n",
              "    <tr>\n",
              "      <th>BINAKODU</th>\n",
              "      <th></th>\n",
              "      <th></th>\n",
              "      <th></th>\n",
              "      <th></th>\n",
              "      <th></th>\n",
              "      <th></th>\n",
              "    </tr>\n",
              "  </thead>\n",
              "  <tbody>\n",
              "    <tr>\n",
              "      <th>100014885</th>\n",
              "      <td>285.266497</td>\n",
              "      <td>0.866872</td>\n",
              "      <td>0.819327</td>\n",
              "      <td>142.6330</td>\n",
              "      <td>0.0</td>\n",
              "      <td>3.257984e+04</td>\n",
              "    </tr>\n",
              "    <tr>\n",
              "      <th>100018845</th>\n",
              "      <td>386.058753</td>\n",
              "      <td>1.019046</td>\n",
              "      <td>0.617805</td>\n",
              "      <td>77.2118</td>\n",
              "      <td>0.0</td>\n",
              "      <td>6.715705e+04</td>\n",
              "    </tr>\n",
              "    <tr>\n",
              "      <th>100041011</th>\n",
              "      <td>998.000227</td>\n",
              "      <td>0.716408</td>\n",
              "      <td>0.659070</td>\n",
              "      <td>166.3330</td>\n",
              "      <td>0.0</td>\n",
              "      <td>1.007877e+05</td>\n",
              "    </tr>\n",
              "    <tr>\n",
              "      <th>100072172</th>\n",
              "      <td>768.267803</td>\n",
              "      <td>0.818591</td>\n",
              "      <td>0.562516</td>\n",
              "      <td>128.0450</td>\n",
              "      <td>0.0</td>\n",
              "      <td>1.361750e+05</td>\n",
              "    </tr>\n",
              "    <tr>\n",
              "      <th>100079979</th>\n",
              "      <td>568.070136</td>\n",
              "      <td>0.860113</td>\n",
              "      <td>0.561321</td>\n",
              "      <td>113.6140</td>\n",
              "      <td>0.0</td>\n",
              "      <td>3.510917e+04</td>\n",
              "    </tr>\n",
              "    <tr>\n",
              "      <th>...</th>\n",
              "      <td>...</td>\n",
              "      <td>...</td>\n",
              "      <td>...</td>\n",
              "      <td>...</td>\n",
              "      <td>...</td>\n",
              "      <td>...</td>\n",
              "    </tr>\n",
              "    <tr>\n",
              "      <th>779535822</th>\n",
              "      <td>941.629643</td>\n",
              "      <td>0.674348</td>\n",
              "      <td>0.713099</td>\n",
              "      <td>188.3260</td>\n",
              "      <td>0.0</td>\n",
              "      <td>7.324858e+04</td>\n",
              "    </tr>\n",
              "    <tr>\n",
              "      <th>779546993</th>\n",
              "      <td>567.472905</td>\n",
              "      <td>0.863998</td>\n",
              "      <td>0.563616</td>\n",
              "      <td>113.4950</td>\n",
              "      <td>0.0</td>\n",
              "      <td>5.316563e+04</td>\n",
              "    </tr>\n",
              "    <tr>\n",
              "      <th>779870674</th>\n",
              "      <td>650.659028</td>\n",
              "      <td>0.791030</td>\n",
              "      <td>0.750360</td>\n",
              "      <td>130.1320</td>\n",
              "      <td>0.0</td>\n",
              "      <td>7.125337e+04</td>\n",
              "    </tr>\n",
              "    <tr>\n",
              "      <th>779961630</th>\n",
              "      <td>319.581881</td>\n",
              "      <td>1.182674</td>\n",
              "      <td>0.853421</td>\n",
              "      <td>53.2636</td>\n",
              "      <td>0.0</td>\n",
              "      <td>5.031462e+04</td>\n",
              "    </tr>\n",
              "    <tr>\n",
              "      <th>779986439</th>\n",
              "      <td>1248.272570</td>\n",
              "      <td>0.717441</td>\n",
              "      <td>0.456150</td>\n",
              "      <td>178.3250</td>\n",
              "      <td>0.0</td>\n",
              "      <td>8.065432e+07</td>\n",
              "    </tr>\n",
              "  </tbody>\n",
              "</table>\n",
              "<p>41006 rows × 6 columns</p>\n",
              "</div>\n",
              "    <div class=\"colab-df-buttons\">\n",
              "\n",
              "  <div class=\"colab-df-container\">\n",
              "    <button class=\"colab-df-convert\" onclick=\"convertToInteractive('df-9812ae25-4102-411c-9fb4-ebd1aaa849e2')\"\n",
              "            title=\"Convert this dataframe to an interactive table.\"\n",
              "            style=\"display:none;\">\n",
              "\n",
              "  <svg xmlns=\"http://www.w3.org/2000/svg\" height=\"24px\" viewBox=\"0 -960 960 960\">\n",
              "    <path d=\"M120-120v-720h720v720H120Zm60-500h600v-160H180v160Zm220 220h160v-160H400v160Zm0 220h160v-160H400v160ZM180-400h160v-160H180v160Zm440 0h160v-160H620v160ZM180-180h160v-160H180v160Zm440 0h160v-160H620v160Z\"/>\n",
              "  </svg>\n",
              "    </button>\n",
              "\n",
              "  <style>\n",
              "    .colab-df-container {\n",
              "      display:flex;\n",
              "      gap: 12px;\n",
              "    }\n",
              "\n",
              "    .colab-df-convert {\n",
              "      background-color: #E8F0FE;\n",
              "      border: none;\n",
              "      border-radius: 50%;\n",
              "      cursor: pointer;\n",
              "      display: none;\n",
              "      fill: #1967D2;\n",
              "      height: 32px;\n",
              "      padding: 0 0 0 0;\n",
              "      width: 32px;\n",
              "    }\n",
              "\n",
              "    .colab-df-convert:hover {\n",
              "      background-color: #E2EBFA;\n",
              "      box-shadow: 0px 1px 2px rgba(60, 64, 67, 0.3), 0px 1px 3px 1px rgba(60, 64, 67, 0.15);\n",
              "      fill: #174EA6;\n",
              "    }\n",
              "\n",
              "    .colab-df-buttons div {\n",
              "      margin-bottom: 4px;\n",
              "    }\n",
              "\n",
              "    [theme=dark] .colab-df-convert {\n",
              "      background-color: #3B4455;\n",
              "      fill: #D2E3FC;\n",
              "    }\n",
              "\n",
              "    [theme=dark] .colab-df-convert:hover {\n",
              "      background-color: #434B5C;\n",
              "      box-shadow: 0px 1px 3px 1px rgba(0, 0, 0, 0.15);\n",
              "      filter: drop-shadow(0px 1px 2px rgba(0, 0, 0, 0.3));\n",
              "      fill: #FFFFFF;\n",
              "    }\n",
              "  </style>\n",
              "\n",
              "    <script>\n",
              "      const buttonEl =\n",
              "        document.querySelector('#df-9812ae25-4102-411c-9fb4-ebd1aaa849e2 button.colab-df-convert');\n",
              "      buttonEl.style.display =\n",
              "        google.colab.kernel.accessAllowed ? 'block' : 'none';\n",
              "\n",
              "      async function convertToInteractive(key) {\n",
              "        const element = document.querySelector('#df-9812ae25-4102-411c-9fb4-ebd1aaa849e2');\n",
              "        const dataTable =\n",
              "          await google.colab.kernel.invokeFunction('convertToInteractive',\n",
              "                                                    [key], {});\n",
              "        if (!dataTable) return;\n",
              "\n",
              "        const docLinkHtml = 'Like what you see? Visit the ' +\n",
              "          '<a target=\"_blank\" href=https://colab.research.google.com/notebooks/data_table.ipynb>data table notebook</a>'\n",
              "          + ' to learn more about interactive tables.';\n",
              "        element.innerHTML = '';\n",
              "        dataTable['output_type'] = 'display_data';\n",
              "        await google.colab.output.renderOutput(dataTable, element);\n",
              "        const docLink = document.createElement('div');\n",
              "        docLink.innerHTML = docLinkHtml;\n",
              "        element.appendChild(docLink);\n",
              "      }\n",
              "    </script>\n",
              "  </div>\n",
              "\n",
              "\n",
              "<div id=\"df-195235d8-086e-44f2-8325-8b3c97cc993e\">\n",
              "  <button class=\"colab-df-quickchart\" onclick=\"quickchart('df-195235d8-086e-44f2-8325-8b3c97cc993e')\"\n",
              "            title=\"Suggest charts\"\n",
              "            style=\"display:none;\">\n",
              "\n",
              "<svg xmlns=\"http://www.w3.org/2000/svg\" height=\"24px\"viewBox=\"0 0 24 24\"\n",
              "     width=\"24px\">\n",
              "    <g>\n",
              "        <path d=\"M19 3H5c-1.1 0-2 .9-2 2v14c0 1.1.9 2 2 2h14c1.1 0 2-.9 2-2V5c0-1.1-.9-2-2-2zM9 17H7v-7h2v7zm4 0h-2V7h2v10zm4 0h-2v-4h2v4z\"/>\n",
              "    </g>\n",
              "</svg>\n",
              "  </button>\n",
              "\n",
              "<style>\n",
              "  .colab-df-quickchart {\n",
              "      --bg-color: #E8F0FE;\n",
              "      --fill-color: #1967D2;\n",
              "      --hover-bg-color: #E2EBFA;\n",
              "      --hover-fill-color: #174EA6;\n",
              "      --disabled-fill-color: #AAA;\n",
              "      --disabled-bg-color: #DDD;\n",
              "  }\n",
              "\n",
              "  [theme=dark] .colab-df-quickchart {\n",
              "      --bg-color: #3B4455;\n",
              "      --fill-color: #D2E3FC;\n",
              "      --hover-bg-color: #434B5C;\n",
              "      --hover-fill-color: #FFFFFF;\n",
              "      --disabled-bg-color: #3B4455;\n",
              "      --disabled-fill-color: #666;\n",
              "  }\n",
              "\n",
              "  .colab-df-quickchart {\n",
              "    background-color: var(--bg-color);\n",
              "    border: none;\n",
              "    border-radius: 50%;\n",
              "    cursor: pointer;\n",
              "    display: none;\n",
              "    fill: var(--fill-color);\n",
              "    height: 32px;\n",
              "    padding: 0;\n",
              "    width: 32px;\n",
              "  }\n",
              "\n",
              "  .colab-df-quickchart:hover {\n",
              "    background-color: var(--hover-bg-color);\n",
              "    box-shadow: 0 1px 2px rgba(60, 64, 67, 0.3), 0 1px 3px 1px rgba(60, 64, 67, 0.15);\n",
              "    fill: var(--button-hover-fill-color);\n",
              "  }\n",
              "\n",
              "  .colab-df-quickchart-complete:disabled,\n",
              "  .colab-df-quickchart-complete:disabled:hover {\n",
              "    background-color: var(--disabled-bg-color);\n",
              "    fill: var(--disabled-fill-color);\n",
              "    box-shadow: none;\n",
              "  }\n",
              "\n",
              "  .colab-df-spinner {\n",
              "    border: 2px solid var(--fill-color);\n",
              "    border-color: transparent;\n",
              "    border-bottom-color: var(--fill-color);\n",
              "    animation:\n",
              "      spin 1s steps(1) infinite;\n",
              "  }\n",
              "\n",
              "  @keyframes spin {\n",
              "    0% {\n",
              "      border-color: transparent;\n",
              "      border-bottom-color: var(--fill-color);\n",
              "      border-left-color: var(--fill-color);\n",
              "    }\n",
              "    20% {\n",
              "      border-color: transparent;\n",
              "      border-left-color: var(--fill-color);\n",
              "      border-top-color: var(--fill-color);\n",
              "    }\n",
              "    30% {\n",
              "      border-color: transparent;\n",
              "      border-left-color: var(--fill-color);\n",
              "      border-top-color: var(--fill-color);\n",
              "      border-right-color: var(--fill-color);\n",
              "    }\n",
              "    40% {\n",
              "      border-color: transparent;\n",
              "      border-right-color: var(--fill-color);\n",
              "      border-top-color: var(--fill-color);\n",
              "    }\n",
              "    60% {\n",
              "      border-color: transparent;\n",
              "      border-right-color: var(--fill-color);\n",
              "    }\n",
              "    80% {\n",
              "      border-color: transparent;\n",
              "      border-right-color: var(--fill-color);\n",
              "      border-bottom-color: var(--fill-color);\n",
              "    }\n",
              "    90% {\n",
              "      border-color: transparent;\n",
              "      border-bottom-color: var(--fill-color);\n",
              "    }\n",
              "  }\n",
              "</style>\n",
              "\n",
              "  <script>\n",
              "    async function quickchart(key) {\n",
              "      const quickchartButtonEl =\n",
              "        document.querySelector('#' + key + ' button');\n",
              "      quickchartButtonEl.disabled = true;  // To prevent multiple clicks.\n",
              "      quickchartButtonEl.classList.add('colab-df-spinner');\n",
              "      try {\n",
              "        const charts = await google.colab.kernel.invokeFunction(\n",
              "            'suggestCharts', [key], {});\n",
              "      } catch (error) {\n",
              "        console.error('Error during call to suggestCharts:', error);\n",
              "      }\n",
              "      quickchartButtonEl.classList.remove('colab-df-spinner');\n",
              "      quickchartButtonEl.classList.add('colab-df-quickchart-complete');\n",
              "    }\n",
              "    (() => {\n",
              "      let quickchartButtonEl =\n",
              "        document.querySelector('#df-195235d8-086e-44f2-8325-8b3c97cc993e button');\n",
              "      quickchartButtonEl.style.display =\n",
              "        google.colab.kernel.accessAllowed ? 'block' : 'none';\n",
              "    })();\n",
              "  </script>\n",
              "</div>\n",
              "\n",
              "  <div id=\"id_4098938f-92d2-48a6-8f3e-6003b806957c\">\n",
              "    <style>\n",
              "      .colab-df-generate {\n",
              "        background-color: #E8F0FE;\n",
              "        border: none;\n",
              "        border-radius: 50%;\n",
              "        cursor: pointer;\n",
              "        display: none;\n",
              "        fill: #1967D2;\n",
              "        height: 32px;\n",
              "        padding: 0 0 0 0;\n",
              "        width: 32px;\n",
              "      }\n",
              "\n",
              "      .colab-df-generate:hover {\n",
              "        background-color: #E2EBFA;\n",
              "        box-shadow: 0px 1px 2px rgba(60, 64, 67, 0.3), 0px 1px 3px 1px rgba(60, 64, 67, 0.15);\n",
              "        fill: #174EA6;\n",
              "      }\n",
              "\n",
              "      [theme=dark] .colab-df-generate {\n",
              "        background-color: #3B4455;\n",
              "        fill: #D2E3FC;\n",
              "      }\n",
              "\n",
              "      [theme=dark] .colab-df-generate:hover {\n",
              "        background-color: #434B5C;\n",
              "        box-shadow: 0px 1px 3px 1px rgba(0, 0, 0, 0.15);\n",
              "        filter: drop-shadow(0px 1px 2px rgba(0, 0, 0, 0.3));\n",
              "        fill: #FFFFFF;\n",
              "      }\n",
              "    </style>\n",
              "    <button class=\"colab-df-generate\" onclick=\"generateWithVariable('df')\"\n",
              "            title=\"Generate code using this dataframe.\"\n",
              "            style=\"display:none;\">\n",
              "\n",
              "  <svg xmlns=\"http://www.w3.org/2000/svg\" height=\"24px\"viewBox=\"0 0 24 24\"\n",
              "       width=\"24px\">\n",
              "    <path d=\"M7,19H8.4L18.45,9,17,7.55,7,17.6ZM5,21V16.75L18.45,3.32a2,2,0,0,1,2.83,0l1.4,1.43a1.91,1.91,0,0,1,.58,1.4,1.91,1.91,0,0,1-.58,1.4L9.25,21ZM18.45,9,17,7.55Zm-12,3A5.31,5.31,0,0,0,4.9,8.1,5.31,5.31,0,0,0,1,6.5,5.31,5.31,0,0,0,4.9,4.9,5.31,5.31,0,0,0,6.5,1,5.31,5.31,0,0,0,8.1,4.9,5.31,5.31,0,0,0,12,6.5,5.46,5.46,0,0,0,6.5,12Z\"/>\n",
              "  </svg>\n",
              "    </button>\n",
              "    <script>\n",
              "      (() => {\n",
              "      const buttonEl =\n",
              "        document.querySelector('#id_4098938f-92d2-48a6-8f3e-6003b806957c button.colab-df-generate');\n",
              "      buttonEl.style.display =\n",
              "        google.colab.kernel.accessAllowed ? 'block' : 'none';\n",
              "\n",
              "      buttonEl.onclick = () => {\n",
              "        google.colab.notebook.generateWithVariable('df');\n",
              "      }\n",
              "      })();\n",
              "    </script>\n",
              "  </div>\n",
              "\n",
              "    </div>\n",
              "  </div>\n"
            ],
            "application/vnd.google.colaboratory.intrinsic+json": {
              "type": "dataframe",
              "variable_name": "df",
              "summary": "{\n  \"name\": \"df\",\n  \"rows\": 41006,\n  \"fields\": [\n    {\n      \"column\": \"BINAKODU\",\n      \"properties\": {\n        \"dtype\": \"number\",\n        \"std\": 161675150,\n        \"min\": 100014885,\n        \"max\": 779986439,\n        \"num_unique_values\": 41006,\n        \"samples\": [\n          285787842,\n          278806294,\n          350274064\n        ],\n        \"semantic_type\": \"\",\n        \"description\": \"\"\n      }\n    },\n    {\n      \"column\": \"TOPLAM_INS\",\n      \"properties\": {\n        \"dtype\": \"number\",\n        \"std\": 5275.32736311937,\n        \"min\": 18.4500500051,\n        \"max\": 428256.0068,\n        \"num_unique_values\": 40999,\n        \"samples\": [\n          513.43735499,\n          1925.6004249,\n          801.251082721\n        ],\n        \"semantic_type\": \"\",\n        \"description\": \"\"\n      }\n    },\n    {\n      \"column\": \"KOMPAKTLIK\",\n      \"properties\": {\n        \"dtype\": \"number\",\n        \"std\": 0.2157837175553322,\n        \"min\": 0.0973200688752,\n        \"max\": 2.45358499907,\n        \"num_unique_values\": 41003,\n        \"samples\": [\n          0.581903730131,\n          0.877786025201,\n          0.633448968217\n        ],\n        \"semantic_type\": \"\",\n        \"description\": \"\"\n      }\n    },\n    {\n      \"column\": \"EN_BOY\",\n      \"properties\": {\n        \"dtype\": \"number\",\n        \"std\": 0.16732413022614576,\n        \"min\": 0.0773201299275,\n        \"max\": 0.999999930626,\n        \"num_unique_values\": 41006,\n        \"samples\": [\n          0.969539964595,\n          0.887453396103,\n          0.561341937345\n        ],\n        \"semantic_type\": \"\",\n        \"description\": \"\"\n      }\n    },\n    {\n      \"column\": \"TABANALANI\",\n      \"properties\": {\n        \"dtype\": \"number\",\n        \"std\": 416.12672437482655,\n        \"min\": 15.4721,\n        \"max\": 40785.2,\n        \"num_unique_values\": 38380,\n        \"samples\": [\n          251.169,\n          164.946,\n          169.497\n        ],\n        \"semantic_type\": \"\",\n        \"description\": \"\"\n      }\n    },\n    {\n      \"column\": \"Brlsk_Oran\",\n      \"properties\": {\n        \"dtype\": \"number\",\n        \"std\": 8.533452605920825,\n        \"min\": 0.0,\n        \"max\": 83.0,\n        \"num_unique_values\": 76,\n        \"samples\": [\n          20.0,\n          55.0,\n          18.0\n        ],\n        \"semantic_type\": \"\",\n        \"description\": \"\"\n      }\n    },\n    {\n      \"column\": \"ENERJI\",\n      \"properties\": {\n        \"dtype\": \"number\",\n        \"std\": 16400432.88189924,\n        \"min\": 383.6346938,\n        \"max\": 2254945074.0,\n        \"num_unique_values\": 30601,\n        \"samples\": [\n          315508.209,\n          112417.3473,\n          44548.53638\n        ],\n        \"semantic_type\": \"\",\n        \"description\": \"\"\n      }\n    }\n  ]\n}"
            }
          },
          "metadata": {},
          "execution_count": 3
        }
      ]
    },
    {
      "cell_type": "code",
      "source": [
        "#outlierları hesaplamak için pyod import edilmeli\n",
        "!pip install pyod"
      ],
      "metadata": {
        "colab": {
          "base_uri": "https://localhost:8080/"
        },
        "id": "amD9Wf9RRN71",
        "outputId": "9380c6bc-0798-4732-e425-858a91645f3f"
      },
      "execution_count": null,
      "outputs": [
        {
          "output_type": "stream",
          "name": "stdout",
          "text": [
            "Requirement already satisfied: pyod in /usr/local/lib/python3.10/dist-packages (1.1.3)\n",
            "Requirement already satisfied: joblib in /usr/local/lib/python3.10/dist-packages (from pyod) (1.4.0)\n",
            "Requirement already satisfied: matplotlib in /usr/local/lib/python3.10/dist-packages (from pyod) (3.7.1)\n",
            "Requirement already satisfied: numpy>=1.19 in /usr/local/lib/python3.10/dist-packages (from pyod) (1.25.2)\n",
            "Requirement already satisfied: numba>=0.51 in /usr/local/lib/python3.10/dist-packages (from pyod) (0.58.1)\n",
            "Requirement already satisfied: scipy>=1.5.1 in /usr/local/lib/python3.10/dist-packages (from pyod) (1.11.4)\n",
            "Requirement already satisfied: scikit-learn>=0.22.0 in /usr/local/lib/python3.10/dist-packages (from pyod) (1.2.2)\n",
            "Requirement already satisfied: six in /usr/local/lib/python3.10/dist-packages (from pyod) (1.16.0)\n",
            "Requirement already satisfied: llvmlite<0.42,>=0.41.0dev0 in /usr/local/lib/python3.10/dist-packages (from numba>=0.51->pyod) (0.41.1)\n",
            "Requirement already satisfied: threadpoolctl>=2.0.0 in /usr/local/lib/python3.10/dist-packages (from scikit-learn>=0.22.0->pyod) (3.4.0)\n",
            "Requirement already satisfied: contourpy>=1.0.1 in /usr/local/lib/python3.10/dist-packages (from matplotlib->pyod) (1.2.1)\n",
            "Requirement already satisfied: cycler>=0.10 in /usr/local/lib/python3.10/dist-packages (from matplotlib->pyod) (0.12.1)\n",
            "Requirement already satisfied: fonttools>=4.22.0 in /usr/local/lib/python3.10/dist-packages (from matplotlib->pyod) (4.51.0)\n",
            "Requirement already satisfied: kiwisolver>=1.0.1 in /usr/local/lib/python3.10/dist-packages (from matplotlib->pyod) (1.4.5)\n",
            "Requirement already satisfied: packaging>=20.0 in /usr/local/lib/python3.10/dist-packages (from matplotlib->pyod) (24.0)\n",
            "Requirement already satisfied: pillow>=6.2.0 in /usr/local/lib/python3.10/dist-packages (from matplotlib->pyod) (9.4.0)\n",
            "Requirement already satisfied: pyparsing>=2.3.1 in /usr/local/lib/python3.10/dist-packages (from matplotlib->pyod) (3.1.2)\n",
            "Requirement already satisfied: python-dateutil>=2.7 in /usr/local/lib/python3.10/dist-packages (from matplotlib->pyod) (2.8.2)\n"
          ]
        }
      ]
    },
    {
      "cell_type": "code",
      "source": [
        "# Outlierları tespit edelim\n",
        "\n",
        "from pyod.models.ecod import ECOD\n",
        "\n",
        "clf = ECOD()\n",
        "clf.fit(df)\n",
        "outliers = clf.predict(df)\n",
        "\n",
        "df[\"outliers\"] = outliers\n",
        "\n",
        "# Outliersız data\n",
        "df_no_outliers = df[df[\"outliers\"] == 0]\n",
        "df_no_outliers = df_no_outliers.drop([\"outliers\"], axis = 1)\n",
        "\n",
        "# Outlierlı data\n",
        "df_with_outliers = df.copy()\n",
        "df_with_outliers = df_with_outliers.drop([\"outliers\"], axis = 1)\n",
        "\n",
        "print(df_no_outliers.shape)\n",
        "print(df_with_outliers.shape)"
      ],
      "metadata": {
        "colab": {
          "base_uri": "https://localhost:8080/"
        },
        "id": "Xb1LlLl8RN4R",
        "outputId": "408b9aa4-dbfc-49ea-d99f-f3e0258bf59b"
      },
      "execution_count": null,
      "outputs": [
        {
          "output_type": "stream",
          "name": "stdout",
          "text": [
            "(36905, 6)\n",
            "(41006, 6)\n"
          ]
        }
      ]
    },
    {
      "cell_type": "code",
      "source": [
        "df=df_no_outliers"
      ],
      "metadata": {
        "id": "jRi35IHBRN1J"
      },
      "execution_count": null,
      "outputs": []
    },
    {
      "cell_type": "code",
      "source": [
        "# 'TOPLAM_INS' sütununu kullanarak verileri sırala (büyükten küçüğe)\n",
        "df = df.sort_values(by='ENERJI', ascending=False)\n",
        "\n",
        "# En büyük üç değeri seç\n",
        "en_buyuk_uc = df.head(14)\n",
        "\n",
        "# En büyük üç değeri içermeyen yeni bir DataFrame oluştur\n",
        "df = df.drop(en_buyuk_uc.index)"
      ],
      "metadata": {
        "id": "dGkUQVqJRNx6"
      },
      "execution_count": null,
      "outputs": []
    },
    {
      "cell_type": "code",
      "source": [
        "X = df.drop('ENERJI',axis=1).values\n",
        "y = df['ENERJI'].values"
      ],
      "metadata": {
        "id": "8lkiSaAFRaym"
      },
      "execution_count": null,
      "outputs": []
    },
    {
      "cell_type": "code",
      "source": [
        "y=np.log(y)"
      ],
      "metadata": {
        "id": "o8VeyBMURavK"
      },
      "execution_count": null,
      "outputs": []
    },
    {
      "cell_type": "code",
      "source": [
        "# NumPy dizisini Pandas Series'e dönüştürme\n",
        "y_series = pd.Series(y)\n",
        "\n",
        "# y_series'in describe() fonksiyonunu kullanarak istatistiksel özetini alın\n",
        "y_series.describe()"
      ],
      "metadata": {
        "colab": {
          "base_uri": "https://localhost:8080/"
        },
        "id": "ltoUvU6bRasf",
        "outputId": "e8c418b3-741f-43cb-e06f-46fa743037f7"
      },
      "execution_count": null,
      "outputs": [
        {
          "output_type": "execute_result",
          "data": {
            "text/plain": [
              "count    36891.000000\n",
              "mean        11.601937\n",
              "std          0.806192\n",
              "min          8.994215\n",
              "25%         11.025889\n",
              "50%         11.591737\n",
              "75%         12.199116\n",
              "max         14.258525\n",
              "dtype: float64"
            ]
          },
          "metadata": {},
          "execution_count": 10
        }
      ]
    },
    {
      "cell_type": "code",
      "source": [
        "from sklearn.model_selection import train_test_split\n",
        "X_train, X_test, y_train, y_test = train_test_split(X,y,test_size=0.30,random_state=42)"
      ],
      "metadata": {
        "id": "25AFQkPQRNvf"
      },
      "execution_count": null,
      "outputs": []
    },
    {
      "cell_type": "code",
      "source": [
        "scaler = MinMaxScaler()\n",
        "scaler.fit(X_train)\n",
        "X_train = scaler.transform(X_train)\n",
        "X_test = scaler.transform(X_test)"
      ],
      "metadata": {
        "id": "VwI2c3n0Rkee"
      },
      "execution_count": null,
      "outputs": []
    },
    {
      "cell_type": "code",
      "source": [
        "from tensorflow.keras.models import Sequential\n",
        "from tensorflow.keras.layers import Dense, Dropout\n",
        "\n",
        "model = Sequential()\n",
        "model.add(Dense(20, activation='relu', input_shape=(5,)))\n",
        "model.add(Dense(10, activation='relu'))\n",
        "model.add(Dense(10, activation='relu'))\n",
        "model.add(Dense(10, activation='relu'))\n",
        "model.add(Dense(8, activation='relu'))\n",
        "model.add(Dense(1))\n",
        "\n",
        "custom_optimizer = tf.keras.optimizers.Adam(learning_rate=0.01)\n",
        "model.compile(optimizer=custom_optimizer, loss='mse')"
      ],
      "metadata": {
        "id": "OHCYv2epRka6"
      },
      "execution_count": null,
      "outputs": []
    },
    {
      "cell_type": "code",
      "source": [
        "from keras.utils import plot_model"
      ],
      "metadata": {
        "id": "rJlrF3AfR007"
      },
      "execution_count": null,
      "outputs": []
    },
    {
      "cell_type": "code",
      "source": [
        "from tensorflow.keras.callbacks import EarlyStopping\n",
        "early_stop = EarlyStopping(monitor='val_loss', mode='min', verbose=1, patience=25)\n",
        "\n",
        "model.fit(x=X_train, y=y_train, validation_data=(X_test, y_test), epochs=600,  batch_size=128, callbacks=[early_stop])"
      ],
      "metadata": {
        "colab": {
          "base_uri": "https://localhost:8080/"
        },
        "id": "hjVs0WJMR0xf",
        "outputId": "7256675a-b89f-48fb-b95d-716330310e45"
      },
      "execution_count": null,
      "outputs": [
        {
          "output_type": "stream",
          "name": "stdout",
          "text": [
            "Epoch 1/600\n",
            "202/202 [==============================] - 3s 6ms/step - loss: 14.2991 - val_loss: 0.5461\n",
            "Epoch 2/600\n",
            "202/202 [==============================] - 1s 4ms/step - loss: 0.4365 - val_loss: 0.3460\n",
            "Epoch 3/600\n",
            "202/202 [==============================] - 1s 3ms/step - loss: 0.3059 - val_loss: 0.2660\n",
            "Epoch 4/600\n",
            "202/202 [==============================] - 1s 3ms/step - loss: 0.2511 - val_loss: 0.2320\n",
            "Epoch 5/600\n",
            "202/202 [==============================] - 1s 5ms/step - loss: 0.2365 - val_loss: 0.2319\n",
            "Epoch 6/600\n",
            "202/202 [==============================] - 1s 5ms/step - loss: 0.2321 - val_loss: 0.2422\n",
            "Epoch 7/600\n",
            "202/202 [==============================] - 1s 5ms/step - loss: 0.2309 - val_loss: 0.2244\n",
            "Epoch 8/600\n",
            "202/202 [==============================] - 1s 6ms/step - loss: 0.2311 - val_loss: 0.2258\n",
            "Epoch 9/600\n",
            "202/202 [==============================] - 1s 6ms/step - loss: 0.2350 - val_loss: 0.2242\n",
            "Epoch 10/600\n",
            "202/202 [==============================] - 1s 6ms/step - loss: 0.2312 - val_loss: 0.2260\n",
            "Epoch 11/600\n",
            "202/202 [==============================] - 1s 5ms/step - loss: 0.2318 - val_loss: 0.2271\n",
            "Epoch 12/600\n",
            "202/202 [==============================] - 1s 6ms/step - loss: 0.2317 - val_loss: 0.2349\n",
            "Epoch 13/600\n",
            "202/202 [==============================] - 2s 8ms/step - loss: 0.2344 - val_loss: 0.2346\n",
            "Epoch 14/600\n",
            "202/202 [==============================] - 1s 7ms/step - loss: 0.2390 - val_loss: 0.2214\n",
            "Epoch 15/600\n",
            "202/202 [==============================] - 1s 6ms/step - loss: 0.2317 - val_loss: 0.2234\n",
            "Epoch 16/600\n",
            "202/202 [==============================] - 1s 7ms/step - loss: 0.2343 - val_loss: 0.2214\n",
            "Epoch 17/600\n",
            "202/202 [==============================] - 1s 6ms/step - loss: 0.2360 - val_loss: 0.2239\n",
            "Epoch 18/600\n",
            "202/202 [==============================] - 1s 6ms/step - loss: 0.2357 - val_loss: 0.2226\n",
            "Epoch 19/600\n",
            "202/202 [==============================] - 1s 6ms/step - loss: 0.2312 - val_loss: 0.2181\n",
            "Epoch 20/600\n",
            "202/202 [==============================] - 1s 7ms/step - loss: 0.2334 - val_loss: 0.2300\n",
            "Epoch 21/600\n",
            "202/202 [==============================] - 1s 6ms/step - loss: 0.2308 - val_loss: 0.2230\n",
            "Epoch 22/600\n",
            "202/202 [==============================] - 1s 4ms/step - loss: 0.2352 - val_loss: 0.2454\n",
            "Epoch 23/600\n",
            "202/202 [==============================] - 1s 4ms/step - loss: 0.2310 - val_loss: 0.2252\n",
            "Epoch 24/600\n",
            "202/202 [==============================] - 1s 4ms/step - loss: 0.2314 - val_loss: 0.2222\n",
            "Epoch 25/600\n",
            "202/202 [==============================] - 1s 4ms/step - loss: 0.2282 - val_loss: 0.2161\n",
            "Epoch 26/600\n",
            "202/202 [==============================] - 1s 3ms/step - loss: 0.2245 - val_loss: 0.2371\n",
            "Epoch 27/600\n",
            "202/202 [==============================] - 0s 2ms/step - loss: 0.2292 - val_loss: 0.2294\n",
            "Epoch 28/600\n",
            "202/202 [==============================] - 1s 3ms/step - loss: 0.2298 - val_loss: 0.2772\n",
            "Epoch 29/600\n",
            "202/202 [==============================] - 1s 2ms/step - loss: 0.2253 - val_loss: 0.2151\n",
            "Epoch 30/600\n",
            "202/202 [==============================] - 1s 3ms/step - loss: 0.2236 - val_loss: 0.2150\n",
            "Epoch 31/600\n",
            "202/202 [==============================] - 1s 3ms/step - loss: 0.2307 - val_loss: 0.2175\n",
            "Epoch 32/600\n",
            "202/202 [==============================] - 1s 3ms/step - loss: 0.2254 - val_loss: 0.2150\n",
            "Epoch 33/600\n",
            "202/202 [==============================] - 1s 3ms/step - loss: 0.2223 - val_loss: 0.2215\n",
            "Epoch 34/600\n",
            "202/202 [==============================] - 1s 3ms/step - loss: 0.2226 - val_loss: 0.2277\n",
            "Epoch 35/600\n",
            "202/202 [==============================] - 0s 2ms/step - loss: 0.2262 - val_loss: 0.2129\n",
            "Epoch 36/600\n",
            "202/202 [==============================] - 1s 3ms/step - loss: 0.2208 - val_loss: 0.2132\n",
            "Epoch 37/600\n",
            "202/202 [==============================] - 1s 3ms/step - loss: 0.2245 - val_loss: 0.2145\n",
            "Epoch 38/600\n",
            "202/202 [==============================] - 1s 3ms/step - loss: 0.2232 - val_loss: 0.2693\n",
            "Epoch 39/600\n",
            "202/202 [==============================] - 1s 3ms/step - loss: 0.2216 - val_loss: 0.2231\n",
            "Epoch 40/600\n",
            "202/202 [==============================] - 1s 3ms/step - loss: 0.2210 - val_loss: 0.2081\n",
            "Epoch 41/600\n",
            "202/202 [==============================] - 1s 3ms/step - loss: 0.2171 - val_loss: 0.2004\n",
            "Epoch 42/600\n",
            "202/202 [==============================] - 1s 3ms/step - loss: 0.2097 - val_loss: 0.1992\n",
            "Epoch 43/600\n",
            "202/202 [==============================] - 1s 2ms/step - loss: 0.2087 - val_loss: 0.1931\n",
            "Epoch 44/600\n",
            "202/202 [==============================] - 1s 3ms/step - loss: 0.2065 - val_loss: 0.1984\n",
            "Epoch 45/600\n",
            "202/202 [==============================] - 1s 4ms/step - loss: 0.2006 - val_loss: 0.1921\n",
            "Epoch 46/600\n",
            "202/202 [==============================] - 1s 4ms/step - loss: 0.2005 - val_loss: 0.1916\n",
            "Epoch 47/600\n",
            "202/202 [==============================] - 1s 4ms/step - loss: 0.1984 - val_loss: 0.1891\n",
            "Epoch 48/600\n",
            "202/202 [==============================] - 1s 3ms/step - loss: 0.2020 - val_loss: 0.1989\n",
            "Epoch 49/600\n",
            "202/202 [==============================] - 1s 3ms/step - loss: 0.1973 - val_loss: 0.1974\n",
            "Epoch 50/600\n",
            "202/202 [==============================] - 1s 3ms/step - loss: 0.2072 - val_loss: 0.1887\n",
            "Epoch 51/600\n",
            "202/202 [==============================] - 1s 3ms/step - loss: 0.1978 - val_loss: 0.2018\n",
            "Epoch 52/600\n",
            "202/202 [==============================] - 1s 3ms/step - loss: 0.1981 - val_loss: 0.1938\n",
            "Epoch 53/600\n",
            "202/202 [==============================] - 1s 3ms/step - loss: 0.1997 - val_loss: 0.1993\n",
            "Epoch 54/600\n",
            "202/202 [==============================] - 1s 3ms/step - loss: 0.1975 - val_loss: 0.1992\n",
            "Epoch 55/600\n",
            "202/202 [==============================] - 1s 3ms/step - loss: 0.2001 - val_loss: 0.1894\n",
            "Epoch 56/600\n",
            "202/202 [==============================] - 1s 3ms/step - loss: 0.2027 - val_loss: 0.1929\n",
            "Epoch 57/600\n",
            "202/202 [==============================] - 1s 3ms/step - loss: 0.1957 - val_loss: 0.1906\n",
            "Epoch 58/600\n",
            "202/202 [==============================] - 1s 3ms/step - loss: 0.1952 - val_loss: 0.1878\n",
            "Epoch 59/600\n",
            "202/202 [==============================] - 1s 3ms/step - loss: 0.2041 - val_loss: 0.1901\n",
            "Epoch 60/600\n",
            "202/202 [==============================] - 1s 3ms/step - loss: 0.1982 - val_loss: 0.1888\n",
            "Epoch 61/600\n",
            "202/202 [==============================] - 1s 3ms/step - loss: 0.1936 - val_loss: 0.1870\n",
            "Epoch 62/600\n",
            "202/202 [==============================] - 1s 3ms/step - loss: 0.2006 - val_loss: 0.2092\n",
            "Epoch 63/600\n",
            "202/202 [==============================] - 1s 2ms/step - loss: 0.1972 - val_loss: 0.1939\n",
            "Epoch 64/600\n",
            "202/202 [==============================] - 1s 3ms/step - loss: 0.1954 - val_loss: 0.1863\n",
            "Epoch 65/600\n",
            "202/202 [==============================] - 1s 3ms/step - loss: 0.1949 - val_loss: 0.1941\n",
            "Epoch 66/600\n",
            "202/202 [==============================] - 1s 4ms/step - loss: 0.1963 - val_loss: 0.1868\n",
            "Epoch 67/600\n",
            "202/202 [==============================] - 1s 5ms/step - loss: 0.1961 - val_loss: 0.1852\n",
            "Epoch 68/600\n",
            "202/202 [==============================] - 1s 5ms/step - loss: 0.1932 - val_loss: 0.1972\n",
            "Epoch 69/600\n",
            "202/202 [==============================] - 1s 3ms/step - loss: 0.1916 - val_loss: 0.1856\n",
            "Epoch 70/600\n",
            "202/202 [==============================] - 1s 3ms/step - loss: 0.1955 - val_loss: 0.1885\n",
            "Epoch 71/600\n",
            "202/202 [==============================] - 1s 3ms/step - loss: 0.1904 - val_loss: 0.1870\n",
            "Epoch 72/600\n",
            "202/202 [==============================] - 1s 3ms/step - loss: 0.1979 - val_loss: 0.1856\n",
            "Epoch 73/600\n",
            "202/202 [==============================] - 1s 3ms/step - loss: 0.1949 - val_loss: 0.1843\n",
            "Epoch 74/600\n",
            "202/202 [==============================] - 1s 3ms/step - loss: 0.1921 - val_loss: 0.1912\n",
            "Epoch 75/600\n",
            "202/202 [==============================] - 1s 3ms/step - loss: 0.1894 - val_loss: 0.2055\n",
            "Epoch 76/600\n",
            "202/202 [==============================] - 1s 3ms/step - loss: 0.1895 - val_loss: 0.1943\n",
            "Epoch 77/600\n",
            "202/202 [==============================] - 1s 3ms/step - loss: 0.1934 - val_loss: 0.1904\n",
            "Epoch 78/600\n",
            "202/202 [==============================] - 1s 3ms/step - loss: 0.1923 - val_loss: 0.1979\n",
            "Epoch 79/600\n",
            "202/202 [==============================] - 1s 3ms/step - loss: 0.1894 - val_loss: 0.1879\n",
            "Epoch 80/600\n",
            "202/202 [==============================] - 1s 3ms/step - loss: 0.1932 - val_loss: 0.2099\n",
            "Epoch 81/600\n",
            "202/202 [==============================] - 1s 3ms/step - loss: 0.1918 - val_loss: 0.2109\n",
            "Epoch 82/600\n",
            "202/202 [==============================] - 1s 3ms/step - loss: 0.1913 - val_loss: 0.1955\n",
            "Epoch 83/600\n",
            "202/202 [==============================] - 1s 3ms/step - loss: 0.1901 - val_loss: 0.1826\n",
            "Epoch 84/600\n",
            "202/202 [==============================] - 1s 3ms/step - loss: 0.1895 - val_loss: 0.1843\n",
            "Epoch 85/600\n",
            "202/202 [==============================] - 1s 3ms/step - loss: 0.1905 - val_loss: 0.1861\n",
            "Epoch 86/600\n",
            "202/202 [==============================] - 1s 3ms/step - loss: 0.1905 - val_loss: 0.1831\n",
            "Epoch 87/600\n",
            "202/202 [==============================] - 1s 4ms/step - loss: 0.1922 - val_loss: 0.2111\n",
            "Epoch 88/600\n",
            "202/202 [==============================] - 1s 4ms/step - loss: 0.1916 - val_loss: 0.1858\n",
            "Epoch 89/600\n",
            "202/202 [==============================] - 1s 5ms/step - loss: 0.1896 - val_loss: 0.1865\n",
            "Epoch 90/600\n",
            "202/202 [==============================] - 1s 3ms/step - loss: 0.1920 - val_loss: 0.1888\n",
            "Epoch 91/600\n",
            "202/202 [==============================] - 1s 3ms/step - loss: 0.1912 - val_loss: 0.1928\n",
            "Epoch 92/600\n",
            "202/202 [==============================] - 1s 3ms/step - loss: 0.1920 - val_loss: 0.1873\n",
            "Epoch 93/600\n",
            "202/202 [==============================] - 1s 3ms/step - loss: 0.1879 - val_loss: 0.1875\n",
            "Epoch 94/600\n",
            "202/202 [==============================] - 1s 3ms/step - loss: 0.1903 - val_loss: 0.1887\n",
            "Epoch 95/600\n",
            "202/202 [==============================] - 1s 3ms/step - loss: 0.1919 - val_loss: 0.1833\n",
            "Epoch 96/600\n",
            "202/202 [==============================] - 1s 3ms/step - loss: 0.1936 - val_loss: 0.1938\n",
            "Epoch 97/600\n",
            "202/202 [==============================] - 1s 3ms/step - loss: 0.1876 - val_loss: 0.2018\n",
            "Epoch 98/600\n",
            "202/202 [==============================] - 1s 3ms/step - loss: 0.1910 - val_loss: 0.1837\n",
            "Epoch 99/600\n",
            "202/202 [==============================] - 1s 3ms/step - loss: 0.1880 - val_loss: 0.1957\n",
            "Epoch 100/600\n",
            "202/202 [==============================] - 1s 2ms/step - loss: 0.1883 - val_loss: 0.2050\n",
            "Epoch 101/600\n",
            "202/202 [==============================] - 1s 3ms/step - loss: 0.1933 - val_loss: 0.1846\n",
            "Epoch 102/600\n",
            "202/202 [==============================] - 1s 3ms/step - loss: 0.1875 - val_loss: 0.1812\n",
            "Epoch 103/600\n",
            "202/202 [==============================] - 1s 3ms/step - loss: 0.1904 - val_loss: 0.1905\n",
            "Epoch 104/600\n",
            "202/202 [==============================] - 1s 3ms/step - loss: 0.1894 - val_loss: 0.1937\n",
            "Epoch 105/600\n",
            "202/202 [==============================] - 1s 3ms/step - loss: 0.1910 - val_loss: 0.1869\n",
            "Epoch 106/600\n",
            "202/202 [==============================] - 1s 3ms/step - loss: 0.1872 - val_loss: 0.1881\n",
            "Epoch 107/600\n",
            "202/202 [==============================] - 1s 2ms/step - loss: 0.1873 - val_loss: 0.1841\n",
            "Epoch 108/600\n",
            "202/202 [==============================] - 1s 4ms/step - loss: 0.1887 - val_loss: 0.2176\n",
            "Epoch 109/600\n",
            "202/202 [==============================] - 1s 5ms/step - loss: 0.1887 - val_loss: 0.1910\n",
            "Epoch 110/600\n",
            "202/202 [==============================] - 1s 4ms/step - loss: 0.1862 - val_loss: 0.1958\n",
            "Epoch 111/600\n",
            "202/202 [==============================] - 1s 4ms/step - loss: 0.1869 - val_loss: 0.1985\n",
            "Epoch 112/600\n",
            "202/202 [==============================] - 1s 3ms/step - loss: 0.1887 - val_loss: 0.1807\n",
            "Epoch 113/600\n",
            "202/202 [==============================] - 1s 3ms/step - loss: 0.1910 - val_loss: 0.1832\n",
            "Epoch 114/600\n",
            "202/202 [==============================] - 1s 3ms/step - loss: 0.1889 - val_loss: 0.1854\n",
            "Epoch 115/600\n",
            "202/202 [==============================] - 1s 3ms/step - loss: 0.1868 - val_loss: 0.1856\n",
            "Epoch 116/600\n",
            "202/202 [==============================] - 1s 3ms/step - loss: 0.1885 - val_loss: 0.1826\n",
            "Epoch 117/600\n",
            "202/202 [==============================] - 1s 3ms/step - loss: 0.1874 - val_loss: 0.1854\n",
            "Epoch 118/600\n",
            "202/202 [==============================] - 1s 3ms/step - loss: 0.1883 - val_loss: 0.1828\n",
            "Epoch 119/600\n",
            "202/202 [==============================] - 1s 3ms/step - loss: 0.1887 - val_loss: 0.1840\n",
            "Epoch 120/600\n",
            "202/202 [==============================] - 1s 3ms/step - loss: 0.1896 - val_loss: 0.2036\n",
            "Epoch 121/600\n",
            "202/202 [==============================] - 1s 3ms/step - loss: 0.1889 - val_loss: 0.2341\n",
            "Epoch 122/600\n",
            "202/202 [==============================] - 1s 3ms/step - loss: 0.1887 - val_loss: 0.1818\n",
            "Epoch 123/600\n",
            "202/202 [==============================] - 1s 3ms/step - loss: 0.1868 - val_loss: 0.1850\n",
            "Epoch 124/600\n",
            "202/202 [==============================] - 1s 3ms/step - loss: 0.1893 - val_loss: 0.1995\n",
            "Epoch 125/600\n",
            "202/202 [==============================] - 1s 3ms/step - loss: 0.1887 - val_loss: 0.1883\n",
            "Epoch 126/600\n",
            "202/202 [==============================] - 1s 3ms/step - loss: 0.1881 - val_loss: 0.1818\n",
            "Epoch 127/600\n",
            "202/202 [==============================] - 1s 3ms/step - loss: 0.1869 - val_loss: 0.1845\n",
            "Epoch 128/600\n",
            "202/202 [==============================] - 1s 4ms/step - loss: 0.1876 - val_loss: 0.1843\n",
            "Epoch 129/600\n",
            "202/202 [==============================] - 1s 4ms/step - loss: 0.1906 - val_loss: 0.2212\n",
            "Epoch 130/600\n",
            "202/202 [==============================] - 1s 5ms/step - loss: 0.1889 - val_loss: 0.1811\n",
            "Epoch 131/600\n",
            "202/202 [==============================] - 1s 3ms/step - loss: 0.1865 - val_loss: 0.1895\n",
            "Epoch 132/600\n",
            "202/202 [==============================] - 1s 3ms/step - loss: 0.1884 - val_loss: 0.1822\n",
            "Epoch 133/600\n",
            "202/202 [==============================] - 1s 3ms/step - loss: 0.1871 - val_loss: 0.1801\n",
            "Epoch 134/600\n",
            "202/202 [==============================] - 1s 3ms/step - loss: 0.1865 - val_loss: 0.1901\n",
            "Epoch 135/600\n",
            "202/202 [==============================] - 1s 3ms/step - loss: 0.1857 - val_loss: 0.1885\n",
            "Epoch 136/600\n",
            "202/202 [==============================] - 1s 3ms/step - loss: 0.1882 - val_loss: 0.1811\n",
            "Epoch 137/600\n",
            "202/202 [==============================] - 1s 3ms/step - loss: 0.1869 - val_loss: 0.1848\n",
            "Epoch 138/600\n",
            "202/202 [==============================] - 1s 3ms/step - loss: 0.1897 - val_loss: 0.1846\n",
            "Epoch 139/600\n",
            "202/202 [==============================] - 1s 3ms/step - loss: 0.1881 - val_loss: 0.1914\n",
            "Epoch 140/600\n",
            "202/202 [==============================] - 1s 3ms/step - loss: 0.1876 - val_loss: 0.1812\n",
            "Epoch 141/600\n",
            "202/202 [==============================] - 1s 3ms/step - loss: 0.1844 - val_loss: 0.1789\n",
            "Epoch 142/600\n",
            "202/202 [==============================] - 1s 3ms/step - loss: 0.1830 - val_loss: 0.1855\n",
            "Epoch 143/600\n",
            "202/202 [==============================] - 1s 3ms/step - loss: 0.1840 - val_loss: 0.1832\n",
            "Epoch 144/600\n",
            "202/202 [==============================] - 1s 3ms/step - loss: 0.1871 - val_loss: 0.1798\n",
            "Epoch 145/600\n",
            "202/202 [==============================] - 1s 3ms/step - loss: 0.1855 - val_loss: 0.1794\n",
            "Epoch 146/600\n",
            "202/202 [==============================] - 1s 3ms/step - loss: 0.1861 - val_loss: 0.1835\n",
            "Epoch 147/600\n",
            "202/202 [==============================] - 1s 3ms/step - loss: 0.1858 - val_loss: 0.1871\n",
            "Epoch 148/600\n",
            "202/202 [==============================] - 1s 3ms/step - loss: 0.1860 - val_loss: 0.1860\n",
            "Epoch 149/600\n",
            "202/202 [==============================] - 1s 5ms/step - loss: 0.1856 - val_loss: 0.1935\n",
            "Epoch 150/600\n",
            "202/202 [==============================] - 1s 5ms/step - loss: 0.1851 - val_loss: 0.1811\n",
            "Epoch 151/600\n",
            "202/202 [==============================] - 1s 3ms/step - loss: 0.1836 - val_loss: 0.1808\n",
            "Epoch 152/600\n",
            "202/202 [==============================] - 1s 3ms/step - loss: 0.1832 - val_loss: 0.2100\n",
            "Epoch 153/600\n",
            "202/202 [==============================] - 1s 3ms/step - loss: 0.1859 - val_loss: 0.2195\n",
            "Epoch 154/600\n",
            "202/202 [==============================] - 1s 3ms/step - loss: 0.1856 - val_loss: 0.1795\n",
            "Epoch 155/600\n",
            "202/202 [==============================] - 1s 3ms/step - loss: 0.1830 - val_loss: 0.2088\n",
            "Epoch 156/600\n",
            "202/202 [==============================] - 1s 3ms/step - loss: 0.1856 - val_loss: 0.1878\n",
            "Epoch 157/600\n",
            "202/202 [==============================] - 1s 3ms/step - loss: 0.1865 - val_loss: 0.1780\n",
            "Epoch 158/600\n",
            "202/202 [==============================] - 1s 3ms/step - loss: 0.1821 - val_loss: 0.1836\n",
            "Epoch 159/600\n",
            "202/202 [==============================] - 1s 2ms/step - loss: 0.1843 - val_loss: 0.1914\n",
            "Epoch 160/600\n",
            "202/202 [==============================] - 1s 3ms/step - loss: 0.1875 - val_loss: 0.1889\n",
            "Epoch 161/600\n",
            "202/202 [==============================] - 1s 3ms/step - loss: 0.1850 - val_loss: 0.1850\n",
            "Epoch 162/600\n",
            "202/202 [==============================] - 1s 3ms/step - loss: 0.1825 - val_loss: 0.1817\n",
            "Epoch 163/600\n",
            "202/202 [==============================] - 1s 3ms/step - loss: 0.1838 - val_loss: 0.1940\n",
            "Epoch 164/600\n",
            "202/202 [==============================] - 1s 3ms/step - loss: 0.1820 - val_loss: 0.1820\n",
            "Epoch 165/600\n",
            "202/202 [==============================] - 1s 3ms/step - loss: 0.1812 - val_loss: 0.1844\n",
            "Epoch 166/600\n",
            "202/202 [==============================] - 1s 3ms/step - loss: 0.1813 - val_loss: 0.1774\n",
            "Epoch 167/600\n",
            "202/202 [==============================] - 1s 3ms/step - loss: 0.1812 - val_loss: 0.1860\n",
            "Epoch 168/600\n",
            "202/202 [==============================] - 1s 3ms/step - loss: 0.1838 - val_loss: 0.2159\n",
            "Epoch 169/600\n",
            "202/202 [==============================] - 1s 7ms/step - loss: 0.1845 - val_loss: 0.1780\n",
            "Epoch 170/600\n",
            "202/202 [==============================] - 1s 5ms/step - loss: 0.1846 - val_loss: 0.1779\n",
            "Epoch 171/600\n",
            "202/202 [==============================] - 1s 4ms/step - loss: 0.1825 - val_loss: 0.1818\n",
            "Epoch 172/600\n",
            "202/202 [==============================] - 1s 2ms/step - loss: 0.1821 - val_loss: 0.1764\n",
            "Epoch 173/600\n",
            "202/202 [==============================] - 1s 3ms/step - loss: 0.1828 - val_loss: 0.1822\n",
            "Epoch 174/600\n",
            "202/202 [==============================] - 1s 2ms/step - loss: 0.1829 - val_loss: 0.1904\n",
            "Epoch 175/600\n",
            "202/202 [==============================] - 1s 3ms/step - loss: 0.1803 - val_loss: 0.1778\n",
            "Epoch 176/600\n",
            "202/202 [==============================] - 1s 3ms/step - loss: 0.1824 - val_loss: 0.1777\n",
            "Epoch 177/600\n",
            "202/202 [==============================] - 1s 3ms/step - loss: 0.1811 - val_loss: 0.1766\n",
            "Epoch 178/600\n",
            "202/202 [==============================] - 1s 3ms/step - loss: 0.1847 - val_loss: 0.1837\n",
            "Epoch 179/600\n",
            "202/202 [==============================] - 1s 3ms/step - loss: 0.1831 - val_loss: 0.1969\n",
            "Epoch 180/600\n",
            "202/202 [==============================] - 1s 3ms/step - loss: 0.1800 - val_loss: 0.1768\n",
            "Epoch 181/600\n",
            "202/202 [==============================] - 1s 3ms/step - loss: 0.1814 - val_loss: 0.1759\n",
            "Epoch 182/600\n",
            "202/202 [==============================] - 1s 3ms/step - loss: 0.1829 - val_loss: 0.1780\n",
            "Epoch 183/600\n",
            "202/202 [==============================] - 1s 3ms/step - loss: 0.1830 - val_loss: 0.1791\n",
            "Epoch 184/600\n",
            "202/202 [==============================] - 1s 5ms/step - loss: 0.1817 - val_loss: 0.1776\n",
            "Epoch 185/600\n",
            "202/202 [==============================] - 1s 5ms/step - loss: 0.1823 - val_loss: 0.1768\n",
            "Epoch 186/600\n",
            "202/202 [==============================] - 1s 3ms/step - loss: 0.1815 - val_loss: 0.1799\n",
            "Epoch 187/600\n",
            "202/202 [==============================] - 1s 3ms/step - loss: 0.1817 - val_loss: 0.1760\n",
            "Epoch 188/600\n",
            "202/202 [==============================] - 1s 5ms/step - loss: 0.1837 - val_loss: 0.1837\n",
            "Epoch 189/600\n",
            "202/202 [==============================] - 1s 4ms/step - loss: 0.1803 - val_loss: 0.1765\n",
            "Epoch 190/600\n",
            "202/202 [==============================] - 1s 5ms/step - loss: 0.1815 - val_loss: 0.1781\n",
            "Epoch 191/600\n",
            "202/202 [==============================] - 1s 2ms/step - loss: 0.1797 - val_loss: 0.1752\n",
            "Epoch 192/600\n",
            "202/202 [==============================] - 1s 3ms/step - loss: 0.1808 - val_loss: 0.1755\n",
            "Epoch 193/600\n",
            "202/202 [==============================] - 1s 3ms/step - loss: 0.1805 - val_loss: 0.1830\n",
            "Epoch 194/600\n",
            "202/202 [==============================] - 1s 3ms/step - loss: 0.1797 - val_loss: 0.1785\n",
            "Epoch 195/600\n",
            "202/202 [==============================] - 1s 3ms/step - loss: 0.1791 - val_loss: 0.1777\n",
            "Epoch 196/600\n",
            "202/202 [==============================] - 1s 3ms/step - loss: 0.1795 - val_loss: 0.1850\n",
            "Epoch 197/600\n",
            "202/202 [==============================] - 1s 3ms/step - loss: 0.1817 - val_loss: 0.1890\n",
            "Epoch 198/600\n",
            "202/202 [==============================] - 1s 3ms/step - loss: 0.1800 - val_loss: 0.1769\n",
            "Epoch 199/600\n",
            "202/202 [==============================] - 1s 3ms/step - loss: 0.1804 - val_loss: 0.1802\n",
            "Epoch 200/600\n",
            "202/202 [==============================] - 1s 3ms/step - loss: 0.1812 - val_loss: 0.1748\n",
            "Epoch 201/600\n",
            "202/202 [==============================] - 1s 3ms/step - loss: 0.1791 - val_loss: 0.1751\n",
            "Epoch 202/600\n",
            "202/202 [==============================] - 1s 2ms/step - loss: 0.1789 - val_loss: 0.1878\n",
            "Epoch 203/600\n",
            "202/202 [==============================] - 1s 3ms/step - loss: 0.1772 - val_loss: 0.1771\n",
            "Epoch 204/600\n",
            "202/202 [==============================] - 1s 3ms/step - loss: 0.1797 - val_loss: 0.1796\n",
            "Epoch 205/600\n",
            "202/202 [==============================] - 1s 3ms/step - loss: 0.1806 - val_loss: 0.1758\n",
            "Epoch 206/600\n",
            "202/202 [==============================] - 1s 3ms/step - loss: 0.1795 - val_loss: 0.1772\n",
            "Epoch 207/600\n",
            "202/202 [==============================] - 1s 3ms/step - loss: 0.1788 - val_loss: 0.1911\n",
            "Epoch 208/600\n",
            "202/202 [==============================] - 1s 3ms/step - loss: 0.1789 - val_loss: 0.1747\n",
            "Epoch 209/600\n",
            "202/202 [==============================] - 1s 4ms/step - loss: 0.1777 - val_loss: 0.1764\n",
            "Epoch 210/600\n",
            "202/202 [==============================] - 1s 4ms/step - loss: 0.1791 - val_loss: 0.1779\n",
            "Epoch 211/600\n",
            "202/202 [==============================] - 1s 5ms/step - loss: 0.1775 - val_loss: 0.2009\n",
            "Epoch 212/600\n",
            "202/202 [==============================] - 1s 4ms/step - loss: 0.1791 - val_loss: 0.1780\n",
            "Epoch 213/600\n",
            "202/202 [==============================] - 1s 3ms/step - loss: 0.1776 - val_loss: 0.1781\n",
            "Epoch 214/600\n",
            "202/202 [==============================] - 1s 3ms/step - loss: 0.1787 - val_loss: 0.1739\n",
            "Epoch 215/600\n",
            "202/202 [==============================] - 1s 3ms/step - loss: 0.1767 - val_loss: 0.1783\n",
            "Epoch 216/600\n",
            "202/202 [==============================] - 1s 3ms/step - loss: 0.1777 - val_loss: 0.1748\n",
            "Epoch 217/600\n",
            "202/202 [==============================] - 1s 3ms/step - loss: 0.1794 - val_loss: 0.1803\n",
            "Epoch 218/600\n",
            "202/202 [==============================] - 1s 3ms/step - loss: 0.1802 - val_loss: 0.1761\n",
            "Epoch 219/600\n",
            "202/202 [==============================] - 1s 3ms/step - loss: 0.1805 - val_loss: 0.1850\n",
            "Epoch 220/600\n",
            "202/202 [==============================] - 1s 3ms/step - loss: 0.1783 - val_loss: 0.1788\n",
            "Epoch 221/600\n",
            "202/202 [==============================] - 1s 3ms/step - loss: 0.1767 - val_loss: 0.1735\n",
            "Epoch 222/600\n",
            "202/202 [==============================] - 1s 3ms/step - loss: 0.1779 - val_loss: 0.1762\n",
            "Epoch 223/600\n",
            "202/202 [==============================] - 1s 3ms/step - loss: 0.1768 - val_loss: 0.1844\n",
            "Epoch 224/600\n",
            "202/202 [==============================] - 1s 3ms/step - loss: 0.1753 - val_loss: 0.1742\n",
            "Epoch 225/600\n",
            "202/202 [==============================] - 1s 3ms/step - loss: 0.1768 - val_loss: 0.1750\n",
            "Epoch 226/600\n",
            "202/202 [==============================] - 1s 3ms/step - loss: 0.1764 - val_loss: 0.1778\n",
            "Epoch 227/600\n",
            "202/202 [==============================] - 1s 3ms/step - loss: 0.1750 - val_loss: 0.1758\n",
            "Epoch 228/600\n",
            "202/202 [==============================] - 1s 3ms/step - loss: 0.1758 - val_loss: 0.1745\n",
            "Epoch 229/600\n",
            "202/202 [==============================] - 1s 2ms/step - loss: 0.1754 - val_loss: 0.1974\n",
            "Epoch 230/600\n",
            "202/202 [==============================] - 1s 3ms/step - loss: 0.1820 - val_loss: 0.1802\n",
            "Epoch 231/600\n",
            "202/202 [==============================] - 1s 5ms/step - loss: 0.1765 - val_loss: 0.1825\n",
            "Epoch 232/600\n",
            "202/202 [==============================] - 1s 5ms/step - loss: 0.1772 - val_loss: 0.1779\n",
            "Epoch 233/600\n",
            "202/202 [==============================] - 1s 4ms/step - loss: 0.1783 - val_loss: 0.1854\n",
            "Epoch 234/600\n",
            "202/202 [==============================] - 1s 3ms/step - loss: 0.1771 - val_loss: 0.1804\n",
            "Epoch 235/600\n",
            "202/202 [==============================] - 1s 3ms/step - loss: 0.1782 - val_loss: 0.1736\n",
            "Epoch 236/600\n",
            "202/202 [==============================] - 1s 3ms/step - loss: 0.1754 - val_loss: 0.1730\n",
            "Epoch 237/600\n",
            "202/202 [==============================] - 1s 3ms/step - loss: 0.1748 - val_loss: 0.1802\n",
            "Epoch 238/600\n",
            "202/202 [==============================] - 1s 3ms/step - loss: 0.1795 - val_loss: 0.1960\n",
            "Epoch 239/600\n",
            "202/202 [==============================] - 1s 3ms/step - loss: 0.1752 - val_loss: 0.1711\n",
            "Epoch 240/600\n",
            "202/202 [==============================] - 1s 3ms/step - loss: 0.1747 - val_loss: 0.1722\n",
            "Epoch 241/600\n",
            "202/202 [==============================] - 1s 3ms/step - loss: 0.1760 - val_loss: 0.1733\n",
            "Epoch 242/600\n",
            "202/202 [==============================] - 1s 3ms/step - loss: 0.1755 - val_loss: 0.1727\n",
            "Epoch 243/600\n",
            "202/202 [==============================] - 1s 3ms/step - loss: 0.1748 - val_loss: 0.1767\n",
            "Epoch 244/600\n",
            "202/202 [==============================] - 1s 3ms/step - loss: 0.1760 - val_loss: 0.1830\n",
            "Epoch 245/600\n",
            "202/202 [==============================] - 1s 3ms/step - loss: 0.1755 - val_loss: 0.1701\n",
            "Epoch 246/600\n",
            "202/202 [==============================] - 1s 3ms/step - loss: 0.1775 - val_loss: 0.1929\n",
            "Epoch 247/600\n",
            "202/202 [==============================] - 1s 3ms/step - loss: 0.1742 - val_loss: 0.1804\n",
            "Epoch 248/600\n",
            "202/202 [==============================] - 1s 3ms/step - loss: 0.1741 - val_loss: 0.1715\n",
            "Epoch 249/600\n",
            "202/202 [==============================] - 1s 3ms/step - loss: 0.1726 - val_loss: 0.1819\n",
            "Epoch 250/600\n",
            "202/202 [==============================] - 1s 3ms/step - loss: 0.1749 - val_loss: 0.1734\n",
            "Epoch 251/600\n",
            "202/202 [==============================] - 1s 4ms/step - loss: 0.1736 - val_loss: 0.1785\n",
            "Epoch 252/600\n",
            "202/202 [==============================] - 1s 4ms/step - loss: 0.1747 - val_loss: 0.1714\n",
            "Epoch 253/600\n",
            "202/202 [==============================] - 1s 4ms/step - loss: 0.1738 - val_loss: 0.1724\n",
            "Epoch 254/600\n",
            "202/202 [==============================] - 1s 4ms/step - loss: 0.1720 - val_loss: 0.1769\n",
            "Epoch 255/600\n",
            "202/202 [==============================] - 1s 3ms/step - loss: 0.1725 - val_loss: 0.1715\n",
            "Epoch 256/600\n",
            "202/202 [==============================] - 1s 3ms/step - loss: 0.1720 - val_loss: 0.1735\n",
            "Epoch 257/600\n",
            "202/202 [==============================] - 1s 3ms/step - loss: 0.1747 - val_loss: 0.1799\n",
            "Epoch 258/600\n",
            "202/202 [==============================] - 1s 3ms/step - loss: 0.1731 - val_loss: 0.1738\n",
            "Epoch 259/600\n",
            "202/202 [==============================] - 1s 3ms/step - loss: 0.1746 - val_loss: 0.1757\n",
            "Epoch 260/600\n",
            "202/202 [==============================] - 1s 3ms/step - loss: 0.1724 - val_loss: 0.1721\n",
            "Epoch 261/600\n",
            "202/202 [==============================] - 1s 3ms/step - loss: 0.1730 - val_loss: 0.1715\n",
            "Epoch 262/600\n",
            "202/202 [==============================] - 1s 3ms/step - loss: 0.1732 - val_loss: 0.1744\n",
            "Epoch 263/600\n",
            "202/202 [==============================] - 1s 3ms/step - loss: 0.1738 - val_loss: 0.1912\n",
            "Epoch 264/600\n",
            "202/202 [==============================] - 1s 3ms/step - loss: 0.1720 - val_loss: 0.1785\n",
            "Epoch 265/600\n",
            "202/202 [==============================] - 1s 3ms/step - loss: 0.1706 - val_loss: 0.1757\n",
            "Epoch 266/600\n",
            "202/202 [==============================] - 1s 3ms/step - loss: 0.1756 - val_loss: 0.1700\n",
            "Epoch 267/600\n",
            "202/202 [==============================] - 1s 3ms/step - loss: 0.1720 - val_loss: 0.1804\n",
            "Epoch 268/600\n",
            "202/202 [==============================] - 1s 3ms/step - loss: 0.1716 - val_loss: 0.1742\n",
            "Epoch 269/600\n",
            "202/202 [==============================] - 1s 3ms/step - loss: 0.1709 - val_loss: 0.1759\n",
            "Epoch 270/600\n",
            "202/202 [==============================] - 1s 3ms/step - loss: 0.1703 - val_loss: 0.1691\n",
            "Epoch 271/600\n",
            "202/202 [==============================] - 1s 3ms/step - loss: 0.1709 - val_loss: 0.1757\n",
            "Epoch 272/600\n",
            "202/202 [==============================] - 1s 3ms/step - loss: 0.1706 - val_loss: 0.1769\n",
            "Epoch 273/600\n",
            "202/202 [==============================] - 1s 4ms/step - loss: 0.1716 - val_loss: 0.1768\n",
            "Epoch 274/600\n",
            "202/202 [==============================] - 1s 5ms/step - loss: 0.1692 - val_loss: 0.1696\n",
            "Epoch 275/600\n",
            "202/202 [==============================] - 1s 4ms/step - loss: 0.1716 - val_loss: 0.1722\n",
            "Epoch 276/600\n",
            "202/202 [==============================] - 1s 3ms/step - loss: 0.1694 - val_loss: 0.1717\n",
            "Epoch 277/600\n",
            "202/202 [==============================] - 1s 3ms/step - loss: 0.1701 - val_loss: 0.1708\n",
            "Epoch 278/600\n",
            "202/202 [==============================] - 1s 3ms/step - loss: 0.1709 - val_loss: 0.1707\n",
            "Epoch 279/600\n",
            "202/202 [==============================] - 1s 3ms/step - loss: 0.1716 - val_loss: 0.1718\n",
            "Epoch 280/600\n",
            "202/202 [==============================] - 1s 3ms/step - loss: 0.1703 - val_loss: 0.1700\n",
            "Epoch 281/600\n",
            "202/202 [==============================] - 1s 3ms/step - loss: 0.1688 - val_loss: 0.1677\n",
            "Epoch 282/600\n",
            "202/202 [==============================] - 1s 3ms/step - loss: 0.1688 - val_loss: 0.1721\n",
            "Epoch 283/600\n",
            "202/202 [==============================] - 1s 3ms/step - loss: 0.1700 - val_loss: 0.1718\n",
            "Epoch 284/600\n",
            "202/202 [==============================] - 1s 3ms/step - loss: 0.1712 - val_loss: 0.1717\n",
            "Epoch 285/600\n",
            "202/202 [==============================] - 1s 3ms/step - loss: 0.1700 - val_loss: 0.1687\n",
            "Epoch 286/600\n",
            "202/202 [==============================] - 1s 3ms/step - loss: 0.1691 - val_loss: 0.1741\n",
            "Epoch 287/600\n",
            "202/202 [==============================] - 1s 3ms/step - loss: 0.1712 - val_loss: 0.1703\n",
            "Epoch 288/600\n",
            "202/202 [==============================] - 1s 3ms/step - loss: 0.1709 - val_loss: 0.1712\n",
            "Epoch 289/600\n",
            "202/202 [==============================] - 1s 3ms/step - loss: 0.1689 - val_loss: 0.1729\n",
            "Epoch 290/600\n",
            "202/202 [==============================] - 1s 3ms/step - loss: 0.1734 - val_loss: 0.1708\n",
            "Epoch 291/600\n",
            "202/202 [==============================] - 1s 3ms/step - loss: 0.1690 - val_loss: 0.1712\n",
            "Epoch 292/600\n",
            "202/202 [==============================] - 1s 3ms/step - loss: 0.1707 - val_loss: 0.1713\n",
            "Epoch 293/600\n",
            "202/202 [==============================] - 1s 3ms/step - loss: 0.1704 - val_loss: 0.1705\n",
            "Epoch 294/600\n",
            "202/202 [==============================] - 1s 5ms/step - loss: 0.1705 - val_loss: 0.1777\n",
            "Epoch 295/600\n",
            "202/202 [==============================] - 1s 5ms/step - loss: 0.1707 - val_loss: 0.1694\n",
            "Epoch 296/600\n",
            "202/202 [==============================] - 1s 4ms/step - loss: 0.1707 - val_loss: 0.1707\n",
            "Epoch 297/600\n",
            "202/202 [==============================] - 1s 3ms/step - loss: 0.1698 - val_loss: 0.1704\n",
            "Epoch 298/600\n",
            "202/202 [==============================] - 1s 3ms/step - loss: 0.1700 - val_loss: 0.1750\n",
            "Epoch 299/600\n",
            "202/202 [==============================] - 1s 3ms/step - loss: 0.1700 - val_loss: 0.1716\n",
            "Epoch 300/600\n",
            "202/202 [==============================] - 1s 3ms/step - loss: 0.1682 - val_loss: 0.1875\n",
            "Epoch 301/600\n",
            "202/202 [==============================] - 1s 3ms/step - loss: 0.1698 - val_loss: 0.1716\n",
            "Epoch 302/600\n",
            "202/202 [==============================] - 1s 3ms/step - loss: 0.1714 - val_loss: 0.1691\n",
            "Epoch 303/600\n",
            "202/202 [==============================] - 1s 3ms/step - loss: 0.1700 - val_loss: 0.1713\n",
            "Epoch 304/600\n",
            "202/202 [==============================] - 1s 3ms/step - loss: 0.1697 - val_loss: 0.1715\n",
            "Epoch 305/600\n",
            "202/202 [==============================] - 1s 3ms/step - loss: 0.1689 - val_loss: 0.1703\n",
            "Epoch 306/600\n",
            "202/202 [==============================] - 1s 3ms/step - loss: 0.1703 - val_loss: 0.1723\n",
            "Epoch 306: early stopping\n"
          ]
        },
        {
          "output_type": "execute_result",
          "data": {
            "text/plain": [
              "<keras.src.callbacks.History at 0x789b34605240>"
            ]
          },
          "metadata": {},
          "execution_count": 15
        }
      ]
    },
    {
      "cell_type": "code",
      "source": [
        "predictions = model.predict(X_test)"
      ],
      "metadata": {
        "colab": {
          "base_uri": "https://localhost:8080/"
        },
        "id": "4u7YPSuhR5-U",
        "outputId": "3b40feb4-a4d2-4520-906f-d5b65ff36568"
      },
      "execution_count": null,
      "outputs": [
        {
          "output_type": "stream",
          "name": "stdout",
          "text": [
            "346/346 [==============================] - 1s 1ms/step\n"
          ]
        }
      ]
    },
    {
      "cell_type": "code",
      "source": [
        "import numpy as np\n",
        "np.sqrt(mean_squared_error(y_test,predictions))"
      ],
      "metadata": {
        "colab": {
          "base_uri": "https://localhost:8080/"
        },
        "id": "IPYwN8FaZvZg",
        "outputId": "3e46fded-8885-4cc4-bcbc-67cfe87e0abd"
      },
      "execution_count": null,
      "outputs": [
        {
          "output_type": "execute_result",
          "data": {
            "text/plain": [
              "0.415139573122014"
            ]
          },
          "metadata": {},
          "execution_count": 17
        }
      ]
    },
    {
      "cell_type": "code",
      "source": [
        "mean_absolute_error(y_test,predictions)"
      ],
      "metadata": {
        "colab": {
          "base_uri": "https://localhost:8080/"
        },
        "id": "xmdGMqGFipKg",
        "outputId": "82883a93-3def-4ec5-ca96-167cfab70725"
      },
      "execution_count": null,
      "outputs": [
        {
          "output_type": "execute_result",
          "data": {
            "text/plain": [
              "0.30596854782232513"
            ]
          },
          "metadata": {},
          "execution_count": 19
        }
      ]
    },
    {
      "cell_type": "code",
      "source": [
        "from sklearn.metrics import mean_squared_error,mean_absolute_error,explained_variance_score\n",
        "explained_variance_score(y_test,predictions)"
      ],
      "metadata": {
        "colab": {
          "base_uri": "https://localhost:8080/"
        },
        "id": "z-B0jASCZvV9",
        "outputId": "47de87d0-2904-4a61-d635-4e683585659c"
      },
      "execution_count": null,
      "outputs": [
        {
          "output_type": "execute_result",
          "data": {
            "text/plain": [
              "0.7380560009829003"
            ]
          },
          "metadata": {},
          "execution_count": 18
        }
      ]
    },
    {
      "cell_type": "code",
      "source": [
        "egitim_tahmin = model.predict(X_train)"
      ],
      "metadata": {
        "colab": {
          "base_uri": "https://localhost:8080/"
        },
        "id": "Ku4FkCu3igGO",
        "outputId": "e743c41b-5970-4746-ac55-71143a503613"
      },
      "execution_count": null,
      "outputs": [
        {
          "output_type": "stream",
          "name": "stdout",
          "text": [
            "807/807 [==============================] - 1s 1ms/step\n"
          ]
        }
      ]
    },
    {
      "cell_type": "code",
      "source": [
        "egitim_tahmin.shape"
      ],
      "metadata": {
        "colab": {
          "base_uri": "https://localhost:8080/"
        },
        "id": "U0HefBiKiugt",
        "outputId": "80200f3d-65a2-416d-ad09-504a43961a55"
      },
      "execution_count": null,
      "outputs": [
        {
          "output_type": "execute_result",
          "data": {
            "text/plain": [
              "(25823, 1)"
            ]
          },
          "metadata": {},
          "execution_count": 21
        }
      ]
    },
    {
      "cell_type": "code",
      "source": [
        "np.sqrt(mean_squared_error(y_train,egitim_tahmin))"
      ],
      "metadata": {
        "colab": {
          "base_uri": "https://localhost:8080/"
        },
        "id": "1ykZba91iudK",
        "outputId": "60f8356f-40bb-4c61-f164-3ab0bf0b8d1c"
      },
      "execution_count": null,
      "outputs": [
        {
          "output_type": "execute_result",
          "data": {
            "text/plain": [
              "0.4111248188505258"
            ]
          },
          "metadata": {},
          "execution_count": 22
        }
      ]
    },
    {
      "cell_type": "code",
      "source": [
        "mean_absolute_error(y_train,egitim_tahmin)"
      ],
      "metadata": {
        "colab": {
          "base_uri": "https://localhost:8080/"
        },
        "id": "k-UOx_ZXiubN",
        "outputId": "277088d9-7139-4b87-9190-079f0dd08d30"
      },
      "execution_count": null,
      "outputs": [
        {
          "output_type": "execute_result",
          "data": {
            "text/plain": [
              "0.3038530397144629"
            ]
          },
          "metadata": {},
          "execution_count": 23
        }
      ]
    },
    {
      "cell_type": "code",
      "source": [
        "explained_variance_score(y_train,egitim_tahmin)"
      ],
      "metadata": {
        "colab": {
          "base_uri": "https://localhost:8080/"
        },
        "id": "DJf1vNpgi5hq",
        "outputId": "e6113a1f-b085-4237-df93-b530a18a0183"
      },
      "execution_count": null,
      "outputs": [
        {
          "output_type": "execute_result",
          "data": {
            "text/plain": [
              "0.7401957775926644"
            ]
          },
          "metadata": {},
          "execution_count": 24
        }
      ]
    },
    {
      "cell_type": "code",
      "source": [
        "plt.scatter(y_test,predictions)\n",
        "plt.xlabel('y_test')\n",
        "plt.ylabel('Prediction')\n",
        "plt.title('Loss Change According to Epoch Number')\n",
        "\n",
        "\n",
        "# Grafiği PNG olarak kaydetme\n",
        "plt.savefig('ANN_scatter.png', format='png')"
      ],
      "metadata": {
        "colab": {
          "base_uri": "https://localhost:8080/",
          "height": 472
        },
        "id": "NOgzQ7jHjAm4",
        "outputId": "c6433933-97cc-434a-bdfb-549e6dc4c43f"
      },
      "execution_count": null,
      "outputs": [
        {
          "output_type": "display_data",
          "data": {
            "text/plain": [
              "<Figure size 640x480 with 1 Axes>"
            ],
            "image/png": "[encoded data removed]"
          },
          "metadata": {}
        }
      ]
    },
    {
      "cell_type": "code",
      "source": [
        "import matplotlib.pyplot as plt\n",
        "# İlk 120 veriyi seç\n",
        "indexler = range(1, 301)\n",
        "\n",
        "# Gerçek Data -> Grand Truth\n",
        "fig, ax = plt.subplots(figsize=(12, 8))\n",
        "ax.plot(indexler, y_test[:300], label='True Data', color='red', linewidth=2)\n",
        "\n",
        "# Tahmin -> Prediction\n",
        "ax.plot(indexler, predictions [:300], label='Prediction', color='green', linewidth=2)\n",
        "\n",
        "plt.savefig('True-Pred.png', format='png')\n",
        "\n",
        "plt.title('True - Prediction')\n",
        "plt.xlabel('Data Index')\n",
        "plt.ylabel('Energy')\n",
        "plt.legend(loc='upper left')\n",
        "plt.show()"
      ],
      "metadata": {
        "colab": {
          "base_uri": "https://localhost:8080/",
          "height": 718
        },
        "id": "VOJKiF3TjAjV",
        "outputId": "29f51cbd-6331-4d73-e751-7963b798819f"
      },
      "execution_count": null,
      "outputs": [
        {
          "output_type": "display_data",
          "data": {
            "text/plain": [
              "<Figure size 1200x800 with 1 Axes>"
            ],
            "image/png": "[encoded data removed]"
          },
          "metadata": {}
        }
      ]
    },
    {
      "cell_type": "code",
      "source": [
        "pip install shap==0.42.0"
      ],
      "metadata": {
        "colab": {
          "base_uri": "https://localhost:8080/"
        },
        "id": "WWF-1HYZjAgz",
        "outputId": "58aedd0d-2fe0-4aee-d138-ec2a70c2a811"
      },
      "execution_count": null,
      "outputs": [
        {
          "output_type": "stream",
          "name": "stdout",
          "text": [
            "Collecting shap==0.42.0\n",
            "  Downloading shap-0.42.0-cp310-cp310-manylinux_2_12_x86_64.manylinux2010_x86_64.manylinux_2_17_x86_64.manylinux2014_x86_64.whl (547 kB)\n",
            "\u001b[?25l     \u001b[90m━━━━━━━━━━━━━━━━━━━━━━━━━━━━━━━━━━━━━━━━\u001b[0m \u001b[32m0.0/547.1 kB\u001b[0m \u001b[31m?\u001b[0m eta \u001b[36m-:--:--\u001b[0m\r\u001b[2K     \u001b[91m━━━━━━\u001b[0m\u001b[91m╸\u001b[0m\u001b[90m━━━━━━━━━━━━━━━━━━━━━━━━━━━━━━━━━\u001b[0m \u001b[32m92.2/547.1 kB\u001b[0m \u001b[31m2.5 MB/s\u001b[0m eta \u001b[36m0:00:01\u001b[0m\r\u001b[2K     \u001b[91m━━━━━━━━━━━━━━━━━━━━━━━━━━━━━━━━━━━━━━━\u001b[0m\u001b[91m╸\u001b[0m \u001b[32m542.7/547.1 kB\u001b[0m \u001b[31m7.8 MB/s\u001b[0m eta \u001b[36m0:00:01\u001b[0m\r\u001b[2K     \u001b[90m━━━━━━━━━━━━━━━━━━━━━━━━━━━━━━━━━━━━━━━━\u001b[0m \u001b[32m547.1/547.1 kB\u001b[0m \u001b[31m6.8 MB/s\u001b[0m eta \u001b[36m0:00:00\u001b[0m\n",
            "\u001b[?25hRequirement already satisfied: numpy in /usr/local/lib/python3.10/dist-packages (from shap==0.42.0) (1.25.2)\n",
            "Requirement already satisfied: scipy in /usr/local/lib/python3.10/dist-packages (from shap==0.42.0) (1.11.4)\n",
            "Requirement already satisfied: scikit-learn in /usr/local/lib/python3.10/dist-packages (from shap==0.42.0) (1.2.2)\n",
            "Requirement already satisfied: pandas in /usr/local/lib/python3.10/dist-packages (from shap==0.42.0) (2.0.3)\n",
            "Requirement already satisfied: tqdm>=4.27.0 in /usr/local/lib/python3.10/dist-packages (from shap==0.42.0) (4.66.2)\n",
            "Requirement already satisfied: packaging>20.9 in /usr/local/lib/python3.10/dist-packages (from shap==0.42.0) (24.0)\n",
            "Collecting slicer==0.0.7 (from shap==0.42.0)\n",
            "  Downloading slicer-0.0.7-py3-none-any.whl (14 kB)\n",
            "Requirement already satisfied: numba in /usr/local/lib/python3.10/dist-packages (from shap==0.42.0) (0.58.1)\n",
            "Requirement already satisfied: cloudpickle in /usr/local/lib/python3.10/dist-packages (from shap==0.42.0) (2.2.1)\n",
            "Requirement already satisfied: llvmlite<0.42,>=0.41.0dev0 in /usr/local/lib/python3.10/dist-packages (from numba->shap==0.42.0) (0.41.1)\n",
            "Requirement already satisfied: python-dateutil>=2.8.2 in /usr/local/lib/python3.10/dist-packages (from pandas->shap==0.42.0) (2.8.2)\n",
            "Requirement already satisfied: pytz>=2020.1 in /usr/local/lib/python3.10/dist-packages (from pandas->shap==0.42.0) (2023.4)\n",
            "Requirement already satisfied: tzdata>=2022.1 in /usr/local/lib/python3.10/dist-packages (from pandas->shap==0.42.0) (2024.1)\n",
            "Requirement already satisfied: joblib>=1.1.1 in /usr/local/lib/python3.10/dist-packages (from scikit-learn->shap==0.42.0) (1.4.0)\n",
            "Requirement already satisfied: threadpoolctl>=2.0.0 in /usr/local/lib/python3.10/dist-packages (from scikit-learn->shap==0.42.0) (3.4.0)\n",
            "Requirement already satisfied: six>=1.5 in /usr/local/lib/python3.10/dist-packages (from python-dateutil>=2.8.2->pandas->shap==0.42.0) (1.16.0)\n",
            "Installing collected packages: slicer, shap\n",
            "Successfully installed shap-0.42.0 slicer-0.0.7\n"
          ]
        }
      ]
    },
    {
      "cell_type": "code",
      "source": [
        "import shap\n",
        "X_sub = shap.sample(X_train, 100)\n",
        "explainer = shap.Explainer(model.predict, X_sub)\n",
        "shap_values = explainer(X_test[:100])"
      ],
      "metadata": {
        "colab": {
          "base_uri": "https://localhost:8080/"
        },
        "id": "LQ44nNb5jFo9",
        "outputId": "16ff2e8a-1ed0-4023-cae2-f746c633c117"
      },
      "execution_count": null,
      "outputs": [
        {
          "output_type": "stream",
          "name": "stderr",
          "text": [
            "Using `tqdm.autonotebook.tqdm` in notebook mode. Use `tqdm.tqdm` instead to force console mode (e.g. in jupyter console)\n"
          ]
        },
        {
          "output_type": "stream",
          "name": "stdout",
          "text": [
            "100/100 [==============================] - 0s 3ms/step\n"
          ]
        },
        {
          "output_type": "stream",
          "name": "stderr",
          "text": [
            "\rExact explainer:   1%|          | 1/100 [00:00<?, ?it/s]"
          ]
        },
        {
          "output_type": "stream",
          "name": "stdout",
          "text": [
            "53/53 [==============================] - 0s 5ms/step\n",
            "19/19 [==============================] - 0s 9ms/step\n"
          ]
        },
        {
          "output_type": "stream",
          "name": "stderr",
          "text": [
            "\rExact explainer:   3%|▎         | 3/100 [00:11<00:42,  2.27it/s]"
          ]
        },
        {
          "output_type": "stream",
          "name": "stdout",
          "text": [
            "53/53 [==============================] - 0s 6ms/step\n",
            "19/19 [==============================] - 0s 2ms/step\n"
          ]
        },
        {
          "output_type": "stream",
          "name": "stderr",
          "text": [
            "\rExact explainer:   4%|▍         | 4/100 [00:12<01:10,  1.35it/s]"
          ]
        },
        {
          "output_type": "stream",
          "name": "stdout",
          "text": [
            "53/53 [==============================] - 0s 3ms/step\n",
            "19/19 [==============================] - 0s 4ms/step\n"
          ]
        },
        {
          "output_type": "stream",
          "name": "stderr",
          "text": [
            "\rExact explainer:   5%|▌         | 5/100 [00:13<01:07,  1.40it/s]"
          ]
        },
        {
          "output_type": "stream",
          "name": "stdout",
          "text": [
            "53/53 [==============================] - 0s 3ms/step\n",
            "19/19 [==============================] - 0s 4ms/step\n"
          ]
        },
        {
          "output_type": "stream",
          "name": "stderr",
          "text": [
            "\rExact explainer:   6%|▌         | 6/100 [00:14<01:12,  1.30it/s]"
          ]
        },
        {
          "output_type": "stream",
          "name": "stdout",
          "text": [
            "53/53 [==============================] - 0s 3ms/step\n",
            "19/19 [==============================] - 0s 9ms/step\n"
          ]
        },
        {
          "output_type": "stream",
          "name": "stderr",
          "text": [
            "\rExact explainer:   7%|▋         | 7/100 [00:15<01:16,  1.22it/s]"
          ]
        },
        {
          "output_type": "stream",
          "name": "stdout",
          "text": [
            "100/100 [==============================] - 1s 5ms/step\n",
            "19/19 [==============================] - 0s 5ms/step\n"
          ]
        },
        {
          "output_type": "stream",
          "name": "stderr",
          "text": [
            "\rExact explainer:   8%|▊         | 8/100 [00:17<01:50,  1.20s/it]"
          ]
        },
        {
          "output_type": "stream",
          "name": "stdout",
          "text": [
            "53/53 [==============================] - 0s 3ms/step\n",
            "19/19 [==============================] - 0s 2ms/step\n"
          ]
        },
        {
          "output_type": "stream",
          "name": "stderr",
          "text": [
            "\rExact explainer:   9%|▉         | 9/100 [00:18<01:31,  1.00s/it]"
          ]
        },
        {
          "output_type": "stream",
          "name": "stdout",
          "text": [
            "53/53 [==============================] - 0s 2ms/step\n",
            "19/19 [==============================] - 0s 2ms/step\n"
          ]
        },
        {
          "output_type": "stream",
          "name": "stderr",
          "text": [
            "\rExact explainer:  10%|█         | 10/100 [00:18<01:17,  1.15it/s]"
          ]
        },
        {
          "output_type": "stream",
          "name": "stdout",
          "text": [
            "53/53 [==============================] - 0s 2ms/step\n",
            "19/19 [==============================] - 0s 2ms/step\n"
          ]
        },
        {
          "output_type": "stream",
          "name": "stderr",
          "text": [
            "\rExact explainer:  11%|█         | 11/100 [00:18<01:01,  1.44it/s]"
          ]
        },
        {
          "output_type": "stream",
          "name": "stdout",
          "text": [
            "53/53 [==============================] - 0s 2ms/step\n",
            "19/19 [==============================] - 0s 3ms/step\n"
          ]
        },
        {
          "output_type": "stream",
          "name": "stderr",
          "text": [
            "\rExact explainer:  12%|█▏        | 12/100 [00:19<00:51,  1.70it/s]"
          ]
        },
        {
          "output_type": "stream",
          "name": "stdout",
          "text": [
            "53/53 [==============================] - 0s 2ms/step\n",
            "19/19 [==============================] - 0s 2ms/step\n"
          ]
        },
        {
          "output_type": "stream",
          "name": "stderr",
          "text": [
            "\rExact explainer:  13%|█▎        | 13/100 [00:19<00:50,  1.72it/s]"
          ]
        },
        {
          "output_type": "stream",
          "name": "stdout",
          "text": [
            "53/53 [==============================] - 0s 2ms/step\n",
            "19/19 [==============================] - 0s 2ms/step\n"
          ]
        },
        {
          "output_type": "stream",
          "name": "stderr",
          "text": [
            "\rExact explainer:  14%|█▍        | 14/100 [00:20<00:49,  1.75it/s]"
          ]
        },
        {
          "output_type": "stream",
          "name": "stdout",
          "text": [
            "53/53 [==============================] - 0s 2ms/step\n",
            "19/19 [==============================] - 0s 2ms/step\n"
          ]
        },
        {
          "output_type": "stream",
          "name": "stderr",
          "text": [
            "\rExact explainer:  15%|█▌        | 15/100 [00:20<00:48,  1.74it/s]"
          ]
        },
        {
          "output_type": "stream",
          "name": "stdout",
          "text": [
            "53/53 [==============================] - 0s 2ms/step\n",
            "19/19 [==============================] - 0s 1ms/step\n"
          ]
        },
        {
          "output_type": "stream",
          "name": "stderr",
          "text": [
            "\rExact explainer:  16%|█▌        | 16/100 [00:21<00:47,  1.78it/s]"
          ]
        },
        {
          "output_type": "stream",
          "name": "stdout",
          "text": [
            "53/53 [==============================] - 0s 1ms/step\n",
            "19/19 [==============================] - 0s 1ms/step\n"
          ]
        },
        {
          "output_type": "stream",
          "name": "stderr",
          "text": [
            "\rExact explainer:  17%|█▋        | 17/100 [00:21<00:39,  2.08it/s]"
          ]
        },
        {
          "output_type": "stream",
          "name": "stdout",
          "text": [
            "53/53 [==============================] - 0s 1ms/step\n",
            "19/19 [==============================] - 0s 1ms/step\n"
          ]
        },
        {
          "output_type": "stream",
          "name": "stderr",
          "text": [
            "\rExact explainer:  18%|█▊        | 18/100 [00:22<00:35,  2.34it/s]"
          ]
        },
        {
          "output_type": "stream",
          "name": "stdout",
          "text": [
            "53/53 [==============================] - 0s 1ms/step\n",
            "19/19 [==============================] - 0s 2ms/step\n"
          ]
        },
        {
          "output_type": "stream",
          "name": "stderr",
          "text": [
            "\rExact explainer:  19%|█▉        | 19/100 [00:22<00:32,  2.52it/s]"
          ]
        },
        {
          "output_type": "stream",
          "name": "stdout",
          "text": [
            "53/53 [==============================] - 0s 2ms/step\n",
            "19/19 [==============================] - 0s 2ms/step\n"
          ]
        },
        {
          "output_type": "stream",
          "name": "stderr",
          "text": [
            "\rExact explainer:  20%|██        | 20/100 [00:22<00:29,  2.70it/s]"
          ]
        },
        {
          "output_type": "stream",
          "name": "stdout",
          "text": [
            "53/53 [==============================] - 0s 1ms/step\n",
            "19/19 [==============================] - 0s 2ms/step\n"
          ]
        },
        {
          "output_type": "stream",
          "name": "stderr",
          "text": [
            "\rExact explainer:  21%|██        | 21/100 [00:22<00:26,  2.93it/s]"
          ]
        },
        {
          "output_type": "stream",
          "name": "stdout",
          "text": [
            "100/100 [==============================] - 0s 1ms/step\n",
            "19/19 [==============================] - 0s 2ms/step\n"
          ]
        },
        {
          "output_type": "stream",
          "name": "stderr",
          "text": [
            "\rExact explainer:  22%|██▏       | 22/100 [00:23<00:27,  2.86it/s]"
          ]
        },
        {
          "output_type": "stream",
          "name": "stdout",
          "text": [
            "53/53 [==============================] - 0s 1ms/step\n",
            "19/19 [==============================] - 0s 2ms/step\n"
          ]
        },
        {
          "output_type": "stream",
          "name": "stderr",
          "text": [
            "\rExact explainer:  23%|██▎       | 23/100 [00:23<00:26,  2.87it/s]"
          ]
        },
        {
          "output_type": "stream",
          "name": "stdout",
          "text": [
            "53/53 [==============================] - 0s 1ms/step\n",
            "19/19 [==============================] - 0s 2ms/step\n"
          ]
        },
        {
          "output_type": "stream",
          "name": "stderr",
          "text": [
            "\rExact explainer:  24%|██▍       | 24/100 [00:23<00:25,  3.00it/s]"
          ]
        },
        {
          "output_type": "stream",
          "name": "stdout",
          "text": [
            "53/53 [==============================] - 0s 1ms/step\n",
            "19/19 [==============================] - 0s 2ms/step\n"
          ]
        },
        {
          "output_type": "stream",
          "name": "stderr",
          "text": [
            "\rExact explainer:  25%|██▌       | 25/100 [00:24<00:24,  3.11it/s]"
          ]
        },
        {
          "output_type": "stream",
          "name": "stdout",
          "text": [
            "53/53 [==============================] - 0s 1ms/step\n",
            "19/19 [==============================] - 0s 2ms/step\n"
          ]
        },
        {
          "output_type": "stream",
          "name": "stderr",
          "text": [
            "\rExact explainer:  26%|██▌       | 26/100 [00:24<00:23,  3.16it/s]"
          ]
        },
        {
          "output_type": "stream",
          "name": "stdout",
          "text": [
            "53/53 [==============================] - 0s 2ms/step\n",
            "19/19 [==============================] - 0s 1ms/step\n"
          ]
        },
        {
          "output_type": "stream",
          "name": "stderr",
          "text": [
            "\rExact explainer:  27%|██▋       | 27/100 [00:24<00:23,  3.09it/s]"
          ]
        },
        {
          "output_type": "stream",
          "name": "stdout",
          "text": [
            "53/53 [==============================] - 0s 2ms/step\n",
            "19/19 [==============================] - 0s 2ms/step\n"
          ]
        },
        {
          "output_type": "stream",
          "name": "stderr",
          "text": [
            "\rExact explainer:  28%|██▊       | 28/100 [00:25<00:22,  3.15it/s]"
          ]
        },
        {
          "output_type": "stream",
          "name": "stdout",
          "text": [
            "53/53 [==============================] - 0s 1ms/step\n",
            "19/19 [==============================] - 0s 2ms/step\n"
          ]
        },
        {
          "output_type": "stream",
          "name": "stderr",
          "text": [
            "\rExact explainer:  29%|██▉       | 29/100 [00:25<00:23,  3.08it/s]"
          ]
        },
        {
          "output_type": "stream",
          "name": "stdout",
          "text": [
            "53/53 [==============================] - 0s 1ms/step\n",
            "19/19 [==============================] - 0s 2ms/step\n"
          ]
        },
        {
          "output_type": "stream",
          "name": "stderr",
          "text": [
            "\rExact explainer:  30%|███       | 30/100 [00:25<00:23,  3.03it/s]"
          ]
        },
        {
          "output_type": "stream",
          "name": "stdout",
          "text": [
            "53/53 [==============================] - 0s 1ms/step\n",
            "19/19 [==============================] - 0s 1ms/step\n"
          ]
        },
        {
          "output_type": "stream",
          "name": "stderr",
          "text": [
            "\rExact explainer:  31%|███       | 31/100 [00:26<00:21,  3.14it/s]"
          ]
        },
        {
          "output_type": "stream",
          "name": "stdout",
          "text": [
            "53/53 [==============================] - 0s 1ms/step\n",
            "19/19 [==============================] - 0s 2ms/step\n"
          ]
        },
        {
          "output_type": "stream",
          "name": "stderr",
          "text": [
            "\rExact explainer:  32%|███▏      | 32/100 [00:26<00:22,  3.08it/s]"
          ]
        },
        {
          "output_type": "stream",
          "name": "stdout",
          "text": [
            "53/53 [==============================] - 0s 2ms/step\n",
            "19/19 [==============================] - 0s 2ms/step\n"
          ]
        },
        {
          "output_type": "stream",
          "name": "stderr",
          "text": [
            "\rExact explainer:  33%|███▎      | 33/100 [00:26<00:21,  3.09it/s]"
          ]
        },
        {
          "output_type": "stream",
          "name": "stdout",
          "text": [
            "53/53 [==============================] - 0s 1ms/step\n",
            "19/19 [==============================] - 0s 1ms/step\n"
          ]
        },
        {
          "output_type": "stream",
          "name": "stderr",
          "text": [
            "\rExact explainer:  34%|███▍      | 34/100 [00:27<00:20,  3.27it/s]"
          ]
        },
        {
          "output_type": "stream",
          "name": "stdout",
          "text": [
            "53/53 [==============================] - 0s 1ms/step\n",
            "19/19 [==============================] - 0s 1ms/step\n"
          ]
        },
        {
          "output_type": "stream",
          "name": "stderr",
          "text": [
            "\rExact explainer:  35%|███▌      | 35/100 [00:27<00:19,  3.27it/s]"
          ]
        },
        {
          "output_type": "stream",
          "name": "stdout",
          "text": [
            "53/53 [==============================] - 0s 1ms/step\n",
            "19/19 [==============================] - 0s 2ms/step\n"
          ]
        },
        {
          "output_type": "stream",
          "name": "stderr",
          "text": [
            "\rExact explainer:  36%|███▌      | 36/100 [00:27<00:20,  3.20it/s]"
          ]
        },
        {
          "output_type": "stream",
          "name": "stdout",
          "text": [
            "53/53 [==============================] - 0s 1ms/step\n",
            "19/19 [==============================] - 0s 1ms/step\n"
          ]
        },
        {
          "output_type": "stream",
          "name": "stderr",
          "text": [
            "\rExact explainer:  37%|███▋      | 37/100 [00:28<00:19,  3.30it/s]"
          ]
        },
        {
          "output_type": "stream",
          "name": "stdout",
          "text": [
            "53/53 [==============================] - 0s 1ms/step\n",
            "19/19 [==============================] - 0s 2ms/step\n"
          ]
        },
        {
          "output_type": "stream",
          "name": "stderr",
          "text": [
            "\rExact explainer:  38%|███▊      | 38/100 [00:28<00:19,  3.18it/s]"
          ]
        },
        {
          "output_type": "stream",
          "name": "stdout",
          "text": [
            "53/53 [==============================] - 0s 1ms/step\n",
            "19/19 [==============================] - 0s 1ms/step\n"
          ]
        },
        {
          "output_type": "stream",
          "name": "stderr",
          "text": [
            "\rExact explainer:  39%|███▉      | 39/100 [00:28<00:18,  3.30it/s]"
          ]
        },
        {
          "output_type": "stream",
          "name": "stdout",
          "text": [
            "53/53 [==============================] - 0s 1ms/step\n",
            "19/19 [==============================] - 0s 2ms/step\n"
          ]
        },
        {
          "output_type": "stream",
          "name": "stderr",
          "text": [
            "\rExact explainer:  40%|████      | 40/100 [00:28<00:18,  3.28it/s]"
          ]
        },
        {
          "output_type": "stream",
          "name": "stdout",
          "text": [
            "53/53 [==============================] - 0s 1ms/step\n",
            "19/19 [==============================] - 0s 2ms/step\n"
          ]
        },
        {
          "output_type": "stream",
          "name": "stderr",
          "text": [
            "\rExact explainer:  41%|████      | 41/100 [00:29<00:18,  3.16it/s]"
          ]
        },
        {
          "output_type": "stream",
          "name": "stdout",
          "text": [
            "53/53 [==============================] - 0s 1ms/step\n",
            "19/19 [==============================] - 0s 1ms/step\n"
          ]
        },
        {
          "output_type": "stream",
          "name": "stderr",
          "text": [
            "\rExact explainer:  42%|████▏     | 42/100 [00:29<00:18,  3.11it/s]"
          ]
        },
        {
          "output_type": "stream",
          "name": "stdout",
          "text": [
            "53/53 [==============================] - 0s 1ms/step\n",
            "19/19 [==============================] - 0s 1ms/step\n"
          ]
        },
        {
          "output_type": "stream",
          "name": "stderr",
          "text": [
            "\rExact explainer:  43%|████▎     | 43/100 [00:29<00:18,  3.02it/s]"
          ]
        },
        {
          "output_type": "stream",
          "name": "stdout",
          "text": [
            "53/53 [==============================] - 0s 1ms/step\n",
            "19/19 [==============================] - 0s 1ms/step\n"
          ]
        },
        {
          "output_type": "stream",
          "name": "stderr",
          "text": [
            "\rExact explainer:  44%|████▍     | 44/100 [00:30<00:17,  3.16it/s]"
          ]
        },
        {
          "output_type": "stream",
          "name": "stdout",
          "text": [
            "53/53 [==============================] - 0s 1ms/step\n",
            "19/19 [==============================] - 0s 2ms/step\n"
          ]
        },
        {
          "output_type": "stream",
          "name": "stderr",
          "text": [
            "\rExact explainer:  45%|████▌     | 45/100 [00:30<00:17,  3.06it/s]"
          ]
        },
        {
          "output_type": "stream",
          "name": "stdout",
          "text": [
            "53/53 [==============================] - 0s 2ms/step\n",
            "19/19 [==============================] - 0s 2ms/step\n"
          ]
        },
        {
          "output_type": "stream",
          "name": "stderr",
          "text": [
            "\rExact explainer:  46%|████▌     | 46/100 [00:30<00:17,  3.02it/s]"
          ]
        },
        {
          "output_type": "stream",
          "name": "stdout",
          "text": [
            "53/53 [==============================] - 0s 1ms/step\n",
            "19/19 [==============================] - 0s 2ms/step\n"
          ]
        },
        {
          "output_type": "stream",
          "name": "stderr",
          "text": [
            "\rExact explainer:  47%|████▋     | 47/100 [00:31<00:17,  3.01it/s]"
          ]
        },
        {
          "output_type": "stream",
          "name": "stdout",
          "text": [
            "53/53 [==============================] - 0s 2ms/step\n",
            "19/19 [==============================] - 0s 2ms/step\n"
          ]
        },
        {
          "output_type": "stream",
          "name": "stderr",
          "text": [
            "\rExact explainer:  48%|████▊     | 48/100 [00:31<00:21,  2.47it/s]"
          ]
        },
        {
          "output_type": "stream",
          "name": "stdout",
          "text": [
            "53/53 [==============================] - 0s 2ms/step\n",
            "19/19 [==============================] - 0s 2ms/step\n"
          ]
        },
        {
          "output_type": "stream",
          "name": "stderr",
          "text": [
            "\rExact explainer:  49%|████▉     | 49/100 [00:32<00:20,  2.49it/s]"
          ]
        },
        {
          "output_type": "stream",
          "name": "stdout",
          "text": [
            "53/53 [==============================] - 0s 2ms/step\n",
            "19/19 [==============================] - 0s 3ms/step\n"
          ]
        },
        {
          "output_type": "stream",
          "name": "stderr",
          "text": [
            "\rExact explainer:  50%|█████     | 50/100 [00:32<00:23,  2.11it/s]"
          ]
        },
        {
          "output_type": "stream",
          "name": "stdout",
          "text": [
            "53/53 [==============================] - 0s 2ms/step\n",
            "19/19 [==============================] - 0s 2ms/step\n"
          ]
        },
        {
          "output_type": "stream",
          "name": "stderr",
          "text": [
            "\rExact explainer:  51%|█████     | 51/100 [00:33<00:21,  2.23it/s]"
          ]
        },
        {
          "output_type": "stream",
          "name": "stdout",
          "text": [
            "53/53 [==============================] - 0s 2ms/step\n",
            "19/19 [==============================] - 0s 2ms/step\n"
          ]
        },
        {
          "output_type": "stream",
          "name": "stderr",
          "text": [
            "\rExact explainer:  52%|█████▏    | 52/100 [00:33<00:20,  2.29it/s]"
          ]
        },
        {
          "output_type": "stream",
          "name": "stdout",
          "text": [
            "53/53 [==============================] - 0s 2ms/step\n",
            "19/19 [==============================] - 0s 2ms/step\n"
          ]
        },
        {
          "output_type": "stream",
          "name": "stderr",
          "text": [
            "\rExact explainer:  53%|█████▎    | 53/100 [00:34<00:19,  2.46it/s]"
          ]
        },
        {
          "output_type": "stream",
          "name": "stdout",
          "text": [
            "53/53 [==============================] - 0s 1ms/step\n",
            "19/19 [==============================] - 0s 2ms/step\n"
          ]
        },
        {
          "output_type": "stream",
          "name": "stderr",
          "text": [
            "\rExact explainer:  54%|█████▍    | 54/100 [00:34<00:17,  2.66it/s]"
          ]
        },
        {
          "output_type": "stream",
          "name": "stdout",
          "text": [
            "53/53 [==============================] - 0s 1ms/step\n",
            "19/19 [==============================] - 0s 2ms/step\n"
          ]
        },
        {
          "output_type": "stream",
          "name": "stderr",
          "text": [
            "\rExact explainer:  55%|█████▌    | 55/100 [00:34<00:15,  2.87it/s]"
          ]
        },
        {
          "output_type": "stream",
          "name": "stdout",
          "text": [
            "53/53 [==============================] - 0s 1ms/step\n",
            "19/19 [==============================] - 0s 2ms/step\n"
          ]
        },
        {
          "output_type": "stream",
          "name": "stderr",
          "text": [
            "\rExact explainer:  56%|█████▌    | 56/100 [00:34<00:15,  2.86it/s]"
          ]
        },
        {
          "output_type": "stream",
          "name": "stdout",
          "text": [
            "100/100 [==============================] - 0s 1ms/step\n",
            "19/19 [==============================] - 0s 2ms/step\n"
          ]
        },
        {
          "output_type": "stream",
          "name": "stderr",
          "text": [
            "\rExact explainer:  57%|█████▋    | 57/100 [00:35<00:16,  2.57it/s]"
          ]
        },
        {
          "output_type": "stream",
          "name": "stdout",
          "text": [
            "53/53 [==============================] - 0s 1ms/step\n",
            "19/19 [==============================] - 0s 2ms/step\n"
          ]
        },
        {
          "output_type": "stream",
          "name": "stderr",
          "text": [
            "\rExact explainer:  58%|█████▊    | 58/100 [00:35<00:16,  2.60it/s]"
          ]
        },
        {
          "output_type": "stream",
          "name": "stdout",
          "text": [
            "53/53 [==============================] - 0s 3ms/step\n",
            "19/19 [==============================] - 0s 3ms/step\n"
          ]
        },
        {
          "output_type": "stream",
          "name": "stderr",
          "text": [
            "\rExact explainer:  59%|█████▉    | 59/100 [00:36<00:19,  2.05it/s]"
          ]
        },
        {
          "output_type": "stream",
          "name": "stdout",
          "text": [
            "100/100 [==============================] - 0s 3ms/step\n",
            "19/19 [==============================] - 0s 3ms/step\n"
          ]
        },
        {
          "output_type": "stream",
          "name": "stderr",
          "text": [
            "\rExact explainer:  60%|██████    | 60/100 [00:37<00:25,  1.55it/s]"
          ]
        },
        {
          "output_type": "stream",
          "name": "stdout",
          "text": [
            "53/53 [==============================] - 0s 2ms/step\n",
            "19/19 [==============================] - 0s 2ms/step\n"
          ]
        },
        {
          "output_type": "stream",
          "name": "stderr",
          "text": [
            "\rExact explainer:  61%|██████    | 61/100 [00:38<00:25,  1.54it/s]"
          ]
        },
        {
          "output_type": "stream",
          "name": "stdout",
          "text": [
            "53/53 [==============================] - 0s 3ms/step\n",
            "19/19 [==============================] - 0s 5ms/step\n"
          ]
        },
        {
          "output_type": "stream",
          "name": "stderr",
          "text": [
            "\rExact explainer:  62%|██████▏   | 62/100 [00:38<00:24,  1.53it/s]"
          ]
        },
        {
          "output_type": "stream",
          "name": "stdout",
          "text": [
            "53/53 [==============================] - 0s 3ms/step\n",
            "19/19 [==============================] - 0s 5ms/step\n"
          ]
        },
        {
          "output_type": "stream",
          "name": "stderr",
          "text": [
            "\rExact explainer:  63%|██████▎   | 63/100 [00:39<00:23,  1.57it/s]"
          ]
        },
        {
          "output_type": "stream",
          "name": "stdout",
          "text": [
            "53/53 [==============================] - 0s 5ms/step\n",
            "19/19 [==============================] - 0s 2ms/step\n"
          ]
        },
        {
          "output_type": "stream",
          "name": "stderr",
          "text": [
            "\rExact explainer:  64%|██████▍   | 64/100 [00:40<00:26,  1.35it/s]"
          ]
        },
        {
          "output_type": "stream",
          "name": "stdout",
          "text": [
            "53/53 [==============================] - 0s 3ms/step\n",
            "19/19 [==============================] - 0s 4ms/step\n"
          ]
        },
        {
          "output_type": "stream",
          "name": "stderr",
          "text": [
            "\rExact explainer:  65%|██████▌   | 65/100 [00:41<00:25,  1.38it/s]"
          ]
        },
        {
          "output_type": "stream",
          "name": "stdout",
          "text": [
            "53/53 [==============================] - 0s 3ms/step\n",
            "19/19 [==============================] - 0s 3ms/step\n"
          ]
        },
        {
          "output_type": "stream",
          "name": "stderr",
          "text": [
            "\rExact explainer:  66%|██████▌   | 66/100 [00:41<00:25,  1.36it/s]"
          ]
        },
        {
          "output_type": "stream",
          "name": "stdout",
          "text": [
            "53/53 [==============================] - 0s 4ms/step\n",
            "19/19 [==============================] - 0s 2ms/step\n"
          ]
        },
        {
          "output_type": "stream",
          "name": "stderr",
          "text": [
            "\rExact explainer:  67%|██████▋   | 67/100 [00:42<00:23,  1.38it/s]"
          ]
        },
        {
          "output_type": "stream",
          "name": "stdout",
          "text": [
            "53/53 [==============================] - 0s 4ms/step\n",
            "19/19 [==============================] - 0s 2ms/step\n"
          ]
        },
        {
          "output_type": "stream",
          "name": "stderr",
          "text": [
            "\rExact explainer:  68%|██████▊   | 68/100 [00:43<00:22,  1.40it/s]"
          ]
        },
        {
          "output_type": "stream",
          "name": "stdout",
          "text": [
            "53/53 [==============================] - 0s 3ms/step\n",
            "19/19 [==============================] - 0s 5ms/step\n"
          ]
        },
        {
          "output_type": "stream",
          "name": "stderr",
          "text": [
            "\rExact explainer:  69%|██████▉   | 69/100 [00:44<00:22,  1.38it/s]"
          ]
        },
        {
          "output_type": "stream",
          "name": "stdout",
          "text": [
            "53/53 [==============================] - 0s 5ms/step\n",
            "19/19 [==============================] - 0s 8ms/step\n"
          ]
        },
        {
          "output_type": "stream",
          "name": "stderr",
          "text": [
            "\rExact explainer:  70%|███████   | 70/100 [00:45<00:30,  1.01s/it]"
          ]
        },
        {
          "output_type": "stream",
          "name": "stdout",
          "text": [
            "53/53 [==============================] - 0s 3ms/step\n",
            "19/19 [==============================] - 0s 7ms/step\n"
          ]
        },
        {
          "output_type": "stream",
          "name": "stderr",
          "text": [
            "\rExact explainer:  71%|███████   | 71/100 [00:46<00:28,  1.00it/s]"
          ]
        },
        {
          "output_type": "stream",
          "name": "stdout",
          "text": [
            "53/53 [==============================] - 0s 3ms/step\n",
            "19/19 [==============================] - 0s 10ms/step\n"
          ]
        },
        {
          "output_type": "stream",
          "name": "stderr",
          "text": [
            "\rExact explainer:  72%|███████▏  | 72/100 [00:47<00:29,  1.04s/it]"
          ]
        },
        {
          "output_type": "stream",
          "name": "stdout",
          "text": [
            "53/53 [==============================] - 0s 3ms/step\n",
            "19/19 [==============================] - 0s 5ms/step\n"
          ]
        },
        {
          "output_type": "stream",
          "name": "stderr",
          "text": [
            "\rExact explainer:  73%|███████▎  | 73/100 [00:48<00:27,  1.03s/it]"
          ]
        },
        {
          "output_type": "stream",
          "name": "stdout",
          "text": [
            "53/53 [==============================] - 0s 5ms/step\n",
            "19/19 [==============================] - 0s 5ms/step\n"
          ]
        },
        {
          "output_type": "stream",
          "name": "stderr",
          "text": [
            "\rExact explainer:  74%|███████▍  | 74/100 [00:50<00:28,  1.11s/it]"
          ]
        },
        {
          "output_type": "stream",
          "name": "stdout",
          "text": [
            "53/53 [==============================] - 0s 4ms/step\n",
            "19/19 [==============================] - 0s 4ms/step\n"
          ]
        },
        {
          "output_type": "stream",
          "name": "stderr",
          "text": [
            "\rExact explainer:  75%|███████▌  | 75/100 [00:50<00:24,  1.01it/s]"
          ]
        },
        {
          "output_type": "stream",
          "name": "stdout",
          "text": [
            "53/53 [==============================] - 0s 3ms/step\n",
            "19/19 [==============================] - 0s 2ms/step\n"
          ]
        },
        {
          "output_type": "stream",
          "name": "stderr",
          "text": [
            "\rExact explainer:  76%|███████▌  | 76/100 [00:51<00:21,  1.10it/s]"
          ]
        },
        {
          "output_type": "stream",
          "name": "stdout",
          "text": [
            "53/53 [==============================] - 0s 4ms/step\n",
            "19/19 [==============================] - 0s 5ms/step\n"
          ]
        },
        {
          "output_type": "stream",
          "name": "stderr",
          "text": [
            "\rExact explainer:  77%|███████▋  | 77/100 [00:52<00:20,  1.10it/s]"
          ]
        },
        {
          "output_type": "stream",
          "name": "stdout",
          "text": [
            "53/53 [==============================] - 0s 2ms/step\n",
            "19/19 [==============================] - 0s 5ms/step\n"
          ]
        },
        {
          "output_type": "stream",
          "name": "stderr",
          "text": [
            "\rExact explainer:  78%|███████▊  | 78/100 [00:53<00:18,  1.18it/s]"
          ]
        },
        {
          "output_type": "stream",
          "name": "stdout",
          "text": [
            "53/53 [==============================] - 0s 3ms/step\n",
            "19/19 [==============================] - 0s 3ms/step\n"
          ]
        },
        {
          "output_type": "stream",
          "name": "stderr",
          "text": [
            "\rExact explainer:  79%|███████▉  | 79/100 [00:53<00:16,  1.25it/s]"
          ]
        },
        {
          "output_type": "stream",
          "name": "stdout",
          "text": [
            "53/53 [==============================] - 0s 4ms/step\n",
            "19/19 [==============================] - 0s 2ms/step\n"
          ]
        },
        {
          "output_type": "stream",
          "name": "stderr",
          "text": [
            "\rExact explainer:  80%|████████  | 80/100 [00:54<00:15,  1.27it/s]"
          ]
        },
        {
          "output_type": "stream",
          "name": "stdout",
          "text": [
            "53/53 [==============================] - 0s 4ms/step\n",
            "19/19 [==============================] - 0s 6ms/step\n"
          ]
        },
        {
          "output_type": "stream",
          "name": "stderr",
          "text": [
            "\rExact explainer:  81%|████████  | 81/100 [00:55<00:17,  1.10it/s]"
          ]
        },
        {
          "output_type": "stream",
          "name": "stdout",
          "text": [
            "53/53 [==============================] - 0s 3ms/step\n",
            "19/19 [==============================] - 0s 2ms/step\n"
          ]
        },
        {
          "output_type": "stream",
          "name": "stderr",
          "text": [
            "\rExact explainer:  82%|████████▏ | 82/100 [00:56<00:15,  1.19it/s]"
          ]
        },
        {
          "output_type": "stream",
          "name": "stdout",
          "text": [
            "53/53 [==============================] - 0s 5ms/step\n",
            "19/19 [==============================] - 0s 10ms/step\n"
          ]
        },
        {
          "output_type": "stream",
          "name": "stderr",
          "text": [
            "\rExact explainer:  83%|████████▎ | 83/100 [00:57<00:16,  1.00it/s]"
          ]
        },
        {
          "output_type": "stream",
          "name": "stdout",
          "text": [
            "53/53 [==============================] - 0s 6ms/step\n",
            "19/19 [==============================] - 0s 5ms/step\n"
          ]
        },
        {
          "output_type": "stream",
          "name": "stderr",
          "text": [
            "\rExact explainer:  84%|████████▍ | 84/100 [00:59<00:17,  1.10s/it]"
          ]
        },
        {
          "output_type": "stream",
          "name": "stdout",
          "text": [
            "100/100 [==============================] - 0s 3ms/step\n",
            "19/19 [==============================] - 0s 7ms/step\n"
          ]
        },
        {
          "output_type": "stream",
          "name": "stderr",
          "text": [
            "\rExact explainer:  85%|████████▌ | 85/100 [01:00<00:17,  1.19s/it]"
          ]
        },
        {
          "output_type": "stream",
          "name": "stdout",
          "text": [
            "53/53 [==============================] - 0s 6ms/step\n",
            "19/19 [==============================] - 0s 7ms/step\n"
          ]
        },
        {
          "output_type": "stream",
          "name": "stderr",
          "text": [
            "\rExact explainer:  86%|████████▌ | 86/100 [01:01<00:17,  1.25s/it]"
          ]
        },
        {
          "output_type": "stream",
          "name": "stdout",
          "text": [
            "53/53 [==============================] - 0s 3ms/step\n",
            "19/19 [==============================] - 0s 2ms/step\n"
          ]
        },
        {
          "output_type": "stream",
          "name": "stderr",
          "text": [
            "\rExact explainer:  87%|████████▋ | 87/100 [01:02<00:14,  1.12s/it]"
          ]
        },
        {
          "output_type": "stream",
          "name": "stdout",
          "text": [
            "53/53 [==============================] - 0s 3ms/step\n",
            "19/19 [==============================] - 0s 2ms/step\n"
          ]
        },
        {
          "output_type": "stream",
          "name": "stderr",
          "text": [
            "\rExact explainer:  88%|████████▊ | 88/100 [01:03<00:11,  1.01it/s]"
          ]
        },
        {
          "output_type": "stream",
          "name": "stdout",
          "text": [
            "53/53 [==============================] - 0s 5ms/step\n",
            "19/19 [==============================] - 0s 3ms/step\n"
          ]
        },
        {
          "output_type": "stream",
          "name": "stderr",
          "text": [
            "\rExact explainer:  89%|████████▉ | 89/100 [01:04<00:10,  1.01it/s]"
          ]
        },
        {
          "output_type": "stream",
          "name": "stdout",
          "text": [
            "53/53 [==============================] - 0s 4ms/step\n",
            "19/19 [==============================] - 0s 5ms/step\n"
          ]
        },
        {
          "output_type": "stream",
          "name": "stderr",
          "text": [
            "\rExact explainer:  90%|█████████ | 90/100 [01:05<00:09,  1.03it/s]"
          ]
        },
        {
          "output_type": "stream",
          "name": "stdout",
          "text": [
            "53/53 [==============================] - 0s 1ms/step\n",
            "19/19 [==============================] - 0s 2ms/step\n"
          ]
        },
        {
          "output_type": "stream",
          "name": "stderr",
          "text": [
            "\rExact explainer:  91%|█████████ | 91/100 [01:05<00:07,  1.25it/s]"
          ]
        },
        {
          "output_type": "stream",
          "name": "stdout",
          "text": [
            "53/53 [==============================] - 0s 2ms/step\n",
            "19/19 [==============================] - 0s 1ms/step\n"
          ]
        },
        {
          "output_type": "stream",
          "name": "stderr",
          "text": [
            "\rExact explainer:  92%|█████████▏| 92/100 [01:06<00:05,  1.51it/s]"
          ]
        },
        {
          "output_type": "stream",
          "name": "stdout",
          "text": [
            "53/53 [==============================] - 0s 1ms/step\n",
            "19/19 [==============================] - 0s 2ms/step\n"
          ]
        },
        {
          "output_type": "stream",
          "name": "stderr",
          "text": [
            "\rExact explainer:  93%|█████████▎| 93/100 [01:06<00:03,  1.77it/s]"
          ]
        },
        {
          "output_type": "stream",
          "name": "stdout",
          "text": [
            "53/53 [==============================] - 0s 1ms/step\n",
            "19/19 [==============================] - 0s 1ms/step\n"
          ]
        },
        {
          "output_type": "stream",
          "name": "stderr",
          "text": [
            "\rExact explainer:  94%|█████████▍| 94/100 [01:06<00:02,  2.02it/s]"
          ]
        },
        {
          "output_type": "stream",
          "name": "stdout",
          "text": [
            "53/53 [==============================] - 0s 1ms/step\n",
            "19/19 [==============================] - 0s 1ms/step\n"
          ]
        },
        {
          "output_type": "stream",
          "name": "stderr",
          "text": [
            "\rExact explainer:  95%|█████████▌| 95/100 [01:07<00:02,  2.22it/s]"
          ]
        },
        {
          "output_type": "stream",
          "name": "stdout",
          "text": [
            "53/53 [==============================] - 0s 2ms/step\n",
            "19/19 [==============================] - 0s 2ms/step\n"
          ]
        },
        {
          "output_type": "stream",
          "name": "stderr",
          "text": [
            "\rExact explainer:  96%|█████████▌| 96/100 [01:07<00:01,  2.40it/s]"
          ]
        },
        {
          "output_type": "stream",
          "name": "stdout",
          "text": [
            "53/53 [==============================] - 0s 1ms/step\n",
            "19/19 [==============================] - 0s 1ms/step\n"
          ]
        },
        {
          "output_type": "stream",
          "name": "stderr",
          "text": [
            "\rExact explainer:  97%|█████████▋| 97/100 [01:07<00:01,  2.67it/s]"
          ]
        },
        {
          "output_type": "stream",
          "name": "stdout",
          "text": [
            "53/53 [==============================] - 0s 1ms/step\n",
            "19/19 [==============================] - 0s 2ms/step\n"
          ]
        },
        {
          "output_type": "stream",
          "name": "stderr",
          "text": [
            "\rExact explainer:  98%|█████████▊| 98/100 [01:08<00:00,  2.84it/s]"
          ]
        },
        {
          "output_type": "stream",
          "name": "stdout",
          "text": [
            "53/53 [==============================] - 0s 2ms/step\n",
            "19/19 [==============================] - 0s 2ms/step\n"
          ]
        },
        {
          "output_type": "stream",
          "name": "stderr",
          "text": [
            "\rExact explainer:  99%|█████████▉| 99/100 [01:08<00:00,  3.00it/s]"
          ]
        },
        {
          "output_type": "stream",
          "name": "stdout",
          "text": [
            "53/53 [==============================] - 0s 1ms/step\n",
            "19/19 [==============================] - 0s 2ms/step\n"
          ]
        },
        {
          "output_type": "stream",
          "name": "stderr",
          "text": [
            "\rExact explainer: 100%|██████████| 100/100 [01:08<00:00,  3.11it/s]"
          ]
        },
        {
          "output_type": "stream",
          "name": "stdout",
          "text": [
            "53/53 [==============================] - 0s 1ms/step\n",
            "19/19 [==============================] - 0s 2ms/step\n"
          ]
        },
        {
          "output_type": "stream",
          "name": "stderr",
          "text": [
            "Exact explainer: 101it [01:09,  1.45it/s]\n"
          ]
        }
      ]
    },
    {
      "cell_type": "code",
      "source": [
        "shap.plots.beeswarm(shap_values)\n",
        "\n",
        "plt.savefig('shap_values_beeswarm.png', format='png')\n",
        "\n",
        "plt.show()"
      ],
      "metadata": {
        "colab": {
          "base_uri": "https://localhost:8080/",
          "height": 395
        },
        "id": "LRgNJiP8jFlj",
        "outputId": "acd55162-12e0-4dac-c1cb-f2891749cb82"
      },
      "execution_count": null,
      "outputs": [
        {
          "output_type": "stream",
          "name": "stderr",
          "text": [
            "No data for colormapping provided via 'c'. Parameters 'vmin', 'vmax' will be ignored\n"
          ]
        },
        {
          "output_type": "display_data",
          "data": {
            "text/plain": [
              "<Figure size 800x350 with 2 Axes>"
            ],
            "image/png": "[encoded data removed]"
          },
          "metadata": {}
        },
        {
          "output_type": "display_data",
          "data": {
            "text/plain": [
              "<Figure size 640x480 with 0 Axes>"
            ]
          },
          "metadata": {}
        }
      ]
    },
    {
      "cell_type": "code",
      "source": [
        "# SHAP değerlerini görselleştirin\n",
        "shap.plots.beeswarm(shap_values)\n",
        "\n",
        "# Görseli kaydedin\n",
        "plt.savefig('shap_values_beeswarm.png', format='png')\n",
        "\n",
        "# Görseli gösterin (isteğe bağlı)\n",
        "plt.show()"
      ],
      "metadata": {
        "colab": {
          "base_uri": "https://localhost:8080/",
          "height": 377
        },
        "id": "1f-Jg1bnkC3-",
        "outputId": "7d0f049a-c710-4fbb-bde9-88324dcf898a"
      },
      "execution_count": null,
      "outputs": [
        {
          "output_type": "display_data",
          "data": {
            "text/plain": [
              "<Figure size 800x350 with 2 Axes>"
            ],
            "image/png": "[encoded data removed]"
          },
          "metadata": {}
        },
        {
          "output_type": "display_data",
          "data": {
            "text/plain": [
              "<Figure size 640x480 with 0 Axes>"
            ]
          },
          "metadata": {}
        }
      ]
    },
    {
      "cell_type": "code",
      "source": [
        "shap.plots.bar(shap_values)\n",
        "plt.savefig('bar.png', format='png')"
      ],
      "metadata": {
        "colab": {
          "base_uri": "https://localhost:8080/",
          "height": 410
        },
        "id": "EKmM8T0SjQzC",
        "outputId": "51f1a392-9917-4cda-9081-a0cfc7837bdc"
      },
      "execution_count": null,
      "outputs": [
        {
          "output_type": "display_data",
          "data": {
            "text/plain": [
              "<Figure size 800x400 with 1 Axes>"
            ],
            "image/png": "[encoded data removed]"
          },
          "metadata": {}
        },
        {
          "output_type": "display_data",
          "data": {
            "text/plain": [
              "<Figure size 640x480 with 0 Axes>"
            ]
          },
          "metadata": {}
        }
      ]
    },
    {
      "cell_type": "code",
      "source": [
        "df_bebtrsiz=pd.read_excel('BEBTRSIZ2.xlsx', index_col='BINAKODU')\n",
        "df_bebtrsiz"
      ],
      "metadata": {
        "colab": {
          "base_uri": "https://localhost:8080/",
          "height": 475
        },
        "id": "sw1ZC0xnjQvp",
        "outputId": "a9c66d28-585c-45f8-eebf-fcd4373801ee"
      },
      "execution_count": null,
      "outputs": [
        {
          "output_type": "execute_result",
          "data": {
            "text/plain": [
              "           IBB_KIMLIK  ZEMINUSTUK  TOPLAM_KAT   TOPLAM_INS  KOMPAKTLIK  \\\n",
              "BINAKODU                                                                 \n",
              "100000041   120138421           8           9  1573.382834    0.655674   \n",
              "100000371   529048347           4           5   403.567984    0.979796   \n",
              "100000587   665293743           2           2   170.308782    1.069716   \n",
              "100001148   133001527           5           6   584.176419    0.918030   \n",
              "100001387   135026566           1           1    52.742200    1.448471   \n",
              "...               ...         ...         ...          ...         ...   \n",
              "779858547   529051845           8           9  5096.726824    0.396104   \n",
              "779895754   665116350           5           6   684.118514    0.896348   \n",
              "779931112   665269014           1           1    86.478102    1.200774   \n",
              "779940709   529080997           4           4   532.055415    0.865178   \n",
              "779988328   129000291           2           2   166.958452    1.051634   \n",
              "\n",
              "             EN_BOY  TABANALANI    bitisik  BITISIKENR  Brlsk_Oran  YAPI_CEVRE  \n",
              "BINAKODU                                                                        \n",
              "100000041  0.703872  174.820315   0.000000    0.000000    0.000000   53.670466  \n",
              "100000371  0.792093   80.713597   0.000000    0.000000    0.000000   36.178369  \n",
              "100000587  0.728023   85.154391   6.613662    0.172010   17.200992   38.449304  \n",
              "100001148  0.669065   97.362737   0.000000    0.000000    0.000000   41.445534  \n",
              "100001387  0.718601   52.742200   0.000000    0.000000    0.000000   29.407404  \n",
              "...             ...         ...        ...         ...         ...         ...  \n",
              "779858547  0.512213  566.302980   0.000000    0.000000    0.000000  100.359513  \n",
              "779895754  0.462027  114.019752   0.000000    0.000000    0.000000   47.300030  \n",
              "779931112  0.756405   86.478102   0.000000    0.000000    0.000000   37.507310  \n",
              "779940709  0.368538  133.013854   0.000000    0.000000    0.000000   51.998114  \n",
              "779988328  0.731960   83.479226  10.628052    0.287725   28.772532   36.938188  \n",
              "\n",
              "[713648 rows x 11 columns]"
            ],
            "text/html": [
              "\n",
              "  <div id=\"df-a6014290-e7d1-4e13-8cf0-53532b49a2ab\" class=\"colab-df-container\">\n",
              "    <div>\n",
              "<style scoped>\n",
              "    .dataframe tbody tr th:only-of-type {\n",
              "        vertical-align: middle;\n",
              "    }\n",
              "\n",
              "    .dataframe tbody tr th {\n",
              "        vertical-align: top;\n",
              "    }\n",
              "\n",
              "    .dataframe thead th {\n",
              "        text-align: right;\n",
              "    }\n",
              "</style>\n",
              "<table border=\"1\" class=\"dataframe\">\n",
              "  <thead>\n",
              "    <tr style=\"text-align: right;\">\n",
              "      <th></th>\n",
              "      <th>IBB_KIMLIK</th>\n",
              "      <th>ZEMINUSTUK</th>\n",
              "      <th>TOPLAM_KAT</th>\n",
              "      <th>TOPLAM_INS</th>\n",
              "      <th>KOMPAKTLIK</th>\n",
              "      <th>EN_BOY</th>\n",
              "      <th>TABANALANI</th>\n",
              "      <th>bitisik</th>\n",
              "      <th>BITISIKENR</th>\n",
              "      <th>Brlsk_Oran</th>\n",
              "      <th>YAPI_CEVRE</th>\n",
              "    </tr>\n",
              "    <tr>\n",
              "      <th>BINAKODU</th>\n",
              "      <th></th>\n",
              "      <th></th>\n",
              "      <th></th>\n",
              "      <th></th>\n",
              "      <th></th>\n",
              "      <th></th>\n",
              "      <th></th>\n",
              "      <th></th>\n",
              "      <th></th>\n",
              "      <th></th>\n",
              "      <th></th>\n",
              "    </tr>\n",
              "  </thead>\n",
              "  <tbody>\n",
              "    <tr>\n",
              "      <th>100000041</th>\n",
              "      <td>120138421</td>\n",
              "      <td>8</td>\n",
              "      <td>9</td>\n",
              "      <td>1573.382834</td>\n",
              "      <td>0.655674</td>\n",
              "      <td>0.703872</td>\n",
              "      <td>174.820315</td>\n",
              "      <td>0.000000</td>\n",
              "      <td>0.000000</td>\n",
              "      <td>0.000000</td>\n",
              "      <td>53.670466</td>\n",
              "    </tr>\n",
              "    <tr>\n",
              "      <th>100000371</th>\n",
              "      <td>529048347</td>\n",
              "      <td>4</td>\n",
              "      <td>5</td>\n",
              "      <td>403.567984</td>\n",
              "      <td>0.979796</td>\n",
              "      <td>0.792093</td>\n",
              "      <td>80.713597</td>\n",
              "      <td>0.000000</td>\n",
              "      <td>0.000000</td>\n",
              "      <td>0.000000</td>\n",
              "      <td>36.178369</td>\n",
              "    </tr>\n",
              "    <tr>\n",
              "      <th>100000587</th>\n",
              "      <td>665293743</td>\n",
              "      <td>2</td>\n",
              "      <td>2</td>\n",
              "      <td>170.308782</td>\n",
              "      <td>1.069716</td>\n",
              "      <td>0.728023</td>\n",
              "      <td>85.154391</td>\n",
              "      <td>6.613662</td>\n",
              "      <td>0.172010</td>\n",
              "      <td>17.200992</td>\n",
              "      <td>38.449304</td>\n",
              "    </tr>\n",
              "    <tr>\n",
              "      <th>100001148</th>\n",
              "      <td>133001527</td>\n",
              "      <td>5</td>\n",
              "      <td>6</td>\n",
              "      <td>584.176419</td>\n",
              "      <td>0.918030</td>\n",
              "      <td>0.669065</td>\n",
              "      <td>97.362737</td>\n",
              "      <td>0.000000</td>\n",
              "      <td>0.000000</td>\n",
              "      <td>0.000000</td>\n",
              "      <td>41.445534</td>\n",
              "    </tr>\n",
              "    <tr>\n",
              "      <th>100001387</th>\n",
              "      <td>135026566</td>\n",
              "      <td>1</td>\n",
              "      <td>1</td>\n",
              "      <td>52.742200</td>\n",
              "      <td>1.448471</td>\n",
              "      <td>0.718601</td>\n",
              "      <td>52.742200</td>\n",
              "      <td>0.000000</td>\n",
              "      <td>0.000000</td>\n",
              "      <td>0.000000</td>\n",
              "      <td>29.407404</td>\n",
              "    </tr>\n",
              "    <tr>\n",
              "      <th>...</th>\n",
              "      <td>...</td>\n",
              "      <td>...</td>\n",
              "      <td>...</td>\n",
              "      <td>...</td>\n",
              "      <td>...</td>\n",
              "      <td>...</td>\n",
              "      <td>...</td>\n",
              "      <td>...</td>\n",
              "      <td>...</td>\n",
              "      <td>...</td>\n",
              "      <td>...</td>\n",
              "    </tr>\n",
              "    <tr>\n",
              "      <th>779858547</th>\n",
              "      <td>529051845</td>\n",
              "      <td>8</td>\n",
              "      <td>9</td>\n",
              "      <td>5096.726824</td>\n",
              "      <td>0.396104</td>\n",
              "      <td>0.512213</td>\n",
              "      <td>566.302980</td>\n",
              "      <td>0.000000</td>\n",
              "      <td>0.000000</td>\n",
              "      <td>0.000000</td>\n",
              "      <td>100.359513</td>\n",
              "    </tr>\n",
              "    <tr>\n",
              "      <th>779895754</th>\n",
              "      <td>665116350</td>\n",
              "      <td>5</td>\n",
              "      <td>6</td>\n",
              "      <td>684.118514</td>\n",
              "      <td>0.896348</td>\n",
              "      <td>0.462027</td>\n",
              "      <td>114.019752</td>\n",
              "      <td>0.000000</td>\n",
              "      <td>0.000000</td>\n",
              "      <td>0.000000</td>\n",
              "      <td>47.300030</td>\n",
              "    </tr>\n",
              "    <tr>\n",
              "      <th>779931112</th>\n",
              "      <td>665269014</td>\n",
              "      <td>1</td>\n",
              "      <td>1</td>\n",
              "      <td>86.478102</td>\n",
              "      <td>1.200774</td>\n",
              "      <td>0.756405</td>\n",
              "      <td>86.478102</td>\n",
              "      <td>0.000000</td>\n",
              "      <td>0.000000</td>\n",
              "      <td>0.000000</td>\n",
              "      <td>37.507310</td>\n",
              "    </tr>\n",
              "    <tr>\n",
              "      <th>779940709</th>\n",
              "      <td>529080997</td>\n",
              "      <td>4</td>\n",
              "      <td>4</td>\n",
              "      <td>532.055415</td>\n",
              "      <td>0.865178</td>\n",
              "      <td>0.368538</td>\n",
              "      <td>133.013854</td>\n",
              "      <td>0.000000</td>\n",
              "      <td>0.000000</td>\n",
              "      <td>0.000000</td>\n",
              "      <td>51.998114</td>\n",
              "    </tr>\n",
              "    <tr>\n",
              "      <th>779988328</th>\n",
              "      <td>129000291</td>\n",
              "      <td>2</td>\n",
              "      <td>2</td>\n",
              "      <td>166.958452</td>\n",
              "      <td>1.051634</td>\n",
              "      <td>0.731960</td>\n",
              "      <td>83.479226</td>\n",
              "      <td>10.628052</td>\n",
              "      <td>0.287725</td>\n",
              "      <td>28.772532</td>\n",
              "      <td>36.938188</td>\n",
              "    </tr>\n",
              "  </tbody>\n",
              "</table>\n",
              "<p>713648 rows × 11 columns</p>\n",
              "</div>\n",
              "    <div class=\"colab-df-buttons\">\n",
              "\n",
              "  <div class=\"colab-df-container\">\n",
              "    <button class=\"colab-df-convert\" onclick=\"convertToInteractive('df-a6014290-e7d1-4e13-8cf0-53532b49a2ab')\"\n",
              "            title=\"Convert this dataframe to an interactive table.\"\n",
              "            style=\"display:none;\">\n",
              "\n",
              "  <svg xmlns=\"http://www.w3.org/2000/svg\" height=\"24px\" viewBox=\"0 -960 960 960\">\n",
              "    <path d=\"M120-120v-720h720v720H120Zm60-500h600v-160H180v160Zm220 220h160v-160H400v160Zm0 220h160v-160H400v160ZM180-400h160v-160H180v160Zm440 0h160v-160H620v160ZM180-180h160v-160H180v160Zm440 0h160v-160H620v160Z\"/>\n",
              "  </svg>\n",
              "    </button>\n",
              "\n",
              "  <style>\n",
              "    .colab-df-container {\n",
              "      display:flex;\n",
              "      gap: 12px;\n",
              "    }\n",
              "\n",
              "    .colab-df-convert {\n",
              "      background-color: #E8F0FE;\n",
              "      border: none;\n",
              "      border-radius: 50%;\n",
              "      cursor: pointer;\n",
              "      display: none;\n",
              "      fill: #1967D2;\n",
              "      height: 32px;\n",
              "      padding: 0 0 0 0;\n",
              "      width: 32px;\n",
              "    }\n",
              "\n",
              "    .colab-df-convert:hover {\n",
              "      background-color: #E2EBFA;\n",
              "      box-shadow: 0px 1px 2px rgba(60, 64, 67, 0.3), 0px 1px 3px 1px rgba(60, 64, 67, 0.15);\n",
              "      fill: #174EA6;\n",
              "    }\n",
              "\n",
              "    .colab-df-buttons div {\n",
              "      margin-bottom: 4px;\n",
              "    }\n",
              "\n",
              "    [theme=dark] .colab-df-convert {\n",
              "      background-color: #3B4455;\n",
              "      fill: #D2E3FC;\n",
              "    }\n",
              "\n",
              "    [theme=dark] .colab-df-convert:hover {\n",
              "      background-color: #434B5C;\n",
              "      box-shadow: 0px 1px 3px 1px rgba(0, 0, 0, 0.15);\n",
              "      filter: drop-shadow(0px 1px 2px rgba(0, 0, 0, 0.3));\n",
              "      fill: #FFFFFF;\n",
              "    }\n",
              "  </style>\n",
              "\n",
              "    <script>\n",
              "      const buttonEl =\n",
              "        document.querySelector('#df-a6014290-e7d1-4e13-8cf0-53532b49a2ab button.colab-df-convert');\n",
              "      buttonEl.style.display =\n",
              "        google.colab.kernel.accessAllowed ? 'block' : 'none';\n",
              "\n",
              "      async function convertToInteractive(key) {\n",
              "        const element = document.querySelector('#df-a6014290-e7d1-4e13-8cf0-53532b49a2ab');\n",
              "        const dataTable =\n",
              "          await google.colab.kernel.invokeFunction('convertToInteractive',\n",
              "                                                    [key], {});\n",
              "        if (!dataTable) return;\n",
              "\n",
              "        const docLinkHtml = 'Like what you see? Visit the ' +\n",
              "          '<a target=\"_blank\" href=https://colab.research.google.com/notebooks/data_table.ipynb>data table notebook</a>'\n",
              "          + ' to learn more about interactive tables.';\n",
              "        element.innerHTML = '';\n",
              "        dataTable['output_type'] = 'display_data';\n",
              "        await google.colab.output.renderOutput(dataTable, element);\n",
              "        const docLink = document.createElement('div');\n",
              "        docLink.innerHTML = docLinkHtml;\n",
              "        element.appendChild(docLink);\n",
              "      }\n",
              "    </script>\n",
              "  </div>\n",
              "\n",
              "\n",
              "<div id=\"df-7abfc034-417b-45d8-981d-f28913eb8575\">\n",
              "  <button class=\"colab-df-quickchart\" onclick=\"quickchart('df-7abfc034-417b-45d8-981d-f28913eb8575')\"\n",
              "            title=\"Suggest charts\"\n",
              "            style=\"display:none;\">\n",
              "\n",
              "<svg xmlns=\"http://www.w3.org/2000/svg\" height=\"24px\"viewBox=\"0 0 24 24\"\n",
              "     width=\"24px\">\n",
              "    <g>\n",
              "        <path d=\"M19 3H5c-1.1 0-2 .9-2 2v14c0 1.1.9 2 2 2h14c1.1 0 2-.9 2-2V5c0-1.1-.9-2-2-2zM9 17H7v-7h2v7zm4 0h-2V7h2v10zm4 0h-2v-4h2v4z\"/>\n",
              "    </g>\n",
              "</svg>\n",
              "  </button>\n",
              "\n",
              "<style>\n",
              "  .colab-df-quickchart {\n",
              "      --bg-color: #E8F0FE;\n",
              "      --fill-color: #1967D2;\n",
              "      --hover-bg-color: #E2EBFA;\n",
              "      --hover-fill-color: #174EA6;\n",
              "      --disabled-fill-color: #AAA;\n",
              "      --disabled-bg-color: #DDD;\n",
              "  }\n",
              "\n",
              "  [theme=dark] .colab-df-quickchart {\n",
              "      --bg-color: #3B4455;\n",
              "      --fill-color: #D2E3FC;\n",
              "      --hover-bg-color: #434B5C;\n",
              "      --hover-fill-color: #FFFFFF;\n",
              "      --disabled-bg-color: #3B4455;\n",
              "      --disabled-fill-color: #666;\n",
              "  }\n",
              "\n",
              "  .colab-df-quickchart {\n",
              "    background-color: var(--bg-color);\n",
              "    border: none;\n",
              "    border-radius: 50%;\n",
              "    cursor: pointer;\n",
              "    display: none;\n",
              "    fill: var(--fill-color);\n",
              "    height: 32px;\n",
              "    padding: 0;\n",
              "    width: 32px;\n",
              "  }\n",
              "\n",
              "  .colab-df-quickchart:hover {\n",
              "    background-color: var(--hover-bg-color);\n",
              "    box-shadow: 0 1px 2px rgba(60, 64, 67, 0.3), 0 1px 3px 1px rgba(60, 64, 67, 0.15);\n",
              "    fill: var(--button-hover-fill-color);\n",
              "  }\n",
              "\n",
              "  .colab-df-quickchart-complete:disabled,\n",
              "  .colab-df-quickchart-complete:disabled:hover {\n",
              "    background-color: var(--disabled-bg-color);\n",
              "    fill: var(--disabled-fill-color);\n",
              "    box-shadow: none;\n",
              "  }\n",
              "\n",
              "  .colab-df-spinner {\n",
              "    border: 2px solid var(--fill-color);\n",
              "    border-color: transparent;\n",
              "    border-bottom-color: var(--fill-color);\n",
              "    animation:\n",
              "      spin 1s steps(1) infinite;\n",
              "  }\n",
              "\n",
              "  @keyframes spin {\n",
              "    0% {\n",
              "      border-color: transparent;\n",
              "      border-bottom-color: var(--fill-color);\n",
              "      border-left-color: var(--fill-color);\n",
              "    }\n",
              "    20% {\n",
              "      border-color: transparent;\n",
              "      border-left-color: var(--fill-color);\n",
              "      border-top-color: var(--fill-color);\n",
              "    }\n",
              "    30% {\n",
              "      border-color: transparent;\n",
              "      border-left-color: var(--fill-color);\n",
              "      border-top-color: var(--fill-color);\n",
              "      border-right-color: var(--fill-color);\n",
              "    }\n",
              "    40% {\n",
              "      border-color: transparent;\n",
              "      border-right-color: var(--fill-color);\n",
              "      border-top-color: var(--fill-color);\n",
              "    }\n",
              "    60% {\n",
              "      border-color: transparent;\n",
              "      border-right-color: var(--fill-color);\n",
              "    }\n",
              "    80% {\n",
              "      border-color: transparent;\n",
              "      border-right-color: var(--fill-color);\n",
              "      border-bottom-color: var(--fill-color);\n",
              "    }\n",
              "    90% {\n",
              "      border-color: transparent;\n",
              "      border-bottom-color: var(--fill-color);\n",
              "    }\n",
              "  }\n",
              "</style>\n",
              "\n",
              "  <script>\n",
              "    async function quickchart(key) {\n",
              "      const quickchartButtonEl =\n",
              "        document.querySelector('#' + key + ' button');\n",
              "      quickchartButtonEl.disabled = true;  // To prevent multiple clicks.\n",
              "      quickchartButtonEl.classList.add('colab-df-spinner');\n",
              "      try {\n",
              "        const charts = await google.colab.kernel.invokeFunction(\n",
              "            'suggestCharts', [key], {});\n",
              "      } catch (error) {\n",
              "        console.error('Error during call to suggestCharts:', error);\n",
              "      }\n",
              "      quickchartButtonEl.classList.remove('colab-df-spinner');\n",
              "      quickchartButtonEl.classList.add('colab-df-quickchart-complete');\n",
              "    }\n",
              "    (() => {\n",
              "      let quickchartButtonEl =\n",
              "        document.querySelector('#df-7abfc034-417b-45d8-981d-f28913eb8575 button');\n",
              "      quickchartButtonEl.style.display =\n",
              "        google.colab.kernel.accessAllowed ? 'block' : 'none';\n",
              "    })();\n",
              "  </script>\n",
              "</div>\n",
              "\n",
              "  <div id=\"id_64d2decb-4a0c-457e-b011-9093d8ceb624\">\n",
              "    <style>\n",
              "      .colab-df-generate {\n",
              "        background-color: #E8F0FE;\n",
              "        border: none;\n",
              "        border-radius: 50%;\n",
              "        cursor: pointer;\n",
              "        display: none;\n",
              "        fill: #1967D2;\n",
              "        height: 32px;\n",
              "        padding: 0 0 0 0;\n",
              "        width: 32px;\n",
              "      }\n",
              "\n",
              "      .colab-df-generate:hover {\n",
              "        background-color: #E2EBFA;\n",
              "        box-shadow: 0px 1px 2px rgba(60, 64, 67, 0.3), 0px 1px 3px 1px rgba(60, 64, 67, 0.15);\n",
              "        fill: #174EA6;\n",
              "      }\n",
              "\n",
              "      [theme=dark] .colab-df-generate {\n",
              "        background-color: #3B4455;\n",
              "        fill: #D2E3FC;\n",
              "      }\n",
              "\n",
              "      [theme=dark] .colab-df-generate:hover {\n",
              "        background-color: #434B5C;\n",
              "        box-shadow: 0px 1px 3px 1px rgba(0, 0, 0, 0.15);\n",
              "        filter: drop-shadow(0px 1px 2px rgba(0, 0, 0, 0.3));\n",
              "        fill: #FFFFFF;\n",
              "      }\n",
              "    </style>\n",
              "    <button class=\"colab-df-generate\" onclick=\"generateWithVariable('df_bebtrsiz')\"\n",
              "            title=\"Generate code using this dataframe.\"\n",
              "            style=\"display:none;\">\n",
              "\n",
              "  <svg xmlns=\"http://www.w3.org/2000/svg\" height=\"24px\"viewBox=\"0 0 24 24\"\n",
              "       width=\"24px\">\n",
              "    <path d=\"M7,19H8.4L18.45,9,17,7.55,7,17.6ZM5,21V16.75L18.45,3.32a2,2,0,0,1,2.83,0l1.4,1.43a1.91,1.91,0,0,1,.58,1.4,1.91,1.91,0,0,1-.58,1.4L9.25,21ZM18.45,9,17,7.55Zm-12,3A5.31,5.31,0,0,0,4.9,8.1,5.31,5.31,0,0,0,1,6.5,5.31,5.31,0,0,0,4.9,4.9,5.31,5.31,0,0,0,6.5,1,5.31,5.31,0,0,0,8.1,4.9,5.31,5.31,0,0,0,12,6.5,5.46,5.46,0,0,0,6.5,12Z\"/>\n",
              "  </svg>\n",
              "    </button>\n",
              "    <script>\n",
              "      (() => {\n",
              "      const buttonEl =\n",
              "        document.querySelector('#id_64d2decb-4a0c-457e-b011-9093d8ceb624 button.colab-df-generate');\n",
              "      buttonEl.style.display =\n",
              "        google.colab.kernel.accessAllowed ? 'block' : 'none';\n",
              "\n",
              "      buttonEl.onclick = () => {\n",
              "        google.colab.notebook.generateWithVariable('df_bebtrsiz');\n",
              "      }\n",
              "      })();\n",
              "    </script>\n",
              "  </div>\n",
              "\n",
              "    </div>\n",
              "  </div>\n"
            ],
            "application/vnd.google.colaboratory.intrinsic+json": {
              "type": "dataframe",
              "variable_name": "df_bebtrsiz"
            }
          },
          "metadata": {},
          "execution_count": 32
        }
      ]
    },
    {
      "cell_type": "code",
      "source": [
        "#YAPI_SISTEM değişkenini dışarıda tutalım\n",
        "df_bebtrsiz = df_bebtrsiz.drop([\"IBB_KIMLIK\",\"ZEMINUSTUK\", \"TOPLAM_KAT\", \"bitisik\", \"BITISIKENR\", \"YAPI_CEVRE\"], axis = 1).astype(\"float64\")\n",
        "df_bebtrsiz"
      ],
      "metadata": {
        "colab": {
          "base_uri": "https://localhost:8080/",
          "height": 455
        },
        "id": "-tI4m9kokN0g",
        "outputId": "510cceaa-2060-4629-999b-b5232ad26e43"
      },
      "execution_count": null,
      "outputs": [
        {
          "output_type": "execute_result",
          "data": {
            "text/plain": [
              "            TOPLAM_INS  KOMPAKTLIK    EN_BOY  TABANALANI  Brlsk_Oran\n",
              "BINAKODU                                                            \n",
              "100000041  1573.382834    0.655674  0.703872  174.820315    0.000000\n",
              "100000371   403.567984    0.979796  0.792093   80.713597    0.000000\n",
              "100000587   170.308782    1.069716  0.728023   85.154391   17.200992\n",
              "100001148   584.176419    0.918030  0.669065   97.362737    0.000000\n",
              "100001387    52.742200    1.448471  0.718601   52.742200    0.000000\n",
              "...                ...         ...       ...         ...         ...\n",
              "779858547  5096.726824    0.396104  0.512213  566.302980    0.000000\n",
              "779895754   684.118514    0.896348  0.462027  114.019752    0.000000\n",
              "779931112    86.478102    1.200774  0.756405   86.478102    0.000000\n",
              "779940709   532.055415    0.865178  0.368538  133.013854    0.000000\n",
              "779988328   166.958452    1.051634  0.731960   83.479226   28.772532\n",
              "\n",
              "[713648 rows x 5 columns]"
            ],
            "text/html": [
              "\n",
              "  <div id=\"df-b4337ae8-b3b5-44de-819c-429508fa7390\" class=\"colab-df-container\">\n",
              "    <div>\n",
              "<style scoped>\n",
              "    .dataframe tbody tr th:only-of-type {\n",
              "        vertical-align: middle;\n",
              "    }\n",
              "\n",
              "    .dataframe tbody tr th {\n",
              "        vertical-align: top;\n",
              "    }\n",
              "\n",
              "    .dataframe thead th {\n",
              "        text-align: right;\n",
              "    }\n",
              "</style>\n",
              "<table border=\"1\" class=\"dataframe\">\n",
              "  <thead>\n",
              "    <tr style=\"text-align: right;\">\n",
              "      <th></th>\n",
              "      <th>TOPLAM_INS</th>\n",
              "      <th>KOMPAKTLIK</th>\n",
              "      <th>EN_BOY</th>\n",
              "      <th>TABANALANI</th>\n",
              "      <th>Brlsk_Oran</th>\n",
              "    </tr>\n",
              "    <tr>\n",
              "      <th>BINAKODU</th>\n",
              "      <th></th>\n",
              "      <th></th>\n",
              "      <th></th>\n",
              "      <th></th>\n",
              "      <th></th>\n",
              "    </tr>\n",
              "  </thead>\n",
              "  <tbody>\n",
              "    <tr>\n",
              "      <th>100000041</th>\n",
              "      <td>1573.382834</td>\n",
              "      <td>0.655674</td>\n",
              "      <td>0.703872</td>\n",
              "      <td>174.820315</td>\n",
              "      <td>0.000000</td>\n",
              "    </tr>\n",
              "    <tr>\n",
              "      <th>100000371</th>\n",
              "      <td>403.567984</td>\n",
              "      <td>0.979796</td>\n",
              "      <td>0.792093</td>\n",
              "      <td>80.713597</td>\n",
              "      <td>0.000000</td>\n",
              "    </tr>\n",
              "    <tr>\n",
              "      <th>100000587</th>\n",
              "      <td>170.308782</td>\n",
              "      <td>1.069716</td>\n",
              "      <td>0.728023</td>\n",
              "      <td>85.154391</td>\n",
              "      <td>17.200992</td>\n",
              "    </tr>\n",
              "    <tr>\n",
              "      <th>100001148</th>\n",
              "      <td>584.176419</td>\n",
              "      <td>0.918030</td>\n",
              "      <td>0.669065</td>\n",
              "      <td>97.362737</td>\n",
              "      <td>0.000000</td>\n",
              "    </tr>\n",
              "    <tr>\n",
              "      <th>100001387</th>\n",
              "      <td>52.742200</td>\n",
              "      <td>1.448471</td>\n",
              "      <td>0.718601</td>\n",
              "      <td>52.742200</td>\n",
              "      <td>0.000000</td>\n",
              "    </tr>\n",
              "    <tr>\n",
              "      <th>...</th>\n",
              "      <td>...</td>\n",
              "      <td>...</td>\n",
              "      <td>...</td>\n",
              "      <td>...</td>\n",
              "      <td>...</td>\n",
              "    </tr>\n",
              "    <tr>\n",
              "      <th>779858547</th>\n",
              "      <td>5096.726824</td>\n",
              "      <td>0.396104</td>\n",
              "      <td>0.512213</td>\n",
              "      <td>566.302980</td>\n",
              "      <td>0.000000</td>\n",
              "    </tr>\n",
              "    <tr>\n",
              "      <th>779895754</th>\n",
              "      <td>684.118514</td>\n",
              "      <td>0.896348</td>\n",
              "      <td>0.462027</td>\n",
              "      <td>114.019752</td>\n",
              "      <td>0.000000</td>\n",
              "    </tr>\n",
              "    <tr>\n",
              "      <th>779931112</th>\n",
              "      <td>86.478102</td>\n",
              "      <td>1.200774</td>\n",
              "      <td>0.756405</td>\n",
              "      <td>86.478102</td>\n",
              "      <td>0.000000</td>\n",
              "    </tr>\n",
              "    <tr>\n",
              "      <th>779940709</th>\n",
              "      <td>532.055415</td>\n",
              "      <td>0.865178</td>\n",
              "      <td>0.368538</td>\n",
              "      <td>133.013854</td>\n",
              "      <td>0.000000</td>\n",
              "    </tr>\n",
              "    <tr>\n",
              "      <th>779988328</th>\n",
              "      <td>166.958452</td>\n",
              "      <td>1.051634</td>\n",
              "      <td>0.731960</td>\n",
              "      <td>83.479226</td>\n",
              "      <td>28.772532</td>\n",
              "    </tr>\n",
              "  </tbody>\n",
              "</table>\n",
              "<p>713648 rows × 5 columns</p>\n",
              "</div>\n",
              "    <div class=\"colab-df-buttons\">\n",
              "\n",
              "  <div class=\"colab-df-container\">\n",
              "    <button class=\"colab-df-convert\" onclick=\"convertToInteractive('df-b4337ae8-b3b5-44de-819c-429508fa7390')\"\n",
              "            title=\"Convert this dataframe to an interactive table.\"\n",
              "            style=\"display:none;\">\n",
              "\n",
              "  <svg xmlns=\"http://www.w3.org/2000/svg\" height=\"24px\" viewBox=\"0 -960 960 960\">\n",
              "    <path d=\"M120-120v-720h720v720H120Zm60-500h600v-160H180v160Zm220 220h160v-160H400v160Zm0 220h160v-160H400v160ZM180-400h160v-160H180v160Zm440 0h160v-160H620v160ZM180-180h160v-160H180v160Zm440 0h160v-160H620v160Z\"/>\n",
              "  </svg>\n",
              "    </button>\n",
              "\n",
              "  <style>\n",
              "    .colab-df-container {\n",
              "      display:flex;\n",
              "      gap: 12px;\n",
              "    }\n",
              "\n",
              "    .colab-df-convert {\n",
              "      background-color: #E8F0FE;\n",
              "      border: none;\n",
              "      border-radius: 50%;\n",
              "      cursor: pointer;\n",
              "      display: none;\n",
              "      fill: #1967D2;\n",
              "      height: 32px;\n",
              "      padding: 0 0 0 0;\n",
              "      width: 32px;\n",
              "    }\n",
              "\n",
              "    .colab-df-convert:hover {\n",
              "      background-color: #E2EBFA;\n",
              "      box-shadow: 0px 1px 2px rgba(60, 64, 67, 0.3), 0px 1px 3px 1px rgba(60, 64, 67, 0.15);\n",
              "      fill: #174EA6;\n",
              "    }\n",
              "\n",
              "    .colab-df-buttons div {\n",
              "      margin-bottom: 4px;\n",
              "    }\n",
              "\n",
              "    [theme=dark] .colab-df-convert {\n",
              "      background-color: #3B4455;\n",
              "      fill: #D2E3FC;\n",
              "    }\n",
              "\n",
              "    [theme=dark] .colab-df-convert:hover {\n",
              "      background-color: #434B5C;\n",
              "      box-shadow: 0px 1px 3px 1px rgba(0, 0, 0, 0.15);\n",
              "      filter: drop-shadow(0px 1px 2px rgba(0, 0, 0, 0.3));\n",
              "      fill: #FFFFFF;\n",
              "    }\n",
              "  </style>\n",
              "\n",
              "    <script>\n",
              "      const buttonEl =\n",
              "        document.querySelector('#df-b4337ae8-b3b5-44de-819c-429508fa7390 button.colab-df-convert');\n",
              "      buttonEl.style.display =\n",
              "        google.colab.kernel.accessAllowed ? 'block' : 'none';\n",
              "\n",
              "      async function convertToInteractive(key) {\n",
              "        const element = document.querySelector('#df-b4337ae8-b3b5-44de-819c-429508fa7390');\n",
              "        const dataTable =\n",
              "          await google.colab.kernel.invokeFunction('convertToInteractive',\n",
              "                                                    [key], {});\n",
              "        if (!dataTable) return;\n",
              "\n",
              "        const docLinkHtml = 'Like what you see? Visit the ' +\n",
              "          '<a target=\"_blank\" href=https://colab.research.google.com/notebooks/data_table.ipynb>data table notebook</a>'\n",
              "          + ' to learn more about interactive tables.';\n",
              "        element.innerHTML = '';\n",
              "        dataTable['output_type'] = 'display_data';\n",
              "        await google.colab.output.renderOutput(dataTable, element);\n",
              "        const docLink = document.createElement('div');\n",
              "        docLink.innerHTML = docLinkHtml;\n",
              "        element.appendChild(docLink);\n",
              "      }\n",
              "    </script>\n",
              "  </div>\n",
              "\n",
              "\n",
              "<div id=\"df-d53f6d6b-af5f-45cc-920e-0225f99183f3\">\n",
              "  <button class=\"colab-df-quickchart\" onclick=\"quickchart('df-d53f6d6b-af5f-45cc-920e-0225f99183f3')\"\n",
              "            title=\"Suggest charts\"\n",
              "            style=\"display:none;\">\n",
              "\n",
              "<svg xmlns=\"http://www.w3.org/2000/svg\" height=\"24px\"viewBox=\"0 0 24 24\"\n",
              "     width=\"24px\">\n",
              "    <g>\n",
              "        <path d=\"M19 3H5c-1.1 0-2 .9-2 2v14c0 1.1.9 2 2 2h14c1.1 0 2-.9 2-2V5c0-1.1-.9-2-2-2zM9 17H7v-7h2v7zm4 0h-2V7h2v10zm4 0h-2v-4h2v4z\"/>\n",
              "    </g>\n",
              "</svg>\n",
              "  </button>\n",
              "\n",
              "<style>\n",
              "  .colab-df-quickchart {\n",
              "      --bg-color: #E8F0FE;\n",
              "      --fill-color: #1967D2;\n",
              "      --hover-bg-color: #E2EBFA;\n",
              "      --hover-fill-color: #174EA6;\n",
              "      --disabled-fill-color: #AAA;\n",
              "      --disabled-bg-color: #DDD;\n",
              "  }\n",
              "\n",
              "  [theme=dark] .colab-df-quickchart {\n",
              "      --bg-color: #3B4455;\n",
              "      --fill-color: #D2E3FC;\n",
              "      --hover-bg-color: #434B5C;\n",
              "      --hover-fill-color: #FFFFFF;\n",
              "      --disabled-bg-color: #3B4455;\n",
              "      --disabled-fill-color: #666;\n",
              "  }\n",
              "\n",
              "  .colab-df-quickchart {\n",
              "    background-color: var(--bg-color);\n",
              "    border: none;\n",
              "    border-radius: 50%;\n",
              "    cursor: pointer;\n",
              "    display: none;\n",
              "    fill: var(--fill-color);\n",
              "    height: 32px;\n",
              "    padding: 0;\n",
              "    width: 32px;\n",
              "  }\n",
              "\n",
              "  .colab-df-quickchart:hover {\n",
              "    background-color: var(--hover-bg-color);\n",
              "    box-shadow: 0 1px 2px rgba(60, 64, 67, 0.3), 0 1px 3px 1px rgba(60, 64, 67, 0.15);\n",
              "    fill: var(--button-hover-fill-color);\n",
              "  }\n",
              "\n",
              "  .colab-df-quickchart-complete:disabled,\n",
              "  .colab-df-quickchart-complete:disabled:hover {\n",
              "    background-color: var(--disabled-bg-color);\n",
              "    fill: var(--disabled-fill-color);\n",
              "    box-shadow: none;\n",
              "  }\n",
              "\n",
              "  .colab-df-spinner {\n",
              "    border: 2px solid var(--fill-color);\n",
              "    border-color: transparent;\n",
              "    border-bottom-color: var(--fill-color);\n",
              "    animation:\n",
              "      spin 1s steps(1) infinite;\n",
              "  }\n",
              "\n",
              "  @keyframes spin {\n",
              "    0% {\n",
              "      border-color: transparent;\n",
              "      border-bottom-color: var(--fill-color);\n",
              "      border-left-color: var(--fill-color);\n",
              "    }\n",
              "    20% {\n",
              "      border-color: transparent;\n",
              "      border-left-color: var(--fill-color);\n",
              "      border-top-color: var(--fill-color);\n",
              "    }\n",
              "    30% {\n",
              "      border-color: transparent;\n",
              "      border-left-color: var(--fill-color);\n",
              "      border-top-color: var(--fill-color);\n",
              "      border-right-color: var(--fill-color);\n",
              "    }\n",
              "    40% {\n",
              "      border-color: transparent;\n",
              "      border-right-color: var(--fill-color);\n",
              "      border-top-color: var(--fill-color);\n",
              "    }\n",
              "    60% {\n",
              "      border-color: transparent;\n",
              "      border-right-color: var(--fill-color);\n",
              "    }\n",
              "    80% {\n",
              "      border-color: transparent;\n",
              "      border-right-color: var(--fill-color);\n",
              "      border-bottom-color: var(--fill-color);\n",
              "    }\n",
              "    90% {\n",
              "      border-color: transparent;\n",
              "      border-bottom-color: var(--fill-color);\n",
              "    }\n",
              "  }\n",
              "</style>\n",
              "\n",
              "  <script>\n",
              "    async function quickchart(key) {\n",
              "      const quickchartButtonEl =\n",
              "        document.querySelector('#' + key + ' button');\n",
              "      quickchartButtonEl.disabled = true;  // To prevent multiple clicks.\n",
              "      quickchartButtonEl.classList.add('colab-df-spinner');\n",
              "      try {\n",
              "        const charts = await google.colab.kernel.invokeFunction(\n",
              "            'suggestCharts', [key], {});\n",
              "      } catch (error) {\n",
              "        console.error('Error during call to suggestCharts:', error);\n",
              "      }\n",
              "      quickchartButtonEl.classList.remove('colab-df-spinner');\n",
              "      quickchartButtonEl.classList.add('colab-df-quickchart-complete');\n",
              "    }\n",
              "    (() => {\n",
              "      let quickchartButtonEl =\n",
              "        document.querySelector('#df-d53f6d6b-af5f-45cc-920e-0225f99183f3 button');\n",
              "      quickchartButtonEl.style.display =\n",
              "        google.colab.kernel.accessAllowed ? 'block' : 'none';\n",
              "    })();\n",
              "  </script>\n",
              "</div>\n",
              "\n",
              "  <div id=\"id_6d04cf2e-a47e-4efa-b3da-4118b9962fe3\">\n",
              "    <style>\n",
              "      .colab-df-generate {\n",
              "        background-color: #E8F0FE;\n",
              "        border: none;\n",
              "        border-radius: 50%;\n",
              "        cursor: pointer;\n",
              "        display: none;\n",
              "        fill: #1967D2;\n",
              "        height: 32px;\n",
              "        padding: 0 0 0 0;\n",
              "        width: 32px;\n",
              "      }\n",
              "\n",
              "      .colab-df-generate:hover {\n",
              "        background-color: #E2EBFA;\n",
              "        box-shadow: 0px 1px 2px rgba(60, 64, 67, 0.3), 0px 1px 3px 1px rgba(60, 64, 67, 0.15);\n",
              "        fill: #174EA6;\n",
              "      }\n",
              "\n",
              "      [theme=dark] .colab-df-generate {\n",
              "        background-color: #3B4455;\n",
              "        fill: #D2E3FC;\n",
              "      }\n",
              "\n",
              "      [theme=dark] .colab-df-generate:hover {\n",
              "        background-color: #434B5C;\n",
              "        box-shadow: 0px 1px 3px 1px rgba(0, 0, 0, 0.15);\n",
              "        filter: drop-shadow(0px 1px 2px rgba(0, 0, 0, 0.3));\n",
              "        fill: #FFFFFF;\n",
              "      }\n",
              "    </style>\n",
              "    <button class=\"colab-df-generate\" onclick=\"generateWithVariable('df_bebtrsiz')\"\n",
              "            title=\"Generate code using this dataframe.\"\n",
              "            style=\"display:none;\">\n",
              "\n",
              "  <svg xmlns=\"http://www.w3.org/2000/svg\" height=\"24px\"viewBox=\"0 0 24 24\"\n",
              "       width=\"24px\">\n",
              "    <path d=\"M7,19H8.4L18.45,9,17,7.55,7,17.6ZM5,21V16.75L18.45,3.32a2,2,0,0,1,2.83,0l1.4,1.43a1.91,1.91,0,0,1,.58,1.4,1.91,1.91,0,0,1-.58,1.4L9.25,21ZM18.45,9,17,7.55Zm-12,3A5.31,5.31,0,0,0,4.9,8.1,5.31,5.31,0,0,0,1,6.5,5.31,5.31,0,0,0,4.9,4.9,5.31,5.31,0,0,0,6.5,1,5.31,5.31,0,0,0,8.1,4.9,5.31,5.31,0,0,0,12,6.5,5.46,5.46,0,0,0,6.5,12Z\"/>\n",
              "  </svg>\n",
              "    </button>\n",
              "    <script>\n",
              "      (() => {\n",
              "      const buttonEl =\n",
              "        document.querySelector('#id_6d04cf2e-a47e-4efa-b3da-4118b9962fe3 button.colab-df-generate');\n",
              "      buttonEl.style.display =\n",
              "        google.colab.kernel.accessAllowed ? 'block' : 'none';\n",
              "\n",
              "      buttonEl.onclick = () => {\n",
              "        google.colab.notebook.generateWithVariable('df_bebtrsiz');\n",
              "      }\n",
              "      })();\n",
              "    </script>\n",
              "  </div>\n",
              "\n",
              "    </div>\n",
              "  </div>\n"
            ],
            "application/vnd.google.colaboratory.intrinsic+json": {
              "type": "dataframe",
              "variable_name": "df_bebtrsiz"
            }
          },
          "metadata": {},
          "execution_count": 33
        }
      ]
    },
    {
      "cell_type": "code",
      "source": [
        "# Min-max scaler'ı tanımla\n",
        "scaler = MinMaxScaler()\n",
        "\n",
        "# Ölçekleyiciyi eğitin\n",
        "scaler.fit(df_bebtrsiz)\n",
        "\n",
        "# Veri setini ölçekle\n",
        "df_bebtrsiz_scaled = scaler.transform(df_bebtrsiz)"
      ],
      "metadata": {
        "id": "Kw8dF3DwmkmQ"
      },
      "execution_count": null,
      "outputs": []
    },
    {
      "cell_type": "code",
      "source": [
        "df_bebtrsiz_scaled = pd.DataFrame(df_bebtrsiz_scaled, columns=df_bebtrsiz.columns, index=df_bebtrsiz.index)"
      ],
      "metadata": {
        "id": "oinG0yNHmkiz"
      },
      "execution_count": null,
      "outputs": []
    },
    {
      "cell_type": "code",
      "source": [
        "enerji_tahmin= model.predict(df_bebtrsiz_scaled )"
      ],
      "metadata": {
        "colab": {
          "base_uri": "https://localhost:8080/"
        },
        "id": "thMaXYIVmkgN",
        "outputId": "a545e855-bb7f-400d-f38a-24e835e7655d"
      },
      "execution_count": null,
      "outputs": [
        {
          "output_type": "stream",
          "name": "stdout",
          "text": [
            "22302/22302 [==============================] - 47s 2ms/step\n"
          ]
        }
      ]
    },
    {
      "cell_type": "code",
      "source": [
        "np.exp(enerji_tahmin)"
      ],
      "metadata": {
        "colab": {
          "base_uri": "https://localhost:8080/"
        },
        "id": "m_CJS2QFmtsm",
        "outputId": "b44defcb-97fe-441d-825b-877e1432a1b4"
      },
      "execution_count": null,
      "outputs": [
        {
          "output_type": "execute_result",
          "data": {
            "text/plain": [
              "array([[193447.2 ],\n",
              "       [171126.22],\n",
              "       [160785.19],\n",
              "       ...,\n",
              "       [158480.03],\n",
              "       [215563.45],\n",
              "       [150074.94]], dtype=float32)"
            ]
          },
          "metadata": {},
          "execution_count": 37
        }
      ]
    },
    {
      "cell_type": "code",
      "source": [
        "#Tahmin edilen değerlerle DataFrame oluştur\n",
        "enerji_tahmin_df = pd.DataFrame(np.exp(enerji_tahmin), columns=[\"ENERJI\"], index=df_bebtrsiz.index)\n",
        "\n",
        "# DataFrame'i yeniden oluştururken indeksi tekrar ekleyin\n",
        "print(enerji_tahmin_df)"
      ],
      "metadata": {
        "colab": {
          "base_uri": "https://localhost:8080/"
        },
        "id": "w9TTV3OEpmy2",
        "outputId": "4da17232-0765-4c44-fc59-040701df42e6"
      },
      "execution_count": null,
      "outputs": [
        {
          "output_type": "stream",
          "name": "stdout",
          "text": [
            "                  ENERJI\n",
            "BINAKODU                \n",
            "100000041  193447.203125\n",
            "100000371  171126.218750\n",
            "100000587  160785.187500\n",
            "100001148  178647.562500\n",
            "100001387  143766.265625\n",
            "...                  ...\n",
            "779858547  213403.468750\n",
            "779895754  198723.140625\n",
            "779931112  158480.031250\n",
            "779940709  215563.453125\n",
            "779988328  150074.937500\n",
            "\n",
            "[713648 rows x 1 columns]\n"
          ]
        }
      ]
    },
    {
      "cell_type": "code",
      "source": [
        "enerji_tahmin_df.to_excel('ENERJI_TAHMIN_YAPIMSISTEMLI3.xlsx')"
      ],
      "metadata": {
        "id": "70XSQDCSmtpA"
      },
      "execution_count": null,
      "outputs": []
    },
    {
      "cell_type": "code",
      "source": [
        "enerji_tahmin_df.to_csv('ENERJI_TAHMIN_YAPIMSISTEMLI2.csv')"
      ],
      "metadata": {
        "id": "UDw7eXbpoPqN"
      },
      "execution_count": null,
      "outputs": []
    },
    {
      "cell_type": "code",
      "source": [
        "X_train_first_10 = X_train[:10]\n",
        "X_train_first_10"
      ],
      "metadata": {
        "colab": {
          "base_uri": "https://localhost:8080/"
        },
        "id": "w2w1ptX4oU1R",
        "outputId": "6b891eda-ba06-46df-f812-a6009cf4fb79"
      },
      "execution_count": null,
      "outputs": [
        {
          "output_type": "execute_result",
          "data": {
            "text/plain": [
              "array([[0.08726787, 0.37430746, 0.66626269, 0.06944149, 0.        ],\n",
              "       [0.12353372, 0.19302552, 0.75795283, 0.13402709, 0.        ],\n",
              "       [0.03576289, 0.47514648, 0.33814838, 0.03938314, 0.43939394],\n",
              "       [0.02418993, 0.57461279, 0.64525655, 0.03851643, 0.        ],\n",
              "       [0.03588675, 0.47778213, 0.40996217, 0.03957412, 0.        ],\n",
              "       [0.2401658 , 0.19463213, 0.19879752, 0.19021403, 0.        ],\n",
              "       [0.10409219, 0.29840376, 0.718769  , 0.07015226, 0.        ],\n",
              "       [0.04519477, 0.38295244, 0.84896285, 0.05394663, 0.        ],\n",
              "       [0.37878588, 0.14354759, 0.54318767, 0.14151312, 0.        ],\n",
              "       [0.05923977, 0.35364088, 0.64881781, 0.05460723, 0.        ]])"
            ]
          },
          "metadata": {},
          "execution_count": 45
        }
      ]
    },
    {
      "cell_type": "code",
      "source": [
        "enerji_tahmin_YENİ= model.predict(X_train_first_10)\n",
        "enerji_tahmin_YENİ"
      ],
      "metadata": {
        "colab": {
          "base_uri": "https://localhost:8080/"
        },
        "id": "DNF2OMXcoUx2",
        "outputId": "0b57e478-9384-4683-baff-a049b0859206"
      },
      "execution_count": null,
      "outputs": [
        {
          "output_type": "stream",
          "name": "stdout",
          "text": [
            "1/1 [==============================] - 0s 28ms/step\n"
          ]
        },
        {
          "output_type": "execute_result",
          "data": {
            "text/plain": [
              "array([[11.3535595],\n",
              "       [11.745943 ],\n",
              "       [11.116657 ],\n",
              "       [10.650715 ],\n",
              "       [10.940242 ],\n",
              "       [12.171573 ],\n",
              "       [11.620218 ],\n",
              "       [11.015587 ],\n",
              "       [12.666957 ],\n",
              "       [11.29735  ]], dtype=float32)"
            ]
          },
          "metadata": {},
          "execution_count": 46
        }
      ]
    },
    {
      "cell_type": "code",
      "source": [
        "np.exp(enerji_tahmin_YENİ)"
      ],
      "metadata": {
        "colab": {
          "base_uri": "https://localhost:8080/"
        },
        "id": "IEMQusBQoUvG",
        "outputId": "6b229e5d-2170-4282-dea2-6281abc5b1ac"
      },
      "execution_count": null,
      "outputs": [
        {
          "output_type": "execute_result",
          "data": {
            "text/plain": [
              "array([[ 85268.42 ],\n",
              "       [126240.37 ],\n",
              "       [ 67282.625],\n",
              "       [ 42222.766],\n",
              "       [ 56400.98 ],\n",
              "       [193217.66 ],\n",
              "       [111326.02 ],\n",
              "       [ 60814.703],\n",
              "       [317095.06 ],\n",
              "       [ 80607.74 ]], dtype=float32)"
            ]
          },
          "metadata": {},
          "execution_count": 47
        }
      ]
    },
    {
      "cell_type": "code",
      "source": [
        " y_train[:10]"
      ],
      "metadata": {
        "colab": {
          "base_uri": "https://localhost:8080/"
        },
        "id": "EsAZYLGJseTL",
        "outputId": "cb21a313-258a-4c05-c21e-217ca077c05a"
      },
      "execution_count": null,
      "outputs": [
        {
          "output_type": "execute_result",
          "data": {
            "text/plain": [
              "array([10.45917829, 11.70026604, 10.9845727 , 10.99963286, 10.32199665,\n",
              "       12.18458168, 11.56490465, 10.90286864, 12.42385025, 11.11105926])"
            ]
          },
          "metadata": {},
          "execution_count": 48
        }
      ]
    },
    {
      "cell_type": "code",
      "source": [
        "np.exp(y_train[:10])"
      ],
      "metadata": {
        "colab": {
          "base_uri": "https://localhost:8080/"
        },
        "id": "CmTzqgIUsuDy",
        "outputId": "4fee19f0-787d-4fce-885a-22895e858d30"
      },
      "execution_count": null,
      "outputs": [
        {
          "output_type": "execute_result",
          "data": {
            "text/plain": [
              "array([ 34862.89248, 120603.7959 ,  58957.53405,  59852.16352,\n",
              "        30393.88304, 195747.6647 , 105335.3814 ,  54331.99967,\n",
              "       248662.1064 ,  66907.02584])"
            ]
          },
          "metadata": {},
          "execution_count": 49
        }
      ]
    }
  ]
}